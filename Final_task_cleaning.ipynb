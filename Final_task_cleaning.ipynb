{
  "cells": [
    {
      "cell_type": "markdown",
      "metadata": {
        "id": "gNEgnQ91vzEQ"
      },
      "source": [
        "# **Чистка и предобработка данных**"
      ]
    },
    {
      "cell_type": "code",
      "execution_count": 234,
      "metadata": {
        "id": "GggWgzEUtqW0"
      },
      "outputs": [],
      "source": [
        "import pandas as pd  #импорт библиотек\n",
        "import numpy as np\n",
        "import matplotlib.pyplot as plt\n",
        "import seaborn as sns\n",
        "import re"
      ]
    },
    {
      "cell_type": "code",
      "execution_count": 235,
      "metadata": {
        "colab": {
          "base_uri": "https://localhost:8080/"
        },
        "id": "Pbv2nERKuiv5",
        "outputId": "c54f79f3-1d0b-435b-b9ce-2f48567ed00a"
      },
      "outputs": [
        {
          "output_type": "stream",
          "name": "stdout",
          "text": [
            "/usr/local/lib/python3.10/dist-packages/gdown/cli.py:121: FutureWarning: Option `--id` was deprecated in version 4.3.1 and will be removed in 5.0. You don't need to pass it anymore to use a file ID.\n",
            "  warnings.warn(\n",
            "Downloading...\n",
            "From: https://drive.google.com/uc?id=19nyWryasWInDpH_4la_wA4E11LmF_U0R\n",
            "To: /content/final_task.csv\n",
            "100% 3.97M/3.97M [00:00<00:00, 194MB/s]\n"
          ]
        }
      ],
      "source": [
        "# загрузка файла\n",
        "!gdown --id 19nyWryasWInDpH_4la_wA4E11LmF_U0R # загрузка файла"
      ]
    },
    {
      "cell_type": "code",
      "execution_count": 236,
      "metadata": {
        "colab": {
          "base_uri": "https://localhost:8080/",
          "height": 694
        },
        "id": "IDVouKCHu7So",
        "outputId": "455c326e-2684-45d2-809f-e3c558182691"
      },
      "outputs": [
        {
          "output_type": "execute_result",
          "data": {
            "text/plain": [
              "   product_id                                              title   price  \\\n",
              "0    10148385  Системный блок OFFICE 120 WB 0710623 J1800/4Gb...  10805₽   \n",
              "1    17877962                                     Системный блок  32900₽   \n",
              "2    17880420                     Компьютер Hp Prodesk 400 g6 mt  35720₽   \n",
              "3    19347937            Офисный Компьютер Robotcomp Казначей V1  39237₽   \n",
              "4    19348951             Игровой Компьютер Robotcomp М16 2.0 V1  76188₽   \n",
              "\n",
              "                  sales   feedbacks     seller  seller_rating  \\\n",
              "0  Купили более 400 раз   7 отзывов        NaN            NaN   \n",
              "1                   NaN   0 отзывов        NaN            NaN   \n",
              "2                   NaN   0 отзывов        NaN            NaN   \n",
              "3   Купили более 10 раз     1 отзыв  Robotcomp            4.7   \n",
              "4  Купили более 200 раз   94 отзыва  Robotcomp            4.7   \n",
              "\n",
              "                                           Процессор  \\\n",
              "0  {'Процессор_тип': 'Intel Celeron', 'Количество...   \n",
              "1  {'Процессор_тип': 'Intel Core i5', 'Количество...   \n",
              "2  {'Процессор_тип': 'не заполнено', 'Количество ...   \n",
              "3  {'Процессор_тип': 'Intel Core i5', 'Количество...   \n",
              "4  {'Процессор_тип': 'Intel Core i5', 'Количество...   \n",
              "\n",
              "                                  Оперативная память  \\\n",
              "0  {'Тип оперативной памяти': 'DDR 3', 'Объем опе...   \n",
              "1  {'Тип оперативной памяти': 'не заполнено', 'Об...   \n",
              "2  {'Тип оперативной памяти': 'не заполнено', 'Об...   \n",
              "3  {'Тип оперативной памяти': 'DDR 4', 'Объем опе...   \n",
              "4  {'Тип оперативной памяти': 'DDR 4', 'Объем опе...   \n",
              "\n",
              "                                        Жесткий диск           Видеопроцессор  \\\n",
              "0  {'Объем накопителя HDD': None, 'Объем накопите...        Intel HD Graphics   \n",
              "1  {'Объем накопителя HDD': None, 'Объем накопите...             не заполнено   \n",
              "2  {'Объем накопителя HDD': None, 'Объем накопите...             не заполнено   \n",
              "3  {'Объем накопителя HDD': None, 'Объем накопите...   Intel UHD Graphics 630   \n",
              "4  {'Объем накопителя HDD': None, 'Объем накопите...  NVIDIA GeForce GTX 1660   \n",
              "\n",
              "  Операционная система     Гарантийный срок Страна производства  \\\n",
              "0          отсутствует                3года              Россия   \n",
              "1          отсутствует                  NaN               Китай   \n",
              "2          отсутствует                  NaN                 NaN   \n",
              "3      windows пробная  3 Года (36 месяцев)              Россия   \n",
              "4      windows пробная  3 Года (36 месяцев)              Россия   \n",
              "\n",
              "                                     Габариты товара  \\\n",
              "0  {'Ширина предмета': '28.5 см', 'Глубина предме...   \n",
              "1  {'Ширина предмета': None, 'Глубина предмета': ...   \n",
              "2  {'Ширина предмета': None, 'Глубина предмета': ...   \n",
              "3  {'Ширина предмета': '28 см', 'Глубина предмета...   \n",
              "4  {'Ширина предмета': '20 см', 'Глубина предмета...   \n",
              "\n",
              "                       Габариты товара (с упаковкой)  \n",
              "0  {'Длина упаковки': '43.5 см', 'Ширина упаковки...  \n",
              "1  {'Длина упаковки': '43 см', 'Ширина упаковки':...  \n",
              "2  {'Длина упаковки': None, 'Ширина упаковки': No...  \n",
              "3  {'Длина упаковки': '60 см', 'Ширина упаковки':...  \n",
              "4  {'Длина упаковки': '50 см', 'Ширина упаковки':...  "
            ],
            "text/html": [
              "\n",
              "  <div id=\"df-e589f7b7-3097-4082-be24-21b26eb91b09\" class=\"colab-df-container\">\n",
              "    <div>\n",
              "<style scoped>\n",
              "    .dataframe tbody tr th:only-of-type {\n",
              "        vertical-align: middle;\n",
              "    }\n",
              "\n",
              "    .dataframe tbody tr th {\n",
              "        vertical-align: top;\n",
              "    }\n",
              "\n",
              "    .dataframe thead th {\n",
              "        text-align: right;\n",
              "    }\n",
              "</style>\n",
              "<table border=\"1\" class=\"dataframe\">\n",
              "  <thead>\n",
              "    <tr style=\"text-align: right;\">\n",
              "      <th></th>\n",
              "      <th>product_id</th>\n",
              "      <th>title</th>\n",
              "      <th>price</th>\n",
              "      <th>sales</th>\n",
              "      <th>feedbacks</th>\n",
              "      <th>seller</th>\n",
              "      <th>seller_rating</th>\n",
              "      <th>Процессор</th>\n",
              "      <th>Оперативная память</th>\n",
              "      <th>Жесткий диск</th>\n",
              "      <th>Видеопроцессор</th>\n",
              "      <th>Операционная система</th>\n",
              "      <th>Гарантийный срок</th>\n",
              "      <th>Страна производства</th>\n",
              "      <th>Габариты товара</th>\n",
              "      <th>Габариты товара (с упаковкой)</th>\n",
              "    </tr>\n",
              "  </thead>\n",
              "  <tbody>\n",
              "    <tr>\n",
              "      <th>0</th>\n",
              "      <td>10148385</td>\n",
              "      <td>Системный блок OFFICE 120 WB 0710623 J1800/4Gb...</td>\n",
              "      <td>10805₽</td>\n",
              "      <td>Купили более 400 раз</td>\n",
              "      <td>7 отзывов</td>\n",
              "      <td>NaN</td>\n",
              "      <td>NaN</td>\n",
              "      <td>{'Процессор_тип': 'Intel Celeron', 'Количество...</td>\n",
              "      <td>{'Тип оперативной памяти': 'DDR 3', 'Объем опе...</td>\n",
              "      <td>{'Объем накопителя HDD': None, 'Объем накопите...</td>\n",
              "      <td>Intel HD Graphics</td>\n",
              "      <td>отсутствует</td>\n",
              "      <td>3года</td>\n",
              "      <td>Россия</td>\n",
              "      <td>{'Ширина предмета': '28.5 см', 'Глубина предме...</td>\n",
              "      <td>{'Длина упаковки': '43.5 см', 'Ширина упаковки...</td>\n",
              "    </tr>\n",
              "    <tr>\n",
              "      <th>1</th>\n",
              "      <td>17877962</td>\n",
              "      <td>Системный блок</td>\n",
              "      <td>32900₽</td>\n",
              "      <td>NaN</td>\n",
              "      <td>0 отзывов</td>\n",
              "      <td>NaN</td>\n",
              "      <td>NaN</td>\n",
              "      <td>{'Процессор_тип': 'Intel Core i5', 'Количество...</td>\n",
              "      <td>{'Тип оперативной памяти': 'не заполнено', 'Об...</td>\n",
              "      <td>{'Объем накопителя HDD': None, 'Объем накопите...</td>\n",
              "      <td>не заполнено</td>\n",
              "      <td>отсутствует</td>\n",
              "      <td>NaN</td>\n",
              "      <td>Китай</td>\n",
              "      <td>{'Ширина предмета': None, 'Глубина предмета': ...</td>\n",
              "      <td>{'Длина упаковки': '43 см', 'Ширина упаковки':...</td>\n",
              "    </tr>\n",
              "    <tr>\n",
              "      <th>2</th>\n",
              "      <td>17880420</td>\n",
              "      <td>Компьютер Hp Prodesk 400 g6 mt</td>\n",
              "      <td>35720₽</td>\n",
              "      <td>NaN</td>\n",
              "      <td>0 отзывов</td>\n",
              "      <td>NaN</td>\n",
              "      <td>NaN</td>\n",
              "      <td>{'Процессор_тип': 'не заполнено', 'Количество ...</td>\n",
              "      <td>{'Тип оперативной памяти': 'не заполнено', 'Об...</td>\n",
              "      <td>{'Объем накопителя HDD': None, 'Объем накопите...</td>\n",
              "      <td>не заполнено</td>\n",
              "      <td>отсутствует</td>\n",
              "      <td>NaN</td>\n",
              "      <td>NaN</td>\n",
              "      <td>{'Ширина предмета': None, 'Глубина предмета': ...</td>\n",
              "      <td>{'Длина упаковки': None, 'Ширина упаковки': No...</td>\n",
              "    </tr>\n",
              "    <tr>\n",
              "      <th>3</th>\n",
              "      <td>19347937</td>\n",
              "      <td>Офисный Компьютер Robotcomp Казначей V1</td>\n",
              "      <td>39237₽</td>\n",
              "      <td>Купили более 10 раз</td>\n",
              "      <td>1 отзыв</td>\n",
              "      <td>Robotcomp</td>\n",
              "      <td>4.7</td>\n",
              "      <td>{'Процессор_тип': 'Intel Core i5', 'Количество...</td>\n",
              "      <td>{'Тип оперативной памяти': 'DDR 4', 'Объем опе...</td>\n",
              "      <td>{'Объем накопителя HDD': None, 'Объем накопите...</td>\n",
              "      <td>Intel UHD Graphics 630</td>\n",
              "      <td>windows пробная</td>\n",
              "      <td>3 Года (36 месяцев)</td>\n",
              "      <td>Россия</td>\n",
              "      <td>{'Ширина предмета': '28 см', 'Глубина предмета...</td>\n",
              "      <td>{'Длина упаковки': '60 см', 'Ширина упаковки':...</td>\n",
              "    </tr>\n",
              "    <tr>\n",
              "      <th>4</th>\n",
              "      <td>19348951</td>\n",
              "      <td>Игровой Компьютер Robotcomp М16 2.0 V1</td>\n",
              "      <td>76188₽</td>\n",
              "      <td>Купили более 200 раз</td>\n",
              "      <td>94 отзыва</td>\n",
              "      <td>Robotcomp</td>\n",
              "      <td>4.7</td>\n",
              "      <td>{'Процессор_тип': 'Intel Core i5', 'Количество...</td>\n",
              "      <td>{'Тип оперативной памяти': 'DDR 4', 'Объем опе...</td>\n",
              "      <td>{'Объем накопителя HDD': None, 'Объем накопите...</td>\n",
              "      <td>NVIDIA GeForce GTX 1660</td>\n",
              "      <td>windows пробная</td>\n",
              "      <td>3 Года (36 месяцев)</td>\n",
              "      <td>Россия</td>\n",
              "      <td>{'Ширина предмета': '20 см', 'Глубина предмета...</td>\n",
              "      <td>{'Длина упаковки': '50 см', 'Ширина упаковки':...</td>\n",
              "    </tr>\n",
              "  </tbody>\n",
              "</table>\n",
              "</div>\n",
              "    <div class=\"colab-df-buttons\">\n",
              "\n",
              "  <div class=\"colab-df-container\">\n",
              "    <button class=\"colab-df-convert\" onclick=\"convertToInteractive('df-e589f7b7-3097-4082-be24-21b26eb91b09')\"\n",
              "            title=\"Convert this dataframe to an interactive table.\"\n",
              "            style=\"display:none;\">\n",
              "\n",
              "  <svg xmlns=\"http://www.w3.org/2000/svg\" height=\"24px\" viewBox=\"0 -960 960 960\">\n",
              "    <path d=\"M120-120v-720h720v720H120Zm60-500h600v-160H180v160Zm220 220h160v-160H400v160Zm0 220h160v-160H400v160ZM180-400h160v-160H180v160Zm440 0h160v-160H620v160ZM180-180h160v-160H180v160Zm440 0h160v-160H620v160Z\"/>\n",
              "  </svg>\n",
              "    </button>\n",
              "\n",
              "  <style>\n",
              "    .colab-df-container {\n",
              "      display:flex;\n",
              "      gap: 12px;\n",
              "    }\n",
              "\n",
              "    .colab-df-convert {\n",
              "      background-color: #E8F0FE;\n",
              "      border: none;\n",
              "      border-radius: 50%;\n",
              "      cursor: pointer;\n",
              "      display: none;\n",
              "      fill: #1967D2;\n",
              "      height: 32px;\n",
              "      padding: 0 0 0 0;\n",
              "      width: 32px;\n",
              "    }\n",
              "\n",
              "    .colab-df-convert:hover {\n",
              "      background-color: #E2EBFA;\n",
              "      box-shadow: 0px 1px 2px rgba(60, 64, 67, 0.3), 0px 1px 3px 1px rgba(60, 64, 67, 0.15);\n",
              "      fill: #174EA6;\n",
              "    }\n",
              "\n",
              "    .colab-df-buttons div {\n",
              "      margin-bottom: 4px;\n",
              "    }\n",
              "\n",
              "    [theme=dark] .colab-df-convert {\n",
              "      background-color: #3B4455;\n",
              "      fill: #D2E3FC;\n",
              "    }\n",
              "\n",
              "    [theme=dark] .colab-df-convert:hover {\n",
              "      background-color: #434B5C;\n",
              "      box-shadow: 0px 1px 3px 1px rgba(0, 0, 0, 0.15);\n",
              "      filter: drop-shadow(0px 1px 2px rgba(0, 0, 0, 0.3));\n",
              "      fill: #FFFFFF;\n",
              "    }\n",
              "  </style>\n",
              "\n",
              "    <script>\n",
              "      const buttonEl =\n",
              "        document.querySelector('#df-e589f7b7-3097-4082-be24-21b26eb91b09 button.colab-df-convert');\n",
              "      buttonEl.style.display =\n",
              "        google.colab.kernel.accessAllowed ? 'block' : 'none';\n",
              "\n",
              "      async function convertToInteractive(key) {\n",
              "        const element = document.querySelector('#df-e589f7b7-3097-4082-be24-21b26eb91b09');\n",
              "        const dataTable =\n",
              "          await google.colab.kernel.invokeFunction('convertToInteractive',\n",
              "                                                    [key], {});\n",
              "        if (!dataTable) return;\n",
              "\n",
              "        const docLinkHtml = 'Like what you see? Visit the ' +\n",
              "          '<a target=\"_blank\" href=https://colab.research.google.com/notebooks/data_table.ipynb>data table notebook</a>'\n",
              "          + ' to learn more about interactive tables.';\n",
              "        element.innerHTML = '';\n",
              "        dataTable['output_type'] = 'display_data';\n",
              "        await google.colab.output.renderOutput(dataTable, element);\n",
              "        const docLink = document.createElement('div');\n",
              "        docLink.innerHTML = docLinkHtml;\n",
              "        element.appendChild(docLink);\n",
              "      }\n",
              "    </script>\n",
              "  </div>\n",
              "\n",
              "\n",
              "<div id=\"df-b565344e-bef4-498f-8508-0d94bf8c94d5\">\n",
              "  <button class=\"colab-df-quickchart\" onclick=\"quickchart('df-b565344e-bef4-498f-8508-0d94bf8c94d5')\"\n",
              "            title=\"Suggest charts.\"\n",
              "            style=\"display:none;\">\n",
              "\n",
              "<svg xmlns=\"http://www.w3.org/2000/svg\" height=\"24px\"viewBox=\"0 0 24 24\"\n",
              "     width=\"24px\">\n",
              "    <g>\n",
              "        <path d=\"M19 3H5c-1.1 0-2 .9-2 2v14c0 1.1.9 2 2 2h14c1.1 0 2-.9 2-2V5c0-1.1-.9-2-2-2zM9 17H7v-7h2v7zm4 0h-2V7h2v10zm4 0h-2v-4h2v4z\"/>\n",
              "    </g>\n",
              "</svg>\n",
              "  </button>\n",
              "\n",
              "<style>\n",
              "  .colab-df-quickchart {\n",
              "      --bg-color: #E8F0FE;\n",
              "      --fill-color: #1967D2;\n",
              "      --hover-bg-color: #E2EBFA;\n",
              "      --hover-fill-color: #174EA6;\n",
              "      --disabled-fill-color: #AAA;\n",
              "      --disabled-bg-color: #DDD;\n",
              "  }\n",
              "\n",
              "  [theme=dark] .colab-df-quickchart {\n",
              "      --bg-color: #3B4455;\n",
              "      --fill-color: #D2E3FC;\n",
              "      --hover-bg-color: #434B5C;\n",
              "      --hover-fill-color: #FFFFFF;\n",
              "      --disabled-bg-color: #3B4455;\n",
              "      --disabled-fill-color: #666;\n",
              "  }\n",
              "\n",
              "  .colab-df-quickchart {\n",
              "    background-color: var(--bg-color);\n",
              "    border: none;\n",
              "    border-radius: 50%;\n",
              "    cursor: pointer;\n",
              "    display: none;\n",
              "    fill: var(--fill-color);\n",
              "    height: 32px;\n",
              "    padding: 0;\n",
              "    width: 32px;\n",
              "  }\n",
              "\n",
              "  .colab-df-quickchart:hover {\n",
              "    background-color: var(--hover-bg-color);\n",
              "    box-shadow: 0 1px 2px rgba(60, 64, 67, 0.3), 0 1px 3px 1px rgba(60, 64, 67, 0.15);\n",
              "    fill: var(--button-hover-fill-color);\n",
              "  }\n",
              "\n",
              "  .colab-df-quickchart-complete:disabled,\n",
              "  .colab-df-quickchart-complete:disabled:hover {\n",
              "    background-color: var(--disabled-bg-color);\n",
              "    fill: var(--disabled-fill-color);\n",
              "    box-shadow: none;\n",
              "  }\n",
              "\n",
              "  .colab-df-spinner {\n",
              "    border: 2px solid var(--fill-color);\n",
              "    border-color: transparent;\n",
              "    border-bottom-color: var(--fill-color);\n",
              "    animation:\n",
              "      spin 1s steps(1) infinite;\n",
              "  }\n",
              "\n",
              "  @keyframes spin {\n",
              "    0% {\n",
              "      border-color: transparent;\n",
              "      border-bottom-color: var(--fill-color);\n",
              "      border-left-color: var(--fill-color);\n",
              "    }\n",
              "    20% {\n",
              "      border-color: transparent;\n",
              "      border-left-color: var(--fill-color);\n",
              "      border-top-color: var(--fill-color);\n",
              "    }\n",
              "    30% {\n",
              "      border-color: transparent;\n",
              "      border-left-color: var(--fill-color);\n",
              "      border-top-color: var(--fill-color);\n",
              "      border-right-color: var(--fill-color);\n",
              "    }\n",
              "    40% {\n",
              "      border-color: transparent;\n",
              "      border-right-color: var(--fill-color);\n",
              "      border-top-color: var(--fill-color);\n",
              "    }\n",
              "    60% {\n",
              "      border-color: transparent;\n",
              "      border-right-color: var(--fill-color);\n",
              "    }\n",
              "    80% {\n",
              "      border-color: transparent;\n",
              "      border-right-color: var(--fill-color);\n",
              "      border-bottom-color: var(--fill-color);\n",
              "    }\n",
              "    90% {\n",
              "      border-color: transparent;\n",
              "      border-bottom-color: var(--fill-color);\n",
              "    }\n",
              "  }\n",
              "</style>\n",
              "\n",
              "  <script>\n",
              "    async function quickchart(key) {\n",
              "      const quickchartButtonEl =\n",
              "        document.querySelector('#' + key + ' button');\n",
              "      quickchartButtonEl.disabled = true;  // To prevent multiple clicks.\n",
              "      quickchartButtonEl.classList.add('colab-df-spinner');\n",
              "      try {\n",
              "        const charts = await google.colab.kernel.invokeFunction(\n",
              "            'suggestCharts', [key], {});\n",
              "      } catch (error) {\n",
              "        console.error('Error during call to suggestCharts:', error);\n",
              "      }\n",
              "      quickchartButtonEl.classList.remove('colab-df-spinner');\n",
              "      quickchartButtonEl.classList.add('colab-df-quickchart-complete');\n",
              "    }\n",
              "    (() => {\n",
              "      let quickchartButtonEl =\n",
              "        document.querySelector('#df-b565344e-bef4-498f-8508-0d94bf8c94d5 button');\n",
              "      quickchartButtonEl.style.display =\n",
              "        google.colab.kernel.accessAllowed ? 'block' : 'none';\n",
              "    })();\n",
              "  </script>\n",
              "</div>\n",
              "    </div>\n",
              "  </div>\n"
            ]
          },
          "metadata": {},
          "execution_count": 236
        }
      ],
      "source": [
        "# посмотрим, что представляет из себя датасет\n",
        "dataframe = pd.read_csv('final_task.csv')\n",
        "dataframe.head(5)"
      ]
    },
    {
      "cell_type": "code",
      "execution_count": 237,
      "metadata": {
        "colab": {
          "base_uri": "https://localhost:8080/"
        },
        "id": "3_jPntWQvdd6",
        "outputId": "b3d4a984-3c24-45e4-9e19-6ea9cb271588"
      },
      "outputs": [
        {
          "output_type": "stream",
          "name": "stdout",
          "text": [
            "<class 'pandas.core.frame.DataFrame'>\n",
            "RangeIndex: 4500 entries, 0 to 4499\n",
            "Data columns (total 16 columns):\n",
            " #   Column                         Non-Null Count  Dtype  \n",
            "---  ------                         --------------  -----  \n",
            " 0   product_id                     4500 non-null   int64  \n",
            " 1   title                          4500 non-null   object \n",
            " 2   price                          4499 non-null   object \n",
            " 3   sales                          1164 non-null   object \n",
            " 4   feedbacks                      4500 non-null   object \n",
            " 5   seller                         4391 non-null   object \n",
            " 6   seller_rating                  4389 non-null   float64\n",
            " 7   Процессор                      4500 non-null   object \n",
            " 8   Оперативная память             4500 non-null   object \n",
            " 9   Жесткий диск                   4500 non-null   object \n",
            " 10  Видеопроцессор                 4500 non-null   object \n",
            " 11  Операционная система           4500 non-null   object \n",
            " 12  Гарантийный срок               2648 non-null   object \n",
            " 13  Страна производства            2611 non-null   object \n",
            " 14  Габариты товара                4500 non-null   object \n",
            " 15  Габариты товара (с упаковкой)  4500 non-null   object \n",
            "dtypes: float64(1), int64(1), object(14)\n",
            "memory usage: 562.6+ KB\n"
          ]
        }
      ],
      "source": [
        "# смотрим, какие типы данных содержит датасет, есть ли пропущенные значения\n",
        "dataframe.info()"
      ]
    },
    {
      "cell_type": "markdown",
      "metadata": {
        "id": "5Qb-v7V6wn8I"
      },
      "source": [
        "**Предварительный план действий по предобработке:**\n",
        "*   нам нужны для анализа персональные компьютеры, за исключением мини-ПК и моноблоков, проверить на их наличие;\n",
        "*   изменить названия колонок так, чтобы они были на одном языке для сохранения единого стиля датасета;\n",
        "*   price - изменить формат на числовой, убрать символ рубля;\n",
        "*   sales - перевести в ранги;\n",
        "*   feedback - очистить, перевести в числовой формат;\n",
        "*   seller, Габариты товара, Габариты товара (с упаковкой)  - для цели анализа не будут использованы, удалю;\n",
        "*   seller_rating - формат удобен для анализа, оставляю;\n",
        "*   Процессор, Жесткий диск, Оперативная память, Операционная система, Видеопроцессор - достать данные из словаря;\n",
        "*   Гарантийный срок - перевести в формат даты.\n"
      ]
    },
    {
      "cell_type": "code",
      "execution_count": 238,
      "metadata": {
        "id": "5FMTKKaevlMS"
      },
      "outputs": [],
      "source": [
        "# создадим копию датасета\n",
        "df = dataframe.copy()"
      ]
    },
    {
      "cell_type": "code",
      "execution_count": 239,
      "metadata": {
        "id": "ooAsgfX3D7Ha"
      },
      "outputs": [],
      "source": [
        "# меняем названия колонок с русского на английский\n",
        "df = df.rename(columns={'Процессор':'cpu', 'Оперативная память': 'ram', 'Видеопроцессор': 'graphics', 'Жесткий диск': 'storage', 'Операционная система': 'operating_system', 'Страна производства': 'country', 'Гарантийный срок': 'warranty'})"
      ]
    },
    {
      "cell_type": "code",
      "execution_count": 240,
      "metadata": {
        "id": "vKVnx8Yf4j0h"
      },
      "outputs": [],
      "source": [
        "# удаление колонок, не представляющих ценности для анализа\n",
        "columns = ['Габариты товара', 'Габариты товара (с упаковкой)', 'seller']\n",
        "df.drop(columns=columns, inplace=True)"
      ]
    },
    {
      "cell_type": "code",
      "execution_count": 241,
      "metadata": {
        "colab": {
          "base_uri": "https://localhost:8080/"
        },
        "id": "T4Gdvcut7bfZ",
        "outputId": "4f0cd03d-4fe9-4cde-b034-c280a24799b5"
      },
      "outputs": [
        {
          "output_type": "execute_result",
          "data": {
            "text/plain": [
              "Index(['product_id', 'title', 'price', 'sales', 'feedbacks', 'seller_rating',\n",
              "       'cpu', 'ram', 'storage', 'graphics', 'operating_system', 'warranty',\n",
              "       'country'],\n",
              "      dtype='object')"
            ]
          },
          "metadata": {},
          "execution_count": 241
        }
      ],
      "source": [
        "# проверка списка колонок датафрейма\n",
        "df.columns"
      ]
    },
    {
      "cell_type": "code",
      "execution_count": 242,
      "metadata": {
        "colab": {
          "base_uri": "https://localhost:8080/"
        },
        "id": "eBHZyqPO8p5Z",
        "outputId": "0068b957-2470-466a-e09b-83817b6ddaae"
      },
      "outputs": [
        {
          "output_type": "execute_result",
          "data": {
            "text/plain": [
              "490"
            ]
          },
          "metadata": {},
          "execution_count": 242
        }
      ],
      "source": [
        "# провервка на дубликаты\n",
        "df.duplicated().sum()"
      ]
    },
    {
      "cell_type": "code",
      "execution_count": 243,
      "metadata": {
        "id": "hvzzWiAq9Ol1"
      },
      "outputs": [],
      "source": [
        "# убираем дубликаты\n",
        "df.drop_duplicates(inplace=True)"
      ]
    },
    {
      "cell_type": "code",
      "execution_count": 244,
      "metadata": {
        "colab": {
          "base_uri": "https://localhost:8080/"
        },
        "id": "jjwC0Jtc9unj",
        "outputId": "33a20daa-2fba-4bf3-c311-7ab664449896"
      },
      "outputs": [
        {
          "output_type": "execute_result",
          "data": {
            "text/plain": [
              "(4010, 13)"
            ]
          },
          "metadata": {},
          "execution_count": 244
        }
      ],
      "source": [
        "# проверка 4500 - 490 = 4010, дублирующие колонки удалены\n",
        "df.shape"
      ]
    },
    {
      "cell_type": "code",
      "execution_count": 245,
      "metadata": {
        "id": "CA91djvormH7"
      },
      "outputs": [],
      "source": [
        "# перезаписываем индексы\n",
        "df.reset_index(drop=True, inplace=True)"
      ]
    },
    {
      "cell_type": "markdown",
      "metadata": {
        "id": "L5_FDHgF-hiT"
      },
      "source": [
        "## **Проверка пропущенных значений**"
      ]
    },
    {
      "cell_type": "code",
      "execution_count": 246,
      "metadata": {
        "colab": {
          "base_uri": "https://localhost:8080/"
        },
        "id": "GY-7p7pRL1sl",
        "outputId": "597f9f53-db45-4c05-a25d-6605d51849f2"
      },
      "outputs": [
        {
          "output_type": "execute_result",
          "data": {
            "text/plain": [
              "product_id             0\n",
              "title                  0\n",
              "price                  1\n",
              "sales               2975\n",
              "feedbacks              0\n",
              "seller_rating         97\n",
              "cpu                    0\n",
              "ram                    0\n",
              "storage                0\n",
              "graphics               0\n",
              "operating_system       0\n",
              "warranty            1644\n",
              "country             1686\n",
              "dtype: int64"
            ]
          },
          "metadata": {},
          "execution_count": 246
        }
      ],
      "source": [
        "df.isna().sum()"
      ]
    },
    {
      "cell_type": "markdown",
      "metadata": {
        "id": "1HU5NOkUMFMK"
      },
      "source": [
        "## **Несколько колонок имеют пропущенные значения:**\n",
        "- sales - 2975, более половины датасета, исключение такого количества данных может привести к ошибочным выводам, оставим их, есть вероятность, что по этим товарам не было продаж\n",
        "- seller_rating, seller - удалим пустые значения или колонки.\n",
        "- warranty - 1644, проверим.\n",
        "- country - 1686, проверим какие страны представлены."
      ]
    },
    {
      "cell_type": "markdown",
      "metadata": {
        "id": "YrlyH6sGO5NB"
      },
      "source": [
        "## ***title***"
      ]
    },
    {
      "cell_type": "code",
      "execution_count": 247,
      "metadata": {
        "id": "9GOGCIJZBqW5"
      },
      "outputs": [],
      "source": [
        "# приведение названий к нижнему регистру\n",
        "df ['title'] = df['title'].str.lower()"
      ]
    },
    {
      "cell_type": "code",
      "execution_count": 248,
      "metadata": {
        "colab": {
          "base_uri": "https://localhost:8080/"
        },
        "id": "UxBkmxr6DwOR",
        "outputId": "9fcd2db2-3db9-4906-e76e-18c91a75c0ab"
      },
      "outputs": [
        {
          "output_type": "execute_result",
          "data": {
            "text/plain": [
              "компьютер, системный блок, пк intel i5                    33\n",
              "компьютер rgb, системный блок, пк intel i7                33\n",
              "компьютер, системный блок, пк intel i7                    33\n",
              "компьютер rgb, системный блок, пк intel i5                33\n",
              "компьютер rgb, системный блок, пк intel i3                33\n",
              "                                                          ..\n",
              "мощный пк robotcomp анаконда 2.0 v2 plus                   1\n",
              "игровой компьютер robotcomp robotcomp м16 3.0 v3 plus      1\n",
              "мощный компьютер robotcomp robotcomp м16 3.0 v3 plus       1\n",
              "мощный компьютер robotcomp robotcomp м16 3.0 v2 plus       1\n",
              "игровой компьютер robotcomp аллигатор 2.0 bluetooth v1     1\n",
              "Name: title, Length: 2007, dtype: int64"
            ]
          },
          "metadata": {},
          "execution_count": 248
        }
      ],
      "source": [
        "# проверка\n",
        "df['title'].value_counts()"
      ]
    },
    {
      "cell_type": "code",
      "execution_count": 249,
      "metadata": {
        "colab": {
          "base_uri": "https://localhost:8080/"
        },
        "id": "tFAg5qa8_AZG",
        "outputId": "43035119-5fd6-42cf-e447-e12896cbdde3"
      },
      "outputs": [
        {
          "output_type": "execute_result",
          "data": {
            "text/plain": [
              "array(['компьютер hp prodesk 400 g6 mt',\n",
              "       'офисный компьютер robotcomp казначей v1',\n",
              "       'игровой компьютер robotcomp м16 2.0 v1', ...,\n",
              "       'офисный компьютер life tech office i5-2400 ram 8gb ssd 480gb',\n",
              "       'компьютер /8gb/ssd-128/hdd-500/монитор 20\"',\n",
              "       ' игровой компьютер '], dtype=object)"
            ]
          },
          "metadata": {},
          "execution_count": 249
        }
      ],
      "source": [
        "# так как, заказчик планирует продавать только ПК, то отфильтруем title по содержанию слов 'компьютер' и 'пк'\n",
        "df = df[df.title.str.contains('компьютер', 'пк')]\n",
        "df.title.unique()"
      ]
    },
    {
      "cell_type": "code",
      "execution_count": 250,
      "metadata": {
        "colab": {
          "base_uri": "https://localhost:8080/"
        },
        "id": "mBKR6enNL2t6",
        "outputId": "ea1a5b1f-5e3b-4bb3-e9cd-9da9e597de69"
      },
      "outputs": [
        {
          "output_type": "execute_result",
          "data": {
            "text/plain": [
              "(3413, 13)"
            ]
          },
          "metadata": {},
          "execution_count": 250
        }
      ],
      "source": [
        "# проверка количества оставшихся значений\n",
        "df.shape"
      ]
    },
    {
      "cell_type": "markdown",
      "metadata": {
        "id": "BPsjEYWjERZq"
      },
      "source": [
        "Изучив данные о названиях, нашла те, которые не относятся к компьютерам:\n",
        "мышка, микрокомпьютер, мини, кабель. Удалю все названия, которые содержат эти слова."
      ]
    },
    {
      "cell_type": "code",
      "execution_count": 251,
      "metadata": {
        "id": "A7EMHaHtAQ5p"
      },
      "outputs": [],
      "source": [
        "# проверка наличия слов \"мини-пк\" и \"моноблок\", \"мышка\", \"микрокомпьютер\", \"кабель\"\n",
        "# 'мини', 'моноблок', 'мышка', 'микрокомпьютер', 'кабель'\n",
        "ind_mini = df[df.title.str.contains('мини')].index\n",
        "ind_mono = df[df.title.str.contains('моноблок')].index\n",
        "ind_mouse = df[df.title.str.contains('мышка')].index\n",
        "ind_micro = df[df.title.str.contains('микрокомпьютер')].index\n",
        "ind_cabel = df[df.title.str.contains('кабель')].index"
      ]
    },
    {
      "cell_type": "code",
      "execution_count": 252,
      "metadata": {
        "colab": {
          "base_uri": "https://localhost:8080/"
        },
        "id": "9pfFLPFDJXMS",
        "outputId": "372a9152-fab1-43ff-d125-1e6bab369a3a"
      },
      "outputs": [
        {
          "output_type": "stream",
          "name": "stdout",
          "text": [
            "Int64Index([  70,  106,  310,  314,  315,  321,  322,  323,  330,  331,  332,\n",
            "             339,  340,  341,  357,  358,  359,  363,  364,  365,  366,  367,\n",
            "             368,  384,  385,  386,  448,  479,  492,  493,  494,  495,  496,\n",
            "             497,  961, 1151, 1152, 1269, 1377, 1704, 2134, 2811, 2812, 2813,\n",
            "            2814, 2815, 2816, 2959],\n",
            "           dtype='int64')\n",
            "Int64Index([1687], dtype='int64')\n",
            "Int64Index([713, 994, 1174, 1592, 2204, 2207, 2288, 2297, 3062, 3271, 3994], dtype='int64')\n",
            "Int64Index([156, 214, 395, 565, 566, 631, 1458], dtype='int64')\n",
            "Int64Index([], dtype='int64')\n"
          ]
        }
      ],
      "source": [
        "# indexes_to_drop\n",
        "print(ind_mini)\n",
        "print(ind_mouse)\n",
        "print(ind_micro)\n",
        "print(ind_cabel)\n",
        "print(ind_mono)"
      ]
    },
    {
      "cell_type": "markdown",
      "metadata": {
        "id": "KyeueM0O_ArW"
      },
      "source": [
        "Так как по условию нам необходимы только ПК, исключим остальные товары. Также проверерим названия на наличие в них слов \"моноблок\" или \"мини-пк\""
      ]
    },
    {
      "cell_type": "code",
      "execution_count": 253,
      "metadata": {
        "id": "zHRWj3sd6vqt",
        "colab": {
          "base_uri": "https://localhost:8080/"
        },
        "outputId": "866ae4e5-eb9a-423f-f97e-cea68edce84d"
      },
      "outputs": [
        {
          "output_type": "stream",
          "name": "stderr",
          "text": [
            "<ipython-input-253-34d0d6f8ac78>:1: SettingWithCopyWarning: \n",
            "A value is trying to be set on a copy of a slice from a DataFrame\n",
            "\n",
            "See the caveats in the documentation: https://pandas.pydata.org/pandas-docs/stable/user_guide/indexing.html#returning-a-view-versus-a-copy\n",
            "  df.drop(axis=0, index=ind_mini, inplace=True)\n"
          ]
        }
      ],
      "source": [
        "df.drop(axis=0, index=ind_mini, inplace=True)"
      ]
    },
    {
      "cell_type": "code",
      "execution_count": 254,
      "metadata": {
        "id": "MwbBLKAZ7LeR",
        "colab": {
          "base_uri": "https://localhost:8080/"
        },
        "outputId": "20318a5e-fae3-4c88-9f36-45a55caa5f95"
      },
      "outputs": [
        {
          "output_type": "stream",
          "name": "stderr",
          "text": [
            "<ipython-input-254-ec0f3da5c2f7>:1: SettingWithCopyWarning: \n",
            "A value is trying to be set on a copy of a slice from a DataFrame\n",
            "\n",
            "See the caveats in the documentation: https://pandas.pydata.org/pandas-docs/stable/user_guide/indexing.html#returning-a-view-versus-a-copy\n",
            "  df.drop(axis=0, index=ind_mouse, inplace=True)\n"
          ]
        }
      ],
      "source": [
        "df.drop(axis=0, index=ind_mouse, inplace=True)"
      ]
    },
    {
      "cell_type": "code",
      "execution_count": 255,
      "metadata": {
        "id": "uGdL8XLK7N1C",
        "colab": {
          "base_uri": "https://localhost:8080/"
        },
        "outputId": "234bce54-b166-47c7-a727-61469c0913e9"
      },
      "outputs": [
        {
          "output_type": "stream",
          "name": "stderr",
          "text": [
            "<ipython-input-255-faf421cda789>:1: SettingWithCopyWarning: \n",
            "A value is trying to be set on a copy of a slice from a DataFrame\n",
            "\n",
            "See the caveats in the documentation: https://pandas.pydata.org/pandas-docs/stable/user_guide/indexing.html#returning-a-view-versus-a-copy\n",
            "  df.drop(axis=0, index=ind_micro, inplace=True)\n"
          ]
        }
      ],
      "source": [
        "df.drop(axis=0, index=ind_micro, inplace=True)"
      ]
    },
    {
      "cell_type": "code",
      "execution_count": 256,
      "metadata": {
        "id": "py9_8jnB7Qhh",
        "colab": {
          "base_uri": "https://localhost:8080/"
        },
        "outputId": "ab4bad32-6644-44a4-e6e8-849f8b0615a8"
      },
      "outputs": [
        {
          "output_type": "stream",
          "name": "stderr",
          "text": [
            "<ipython-input-256-fce4c03e0077>:1: SettingWithCopyWarning: \n",
            "A value is trying to be set on a copy of a slice from a DataFrame\n",
            "\n",
            "See the caveats in the documentation: https://pandas.pydata.org/pandas-docs/stable/user_guide/indexing.html#returning-a-view-versus-a-copy\n",
            "  df.drop(axis=0, index=ind_cabel, inplace=True)\n"
          ]
        }
      ],
      "source": [
        "df.drop(axis=0, index=ind_cabel, inplace=True)"
      ]
    },
    {
      "cell_type": "code",
      "execution_count": 257,
      "metadata": {
        "colab": {
          "base_uri": "https://localhost:8080/"
        },
        "id": "eGWkY9CFYTXw",
        "outputId": "5eab606f-86d4-41c2-8e2e-d023e01c1a40"
      },
      "outputs": [
        {
          "output_type": "execute_result",
          "data": {
            "text/plain": [
              "Int64Index([190, 192, 193, 197, 269, 270, 1777, 1778, 1779, 1780, 1781, 1782], dtype='int64')"
            ]
          },
          "metadata": {},
          "execution_count": 257
        }
      ],
      "source": [
        "ind_mini_2 = df[df.title.str.contains('mini')].index\n",
        "ind_mini_2"
      ]
    },
    {
      "cell_type": "code",
      "execution_count": 258,
      "metadata": {
        "id": "Ptj_Z6j0PabJ"
      },
      "outputs": [],
      "source": [
        "df.drop(axis=0, index=ind_mini_2, inplace=True)"
      ]
    },
    {
      "cell_type": "code",
      "execution_count": 259,
      "metadata": {
        "colab": {
          "base_uri": "https://localhost:8080/"
        },
        "id": "S1gCRZHDQKit",
        "outputId": "58f92274-d8ea-4a0e-b34d-49fd873863f4"
      },
      "outputs": [
        {
          "output_type": "execute_result",
          "data": {
            "text/plain": [
              "(3334, 13)"
            ]
          },
          "metadata": {},
          "execution_count": 259
        }
      ],
      "source": [
        "# проверка количества оставшихся колонок\n",
        "df.shape"
      ]
    },
    {
      "cell_type": "code",
      "execution_count": 260,
      "metadata": {
        "colab": {
          "base_uri": "https://localhost:8080/"
        },
        "id": "lV_Y9nF6PVxA",
        "outputId": "e12af65a-08b7-45fe-e545-5744e9755d36"
      },
      "outputs": [
        {
          "output_type": "execute_result",
          "data": {
            "text/plain": [
              "компьютер rgb, системный блок, пк intel i5                                    33\n",
              "компьютер, системный блок, пк intel i5                                        33\n",
              "компьютер, системный блок, пк intel i3                                        33\n",
              "компьютер, системный блок, пк intel i7                                        33\n",
              "компьютер rgb, системный блок, пк intel i7                                    33\n",
              "                                                                              ..\n",
              "игровой компьютер roo24 i3 valentine                                           1\n",
              "игровой компьютер roo24 i3 morpheus                                            1\n",
              "компьютер для учебы и игр 8gb/ssd-256+монитор-20\"                              1\n",
              "компьютер для игр и учебы - i7/gtx-650/8gb/ssd-128gb/hdd-500gb/монитор-22'     1\n",
              "компьютер thinkcentre m70qgen2tiny ci7-11700t/16/512gb                         1\n",
              "Name: title, Length: 1479, dtype: int64"
            ]
          },
          "metadata": {},
          "execution_count": 260
        }
      ],
      "source": [
        "# проверка значений\n",
        "df.title.value_counts()"
      ]
    },
    {
      "cell_type": "markdown",
      "metadata": {
        "id": "N9qkIzc9PgnD"
      },
      "source": [
        "## ***price***"
      ]
    },
    {
      "cell_type": "code",
      "execution_count": 261,
      "metadata": {
        "colab": {
          "base_uri": "https://localhost:8080/"
        },
        "id": "_ow_o-RTPozI",
        "outputId": "23391de5-15f8-4935-c440-caf3a577be1a"
      },
      "outputs": [
        {
          "output_type": "execute_result",
          "data": {
            "text/plain": [
              "0"
            ]
          },
          "metadata": {},
          "execution_count": 261
        }
      ],
      "source": [
        "# проверим количество пустых значений\n",
        "df.price.isnull().sum()"
      ]
    },
    {
      "cell_type": "code",
      "execution_count": 262,
      "metadata": {
        "colab": {
          "base_uri": "https://localhost:8080/"
        },
        "id": "Bd9LrgTDY0Wr",
        "outputId": "fa0f5a3c-19ec-4635-8928-81e3041da8a8"
      },
      "outputs": [
        {
          "output_type": "execute_result",
          "data": {
            "text/plain": [
              "2        35720₽\n",
              "3        39237₽\n",
              "4        76188₽\n",
              "5        55625₽\n",
              "6       128284₽\n",
              "         ...   \n",
              "4000     77250₽\n",
              "4001     77250₽\n",
              "4002     77250₽\n",
              "4003     77250₽\n",
              "4004     77250₽\n",
              "Name: price, Length: 3334, dtype: object"
            ]
          },
          "metadata": {},
          "execution_count": 262
        }
      ],
      "source": [
        "# проверим, что из себя представляют данные\n",
        "df.price"
      ]
    },
    {
      "cell_type": "markdown",
      "metadata": {
        "id": "QkQ97Jw8Y-LZ"
      },
      "source": [
        "Очистим от символа ₽, преобразуем в числовой формат:"
      ]
    },
    {
      "cell_type": "code",
      "execution_count": 263,
      "metadata": {
        "id": "DZI8bFk_Ptyb"
      },
      "outputs": [],
      "source": [
        "# функция для очистки от нечисловых значений и перевода в числовой формат\n",
        "def clear_data(data):\n",
        "  return int(re.sub('\\D', '', data))"
      ]
    },
    {
      "cell_type": "code",
      "execution_count": 264,
      "metadata": {
        "id": "ZJhp_5-iQLO-"
      },
      "outputs": [],
      "source": [
        "# применение функции\n",
        "df['price'] = df['price'].apply(clear_data)"
      ]
    },
    {
      "cell_type": "code",
      "execution_count": 265,
      "metadata": {
        "colab": {
          "base_uri": "https://localhost:8080/"
        },
        "id": "bLf4SGbVCYk6",
        "outputId": "7bb30618-644a-4f41-de1e-3650f6b148ad"
      },
      "outputs": [
        {
          "output_type": "execute_result",
          "data": {
            "text/plain": [
              "85         254\n",
              "581        600\n",
              "79         605\n",
              "78         662\n",
              "580        700\n",
              "         ...  \n",
              "1098    209955\n",
              "1101    214954\n",
              "1100    214954\n",
              "3598    215900\n",
              "3615    235900\n",
              "Name: price, Length: 3334, dtype: int64"
            ]
          },
          "metadata": {},
          "execution_count": 265
        }
      ],
      "source": [
        "# проверка значений\n",
        "df.price.sort_values()"
      ]
    },
    {
      "cell_type": "code",
      "execution_count": 266,
      "metadata": {
        "colab": {
          "base_uri": "https://localhost:8080/",
          "height": 1000
        },
        "id": "23Q3ZQnPChVC",
        "outputId": "e0265724-8ccb-4304-ff3e-e34577c5edcc"
      },
      "outputs": [
        {
          "output_type": "execute_result",
          "data": {
            "text/plain": [
              "      product_id                                   title  price  \\\n",
              "77      37982087                               компьютер    777   \n",
              "78      37982255                               компьютер    662   \n",
              "79      37982823                               компьютер    605   \n",
              "80      38113745                               компьютер   1065   \n",
              "81      38114033                               компьютер    892   \n",
              "85      38491468                               компьютер    254   \n",
              "87      38721001                               компьютер   4789   \n",
              "88      38721347                               компьютер   3355   \n",
              "96      43110911                               компьютер  10965   \n",
              "155     50004971                  компьютер iru home 120  11540   \n",
              "580     78486393                               компьютер    700   \n",
              "581     78486394                               компьютер    600   \n",
              "586     78516633                               компьютер   1000   \n",
              "588     78673985                              компьютеры    900   \n",
              "589     78673987                              компьютеры    900   \n",
              "590     78673988                              компьютеры   1000   \n",
              "953     99671165                      компьютер monox пк  12500   \n",
              "1489   138534556                               компьютер  14800   \n",
              "2219   144461000  pos-компьютер \"штрих-pos-atom\" d2550*   10000   \n",
              "2955   147249390                               компьютер  14800   \n",
              "\n",
              "                    sales   feedbacks  seller_rating  \\\n",
              "77     Купили менее 5 раз   0 отзывов            4.7   \n",
              "78     Купили менее 5 раз   0 отзывов            4.7   \n",
              "79     Купили более 5 раз   0 отзывов            4.7   \n",
              "80     Купили менее 5 раз     1 отзыв            4.7   \n",
              "81                    NaN   0 отзывов            4.7   \n",
              "85    Купили более 40 раз    2 отзыва            4.6   \n",
              "87                    NaN   0 отзывов            4.4   \n",
              "88     Купили менее 5 раз   0 отзывов            4.4   \n",
              "96                    NaN   0 отзывов            3.4   \n",
              "155    Купили менее 5 раз     1 отзыв            4.4   \n",
              "580    Купили менее 5 раз   0 отзывов            4.3   \n",
              "581                   NaN   0 отзывов            4.3   \n",
              "586                   NaN   0 отзывов            4.3   \n",
              "588    Купили менее 5 раз   0 отзывов            4.3   \n",
              "589                   NaN   0 отзывов            4.3   \n",
              "590                   NaN   0 отзывов            4.3   \n",
              "953   Купили более 10 раз     1 отзыв            3.5   \n",
              "1489  Купили более 10 раз   0 отзывов            0.0   \n",
              "2219                  NaN   0 отзывов            4.4   \n",
              "2955                  NaN   0 отзывов            0.0   \n",
              "\n",
              "                                                    cpu  \\\n",
              "77    {'Процессор_тип': 'не заполнено', 'Количество ...   \n",
              "78    {'Процессор_тип': 'не заполнено', 'Количество ...   \n",
              "79    {'Процессор_тип': 'не заполнено', 'Количество ...   \n",
              "80    {'Процессор_тип': 'не заполнено', 'Количество ...   \n",
              "81    {'Процессор_тип': 'не заполнено', 'Количество ...   \n",
              "85    {'Процессор_тип': 'не заполнено', 'Количество ...   \n",
              "87    {'Процессор_тип': 'не заполнено', 'Количество ...   \n",
              "88    {'Процессор_тип': 'не заполнено', 'Количество ...   \n",
              "96    {'Процессор_тип': 'не заполнено', 'Количество ...   \n",
              "155   {'Процессор_тип': '6010', 'Количество ядер про...   \n",
              "580   {'Процессор_тип': 'не заполнено', 'Количество ...   \n",
              "581   {'Процессор_тип': 'не заполнено', 'Количество ...   \n",
              "586   {'Процессор_тип': 'не заполнено', 'Количество ...   \n",
              "588   {'Процессор_тип': 'не заполнено', 'Количество ...   \n",
              "589   {'Процессор_тип': 'не заполнено', 'Количество ...   \n",
              "590   {'Процессор_тип': 'не заполнено', 'Количество ...   \n",
              "953   {'Процессор_тип': 'AMD E1-6010', 'Количество я...   \n",
              "1489  {'Процессор_тип': 'Intel Core i3', 'Количество...   \n",
              "2219  {'Процессор_тип': 'Intel Atom DualCore D2550 C...   \n",
              "2955  {'Процессор_тип': 'Intel Core i3', 'Количество...   \n",
              "\n",
              "                                                    ram  \\\n",
              "77    {'Тип оперативной памяти': 'не заполнено', 'Об...   \n",
              "78    {'Тип оперативной памяти': 'не заполнено', 'Об...   \n",
              "79    {'Тип оперативной памяти': 'не заполнено', 'Об...   \n",
              "80    {'Тип оперативной памяти': 'не заполнено', 'Об...   \n",
              "81    {'Тип оперативной памяти': 'не заполнено', 'Об...   \n",
              "85    {'Тип оперативной памяти': 'не заполнено', 'Об...   \n",
              "87    {'Тип оперативной памяти': 'не заполнено', 'Об...   \n",
              "88    {'Тип оперативной памяти': 'не заполнено', 'Об...   \n",
              "96    {'Тип оперативной памяти': 'не заполнено', 'Об...   \n",
              "155   {'Тип оперативной памяти': 'не заполнено', 'Об...   \n",
              "580   {'Тип оперативной памяти': 'не заполнено', 'Об...   \n",
              "581   {'Тип оперативной памяти': 'не заполнено', 'Об...   \n",
              "586   {'Тип оперативной памяти': 'не заполнено', 'Об...   \n",
              "588   {'Тип оперативной памяти': 'не заполнено', 'Об...   \n",
              "589   {'Тип оперативной памяти': 'не заполнено', 'Об...   \n",
              "590   {'Тип оперативной памяти': 'не заполнено', 'Об...   \n",
              "953   {'Тип оперативной памяти': 'DDR 3', 'Объем опе...   \n",
              "1489  {'Тип оперативной памяти': 'DDR 3', 'Объем опе...   \n",
              "2219  {'Тип оперативной памяти': 'не заполнено', 'Об...   \n",
              "2955  {'Тип оперативной памяти': 'DDR 3', 'Объем опе...   \n",
              "\n",
              "                                                storage  \\\n",
              "77    {'Объем накопителя HDD': None, 'Объем накопите...   \n",
              "78    {'Объем накопителя HDD': None, 'Объем накопите...   \n",
              "79    {'Объем накопителя HDD': None, 'Объем накопите...   \n",
              "80    {'Объем накопителя HDD': None, 'Объем накопите...   \n",
              "81    {'Объем накопителя HDD': None, 'Объем накопите...   \n",
              "85    {'Объем накопителя HDD': None, 'Объем накопите...   \n",
              "87    {'Объем накопителя HDD': None, 'Объем накопите...   \n",
              "88    {'Объем накопителя HDD': None, 'Объем накопите...   \n",
              "96    {'Объем накопителя HDD': None, 'Объем накопите...   \n",
              "155   {'Объем накопителя HDD': None, 'Объем накопите...   \n",
              "580   {'Объем накопителя HDD': None, 'Объем накопите...   \n",
              "581   {'Объем накопителя HDD': None, 'Объем накопите...   \n",
              "586   {'Объем накопителя HDD': None, 'Объем накопите...   \n",
              "588   {'Объем накопителя HDD': None, 'Объем накопите...   \n",
              "589   {'Объем накопителя HDD': None, 'Объем накопите...   \n",
              "590   {'Объем накопителя HDD': None, 'Объем накопите...   \n",
              "953   {'Объем накопителя HDD': None, 'Объем накопите...   \n",
              "1489  {'Объем накопителя HDD': None, 'Объем накопите...   \n",
              "2219  {'Объем накопителя HDD': None, 'Объем накопите...   \n",
              "2955  {'Объем накопителя HDD': None, 'Объем накопите...   \n",
              "\n",
              "                    graphics operating_system      warranty country  \n",
              "77              не заполнено      отсутствует           NaN   Китай  \n",
              "78              не заполнено      отсутствует           NaN   Китай  \n",
              "79              не заполнено      отсутствует           NaN   Китай  \n",
              "80              не заполнено      отсутствует           NaN   Китай  \n",
              "81              не заполнено      отсутствует           NaN   Китай  \n",
              "85              не заполнено      отсутствует           NaN   Китай  \n",
              "87              не заполнено      отсутствует           NaN   Китай  \n",
              "88              не заполнено      отсутствует           NaN   Китай  \n",
              "96              не заполнено      отсутствует           NaN     США  \n",
              "155             не заполнено         Free DOS        3 года  Россия  \n",
              "580             не заполнено      отсутствует           NaN   Китай  \n",
              "581             не заполнено      отсутствует           NaN   Китай  \n",
              "586             не заполнено      отсутствует           NaN   Китай  \n",
              "588             не заполнено      отсутствует  1 (один) год   Китай  \n",
              "589             не заполнено      отсутствует  1 (один) год   Китай  \n",
              "590             не заполнено      отсутствует  1 (один) год   Китай  \n",
              "953                      AMD   Windows 10 Pro           NaN  Россия  \n",
              "1489  Intel HD Graphics 2500   Windows 10 Pro      3 месяца     NaN  \n",
              "2219            не заполнено      отсутствует           NaN     NaN  \n",
              "2955  Intel HD Graphics 2500   Windows 10 Pro      3 месяца  Россия  "
            ],
            "text/html": [
              "\n",
              "  <div id=\"df-3f88b684-853d-4653-b110-fa86257d5e44\" class=\"colab-df-container\">\n",
              "    <div>\n",
              "<style scoped>\n",
              "    .dataframe tbody tr th:only-of-type {\n",
              "        vertical-align: middle;\n",
              "    }\n",
              "\n",
              "    .dataframe tbody tr th {\n",
              "        vertical-align: top;\n",
              "    }\n",
              "\n",
              "    .dataframe thead th {\n",
              "        text-align: right;\n",
              "    }\n",
              "</style>\n",
              "<table border=\"1\" class=\"dataframe\">\n",
              "  <thead>\n",
              "    <tr style=\"text-align: right;\">\n",
              "      <th></th>\n",
              "      <th>product_id</th>\n",
              "      <th>title</th>\n",
              "      <th>price</th>\n",
              "      <th>sales</th>\n",
              "      <th>feedbacks</th>\n",
              "      <th>seller_rating</th>\n",
              "      <th>cpu</th>\n",
              "      <th>ram</th>\n",
              "      <th>storage</th>\n",
              "      <th>graphics</th>\n",
              "      <th>operating_system</th>\n",
              "      <th>warranty</th>\n",
              "      <th>country</th>\n",
              "    </tr>\n",
              "  </thead>\n",
              "  <tbody>\n",
              "    <tr>\n",
              "      <th>77</th>\n",
              "      <td>37982087</td>\n",
              "      <td>компьютер</td>\n",
              "      <td>777</td>\n",
              "      <td>Купили менее 5 раз</td>\n",
              "      <td>0 отзывов</td>\n",
              "      <td>4.7</td>\n",
              "      <td>{'Процессор_тип': 'не заполнено', 'Количество ...</td>\n",
              "      <td>{'Тип оперативной памяти': 'не заполнено', 'Об...</td>\n",
              "      <td>{'Объем накопителя HDD': None, 'Объем накопите...</td>\n",
              "      <td>не заполнено</td>\n",
              "      <td>отсутствует</td>\n",
              "      <td>NaN</td>\n",
              "      <td>Китай</td>\n",
              "    </tr>\n",
              "    <tr>\n",
              "      <th>78</th>\n",
              "      <td>37982255</td>\n",
              "      <td>компьютер</td>\n",
              "      <td>662</td>\n",
              "      <td>Купили менее 5 раз</td>\n",
              "      <td>0 отзывов</td>\n",
              "      <td>4.7</td>\n",
              "      <td>{'Процессор_тип': 'не заполнено', 'Количество ...</td>\n",
              "      <td>{'Тип оперативной памяти': 'не заполнено', 'Об...</td>\n",
              "      <td>{'Объем накопителя HDD': None, 'Объем накопите...</td>\n",
              "      <td>не заполнено</td>\n",
              "      <td>отсутствует</td>\n",
              "      <td>NaN</td>\n",
              "      <td>Китай</td>\n",
              "    </tr>\n",
              "    <tr>\n",
              "      <th>79</th>\n",
              "      <td>37982823</td>\n",
              "      <td>компьютер</td>\n",
              "      <td>605</td>\n",
              "      <td>Купили более 5 раз</td>\n",
              "      <td>0 отзывов</td>\n",
              "      <td>4.7</td>\n",
              "      <td>{'Процессор_тип': 'не заполнено', 'Количество ...</td>\n",
              "      <td>{'Тип оперативной памяти': 'не заполнено', 'Об...</td>\n",
              "      <td>{'Объем накопителя HDD': None, 'Объем накопите...</td>\n",
              "      <td>не заполнено</td>\n",
              "      <td>отсутствует</td>\n",
              "      <td>NaN</td>\n",
              "      <td>Китай</td>\n",
              "    </tr>\n",
              "    <tr>\n",
              "      <th>80</th>\n",
              "      <td>38113745</td>\n",
              "      <td>компьютер</td>\n",
              "      <td>1065</td>\n",
              "      <td>Купили менее 5 раз</td>\n",
              "      <td>1 отзыв</td>\n",
              "      <td>4.7</td>\n",
              "      <td>{'Процессор_тип': 'не заполнено', 'Количество ...</td>\n",
              "      <td>{'Тип оперативной памяти': 'не заполнено', 'Об...</td>\n",
              "      <td>{'Объем накопителя HDD': None, 'Объем накопите...</td>\n",
              "      <td>не заполнено</td>\n",
              "      <td>отсутствует</td>\n",
              "      <td>NaN</td>\n",
              "      <td>Китай</td>\n",
              "    </tr>\n",
              "    <tr>\n",
              "      <th>81</th>\n",
              "      <td>38114033</td>\n",
              "      <td>компьютер</td>\n",
              "      <td>892</td>\n",
              "      <td>NaN</td>\n",
              "      <td>0 отзывов</td>\n",
              "      <td>4.7</td>\n",
              "      <td>{'Процессор_тип': 'не заполнено', 'Количество ...</td>\n",
              "      <td>{'Тип оперативной памяти': 'не заполнено', 'Об...</td>\n",
              "      <td>{'Объем накопителя HDD': None, 'Объем накопите...</td>\n",
              "      <td>не заполнено</td>\n",
              "      <td>отсутствует</td>\n",
              "      <td>NaN</td>\n",
              "      <td>Китай</td>\n",
              "    </tr>\n",
              "    <tr>\n",
              "      <th>85</th>\n",
              "      <td>38491468</td>\n",
              "      <td>компьютер</td>\n",
              "      <td>254</td>\n",
              "      <td>Купили более 40 раз</td>\n",
              "      <td>2 отзыва</td>\n",
              "      <td>4.6</td>\n",
              "      <td>{'Процессор_тип': 'не заполнено', 'Количество ...</td>\n",
              "      <td>{'Тип оперативной памяти': 'не заполнено', 'Об...</td>\n",
              "      <td>{'Объем накопителя HDD': None, 'Объем накопите...</td>\n",
              "      <td>не заполнено</td>\n",
              "      <td>отсутствует</td>\n",
              "      <td>NaN</td>\n",
              "      <td>Китай</td>\n",
              "    </tr>\n",
              "    <tr>\n",
              "      <th>87</th>\n",
              "      <td>38721001</td>\n",
              "      <td>компьютер</td>\n",
              "      <td>4789</td>\n",
              "      <td>NaN</td>\n",
              "      <td>0 отзывов</td>\n",
              "      <td>4.4</td>\n",
              "      <td>{'Процессор_тип': 'не заполнено', 'Количество ...</td>\n",
              "      <td>{'Тип оперативной памяти': 'не заполнено', 'Об...</td>\n",
              "      <td>{'Объем накопителя HDD': None, 'Объем накопите...</td>\n",
              "      <td>не заполнено</td>\n",
              "      <td>отсутствует</td>\n",
              "      <td>NaN</td>\n",
              "      <td>Китай</td>\n",
              "    </tr>\n",
              "    <tr>\n",
              "      <th>88</th>\n",
              "      <td>38721347</td>\n",
              "      <td>компьютер</td>\n",
              "      <td>3355</td>\n",
              "      <td>Купили менее 5 раз</td>\n",
              "      <td>0 отзывов</td>\n",
              "      <td>4.4</td>\n",
              "      <td>{'Процессор_тип': 'не заполнено', 'Количество ...</td>\n",
              "      <td>{'Тип оперативной памяти': 'не заполнено', 'Об...</td>\n",
              "      <td>{'Объем накопителя HDD': None, 'Объем накопите...</td>\n",
              "      <td>не заполнено</td>\n",
              "      <td>отсутствует</td>\n",
              "      <td>NaN</td>\n",
              "      <td>Китай</td>\n",
              "    </tr>\n",
              "    <tr>\n",
              "      <th>96</th>\n",
              "      <td>43110911</td>\n",
              "      <td>компьютер</td>\n",
              "      <td>10965</td>\n",
              "      <td>NaN</td>\n",
              "      <td>0 отзывов</td>\n",
              "      <td>3.4</td>\n",
              "      <td>{'Процессор_тип': 'не заполнено', 'Количество ...</td>\n",
              "      <td>{'Тип оперативной памяти': 'не заполнено', 'Об...</td>\n",
              "      <td>{'Объем накопителя HDD': None, 'Объем накопите...</td>\n",
              "      <td>не заполнено</td>\n",
              "      <td>отсутствует</td>\n",
              "      <td>NaN</td>\n",
              "      <td>США</td>\n",
              "    </tr>\n",
              "    <tr>\n",
              "      <th>155</th>\n",
              "      <td>50004971</td>\n",
              "      <td>компьютер iru home 120</td>\n",
              "      <td>11540</td>\n",
              "      <td>Купили менее 5 раз</td>\n",
              "      <td>1 отзыв</td>\n",
              "      <td>4.4</td>\n",
              "      <td>{'Процессор_тип': '6010', 'Количество ядер про...</td>\n",
              "      <td>{'Тип оперативной памяти': 'не заполнено', 'Об...</td>\n",
              "      <td>{'Объем накопителя HDD': None, 'Объем накопите...</td>\n",
              "      <td>не заполнено</td>\n",
              "      <td>Free DOS</td>\n",
              "      <td>3 года</td>\n",
              "      <td>Россия</td>\n",
              "    </tr>\n",
              "    <tr>\n",
              "      <th>580</th>\n",
              "      <td>78486393</td>\n",
              "      <td>компьютер</td>\n",
              "      <td>700</td>\n",
              "      <td>Купили менее 5 раз</td>\n",
              "      <td>0 отзывов</td>\n",
              "      <td>4.3</td>\n",
              "      <td>{'Процессор_тип': 'не заполнено', 'Количество ...</td>\n",
              "      <td>{'Тип оперативной памяти': 'не заполнено', 'Об...</td>\n",
              "      <td>{'Объем накопителя HDD': None, 'Объем накопите...</td>\n",
              "      <td>не заполнено</td>\n",
              "      <td>отсутствует</td>\n",
              "      <td>NaN</td>\n",
              "      <td>Китай</td>\n",
              "    </tr>\n",
              "    <tr>\n",
              "      <th>581</th>\n",
              "      <td>78486394</td>\n",
              "      <td>компьютер</td>\n",
              "      <td>600</td>\n",
              "      <td>NaN</td>\n",
              "      <td>0 отзывов</td>\n",
              "      <td>4.3</td>\n",
              "      <td>{'Процессор_тип': 'не заполнено', 'Количество ...</td>\n",
              "      <td>{'Тип оперативной памяти': 'не заполнено', 'Об...</td>\n",
              "      <td>{'Объем накопителя HDD': None, 'Объем накопите...</td>\n",
              "      <td>не заполнено</td>\n",
              "      <td>отсутствует</td>\n",
              "      <td>NaN</td>\n",
              "      <td>Китай</td>\n",
              "    </tr>\n",
              "    <tr>\n",
              "      <th>586</th>\n",
              "      <td>78516633</td>\n",
              "      <td>компьютер</td>\n",
              "      <td>1000</td>\n",
              "      <td>NaN</td>\n",
              "      <td>0 отзывов</td>\n",
              "      <td>4.3</td>\n",
              "      <td>{'Процессор_тип': 'не заполнено', 'Количество ...</td>\n",
              "      <td>{'Тип оперативной памяти': 'не заполнено', 'Об...</td>\n",
              "      <td>{'Объем накопителя HDD': None, 'Объем накопите...</td>\n",
              "      <td>не заполнено</td>\n",
              "      <td>отсутствует</td>\n",
              "      <td>NaN</td>\n",
              "      <td>Китай</td>\n",
              "    </tr>\n",
              "    <tr>\n",
              "      <th>588</th>\n",
              "      <td>78673985</td>\n",
              "      <td>компьютеры</td>\n",
              "      <td>900</td>\n",
              "      <td>Купили менее 5 раз</td>\n",
              "      <td>0 отзывов</td>\n",
              "      <td>4.3</td>\n",
              "      <td>{'Процессор_тип': 'не заполнено', 'Количество ...</td>\n",
              "      <td>{'Тип оперативной памяти': 'не заполнено', 'Об...</td>\n",
              "      <td>{'Объем накопителя HDD': None, 'Объем накопите...</td>\n",
              "      <td>не заполнено</td>\n",
              "      <td>отсутствует</td>\n",
              "      <td>1 (один) год</td>\n",
              "      <td>Китай</td>\n",
              "    </tr>\n",
              "    <tr>\n",
              "      <th>589</th>\n",
              "      <td>78673987</td>\n",
              "      <td>компьютеры</td>\n",
              "      <td>900</td>\n",
              "      <td>NaN</td>\n",
              "      <td>0 отзывов</td>\n",
              "      <td>4.3</td>\n",
              "      <td>{'Процессор_тип': 'не заполнено', 'Количество ...</td>\n",
              "      <td>{'Тип оперативной памяти': 'не заполнено', 'Об...</td>\n",
              "      <td>{'Объем накопителя HDD': None, 'Объем накопите...</td>\n",
              "      <td>не заполнено</td>\n",
              "      <td>отсутствует</td>\n",
              "      <td>1 (один) год</td>\n",
              "      <td>Китай</td>\n",
              "    </tr>\n",
              "    <tr>\n",
              "      <th>590</th>\n",
              "      <td>78673988</td>\n",
              "      <td>компьютеры</td>\n",
              "      <td>1000</td>\n",
              "      <td>NaN</td>\n",
              "      <td>0 отзывов</td>\n",
              "      <td>4.3</td>\n",
              "      <td>{'Процессор_тип': 'не заполнено', 'Количество ...</td>\n",
              "      <td>{'Тип оперативной памяти': 'не заполнено', 'Об...</td>\n",
              "      <td>{'Объем накопителя HDD': None, 'Объем накопите...</td>\n",
              "      <td>не заполнено</td>\n",
              "      <td>отсутствует</td>\n",
              "      <td>1 (один) год</td>\n",
              "      <td>Китай</td>\n",
              "    </tr>\n",
              "    <tr>\n",
              "      <th>953</th>\n",
              "      <td>99671165</td>\n",
              "      <td>компьютер monox пк</td>\n",
              "      <td>12500</td>\n",
              "      <td>Купили более 10 раз</td>\n",
              "      <td>1 отзыв</td>\n",
              "      <td>3.5</td>\n",
              "      <td>{'Процессор_тип': 'AMD E1-6010', 'Количество я...</td>\n",
              "      <td>{'Тип оперативной памяти': 'DDR 3', 'Объем опе...</td>\n",
              "      <td>{'Объем накопителя HDD': None, 'Объем накопите...</td>\n",
              "      <td>AMD</td>\n",
              "      <td>Windows 10 Pro</td>\n",
              "      <td>NaN</td>\n",
              "      <td>Россия</td>\n",
              "    </tr>\n",
              "    <tr>\n",
              "      <th>1489</th>\n",
              "      <td>138534556</td>\n",
              "      <td>компьютер</td>\n",
              "      <td>14800</td>\n",
              "      <td>Купили более 10 раз</td>\n",
              "      <td>0 отзывов</td>\n",
              "      <td>0.0</td>\n",
              "      <td>{'Процессор_тип': 'Intel Core i3', 'Количество...</td>\n",
              "      <td>{'Тип оперативной памяти': 'DDR 3', 'Объем опе...</td>\n",
              "      <td>{'Объем накопителя HDD': None, 'Объем накопите...</td>\n",
              "      <td>Intel HD Graphics 2500</td>\n",
              "      <td>Windows 10 Pro</td>\n",
              "      <td>3 месяца</td>\n",
              "      <td>NaN</td>\n",
              "    </tr>\n",
              "    <tr>\n",
              "      <th>2219</th>\n",
              "      <td>144461000</td>\n",
              "      <td>pos-компьютер \"штрих-pos-atom\" d2550*</td>\n",
              "      <td>10000</td>\n",
              "      <td>NaN</td>\n",
              "      <td>0 отзывов</td>\n",
              "      <td>4.4</td>\n",
              "      <td>{'Процессор_тип': 'Intel Atom DualCore D2550 C...</td>\n",
              "      <td>{'Тип оперативной памяти': 'не заполнено', 'Об...</td>\n",
              "      <td>{'Объем накопителя HDD': None, 'Объем накопите...</td>\n",
              "      <td>не заполнено</td>\n",
              "      <td>отсутствует</td>\n",
              "      <td>NaN</td>\n",
              "      <td>NaN</td>\n",
              "    </tr>\n",
              "    <tr>\n",
              "      <th>2955</th>\n",
              "      <td>147249390</td>\n",
              "      <td>компьютер</td>\n",
              "      <td>14800</td>\n",
              "      <td>NaN</td>\n",
              "      <td>0 отзывов</td>\n",
              "      <td>0.0</td>\n",
              "      <td>{'Процессор_тип': 'Intel Core i3', 'Количество...</td>\n",
              "      <td>{'Тип оперативной памяти': 'DDR 3', 'Объем опе...</td>\n",
              "      <td>{'Объем накопителя HDD': None, 'Объем накопите...</td>\n",
              "      <td>Intel HD Graphics 2500</td>\n",
              "      <td>Windows 10 Pro</td>\n",
              "      <td>3 месяца</td>\n",
              "      <td>Россия</td>\n",
              "    </tr>\n",
              "  </tbody>\n",
              "</table>\n",
              "</div>\n",
              "    <div class=\"colab-df-buttons\">\n",
              "\n",
              "  <div class=\"colab-df-container\">\n",
              "    <button class=\"colab-df-convert\" onclick=\"convertToInteractive('df-3f88b684-853d-4653-b110-fa86257d5e44')\"\n",
              "            title=\"Convert this dataframe to an interactive table.\"\n",
              "            style=\"display:none;\">\n",
              "\n",
              "  <svg xmlns=\"http://www.w3.org/2000/svg\" height=\"24px\" viewBox=\"0 -960 960 960\">\n",
              "    <path d=\"M120-120v-720h720v720H120Zm60-500h600v-160H180v160Zm220 220h160v-160H400v160Zm0 220h160v-160H400v160ZM180-400h160v-160H180v160Zm440 0h160v-160H620v160ZM180-180h160v-160H180v160Zm440 0h160v-160H620v160Z\"/>\n",
              "  </svg>\n",
              "    </button>\n",
              "\n",
              "  <style>\n",
              "    .colab-df-container {\n",
              "      display:flex;\n",
              "      gap: 12px;\n",
              "    }\n",
              "\n",
              "    .colab-df-convert {\n",
              "      background-color: #E8F0FE;\n",
              "      border: none;\n",
              "      border-radius: 50%;\n",
              "      cursor: pointer;\n",
              "      display: none;\n",
              "      fill: #1967D2;\n",
              "      height: 32px;\n",
              "      padding: 0 0 0 0;\n",
              "      width: 32px;\n",
              "    }\n",
              "\n",
              "    .colab-df-convert:hover {\n",
              "      background-color: #E2EBFA;\n",
              "      box-shadow: 0px 1px 2px rgba(60, 64, 67, 0.3), 0px 1px 3px 1px rgba(60, 64, 67, 0.15);\n",
              "      fill: #174EA6;\n",
              "    }\n",
              "\n",
              "    .colab-df-buttons div {\n",
              "      margin-bottom: 4px;\n",
              "    }\n",
              "\n",
              "    [theme=dark] .colab-df-convert {\n",
              "      background-color: #3B4455;\n",
              "      fill: #D2E3FC;\n",
              "    }\n",
              "\n",
              "    [theme=dark] .colab-df-convert:hover {\n",
              "      background-color: #434B5C;\n",
              "      box-shadow: 0px 1px 3px 1px rgba(0, 0, 0, 0.15);\n",
              "      filter: drop-shadow(0px 1px 2px rgba(0, 0, 0, 0.3));\n",
              "      fill: #FFFFFF;\n",
              "    }\n",
              "  </style>\n",
              "\n",
              "    <script>\n",
              "      const buttonEl =\n",
              "        document.querySelector('#df-3f88b684-853d-4653-b110-fa86257d5e44 button.colab-df-convert');\n",
              "      buttonEl.style.display =\n",
              "        google.colab.kernel.accessAllowed ? 'block' : 'none';\n",
              "\n",
              "      async function convertToInteractive(key) {\n",
              "        const element = document.querySelector('#df-3f88b684-853d-4653-b110-fa86257d5e44');\n",
              "        const dataTable =\n",
              "          await google.colab.kernel.invokeFunction('convertToInteractive',\n",
              "                                                    [key], {});\n",
              "        if (!dataTable) return;\n",
              "\n",
              "        const docLinkHtml = 'Like what you see? Visit the ' +\n",
              "          '<a target=\"_blank\" href=https://colab.research.google.com/notebooks/data_table.ipynb>data table notebook</a>'\n",
              "          + ' to learn more about interactive tables.';\n",
              "        element.innerHTML = '';\n",
              "        dataTable['output_type'] = 'display_data';\n",
              "        await google.colab.output.renderOutput(dataTable, element);\n",
              "        const docLink = document.createElement('div');\n",
              "        docLink.innerHTML = docLinkHtml;\n",
              "        element.appendChild(docLink);\n",
              "      }\n",
              "    </script>\n",
              "  </div>\n",
              "\n",
              "\n",
              "<div id=\"df-b8241ee0-fa26-41de-8ef1-c7037e33e23d\">\n",
              "  <button class=\"colab-df-quickchart\" onclick=\"quickchart('df-b8241ee0-fa26-41de-8ef1-c7037e33e23d')\"\n",
              "            title=\"Suggest charts.\"\n",
              "            style=\"display:none;\">\n",
              "\n",
              "<svg xmlns=\"http://www.w3.org/2000/svg\" height=\"24px\"viewBox=\"0 0 24 24\"\n",
              "     width=\"24px\">\n",
              "    <g>\n",
              "        <path d=\"M19 3H5c-1.1 0-2 .9-2 2v14c0 1.1.9 2 2 2h14c1.1 0 2-.9 2-2V5c0-1.1-.9-2-2-2zM9 17H7v-7h2v7zm4 0h-2V7h2v10zm4 0h-2v-4h2v4z\"/>\n",
              "    </g>\n",
              "</svg>\n",
              "  </button>\n",
              "\n",
              "<style>\n",
              "  .colab-df-quickchart {\n",
              "      --bg-color: #E8F0FE;\n",
              "      --fill-color: #1967D2;\n",
              "      --hover-bg-color: #E2EBFA;\n",
              "      --hover-fill-color: #174EA6;\n",
              "      --disabled-fill-color: #AAA;\n",
              "      --disabled-bg-color: #DDD;\n",
              "  }\n",
              "\n",
              "  [theme=dark] .colab-df-quickchart {\n",
              "      --bg-color: #3B4455;\n",
              "      --fill-color: #D2E3FC;\n",
              "      --hover-bg-color: #434B5C;\n",
              "      --hover-fill-color: #FFFFFF;\n",
              "      --disabled-bg-color: #3B4455;\n",
              "      --disabled-fill-color: #666;\n",
              "  }\n",
              "\n",
              "  .colab-df-quickchart {\n",
              "    background-color: var(--bg-color);\n",
              "    border: none;\n",
              "    border-radius: 50%;\n",
              "    cursor: pointer;\n",
              "    display: none;\n",
              "    fill: var(--fill-color);\n",
              "    height: 32px;\n",
              "    padding: 0;\n",
              "    width: 32px;\n",
              "  }\n",
              "\n",
              "  .colab-df-quickchart:hover {\n",
              "    background-color: var(--hover-bg-color);\n",
              "    box-shadow: 0 1px 2px rgba(60, 64, 67, 0.3), 0 1px 3px 1px rgba(60, 64, 67, 0.15);\n",
              "    fill: var(--button-hover-fill-color);\n",
              "  }\n",
              "\n",
              "  .colab-df-quickchart-complete:disabled,\n",
              "  .colab-df-quickchart-complete:disabled:hover {\n",
              "    background-color: var(--disabled-bg-color);\n",
              "    fill: var(--disabled-fill-color);\n",
              "    box-shadow: none;\n",
              "  }\n",
              "\n",
              "  .colab-df-spinner {\n",
              "    border: 2px solid var(--fill-color);\n",
              "    border-color: transparent;\n",
              "    border-bottom-color: var(--fill-color);\n",
              "    animation:\n",
              "      spin 1s steps(1) infinite;\n",
              "  }\n",
              "\n",
              "  @keyframes spin {\n",
              "    0% {\n",
              "      border-color: transparent;\n",
              "      border-bottom-color: var(--fill-color);\n",
              "      border-left-color: var(--fill-color);\n",
              "    }\n",
              "    20% {\n",
              "      border-color: transparent;\n",
              "      border-left-color: var(--fill-color);\n",
              "      border-top-color: var(--fill-color);\n",
              "    }\n",
              "    30% {\n",
              "      border-color: transparent;\n",
              "      border-left-color: var(--fill-color);\n",
              "      border-top-color: var(--fill-color);\n",
              "      border-right-color: var(--fill-color);\n",
              "    }\n",
              "    40% {\n",
              "      border-color: transparent;\n",
              "      border-right-color: var(--fill-color);\n",
              "      border-top-color: var(--fill-color);\n",
              "    }\n",
              "    60% {\n",
              "      border-color: transparent;\n",
              "      border-right-color: var(--fill-color);\n",
              "    }\n",
              "    80% {\n",
              "      border-color: transparent;\n",
              "      border-right-color: var(--fill-color);\n",
              "      border-bottom-color: var(--fill-color);\n",
              "    }\n",
              "    90% {\n",
              "      border-color: transparent;\n",
              "      border-bottom-color: var(--fill-color);\n",
              "    }\n",
              "  }\n",
              "</style>\n",
              "\n",
              "  <script>\n",
              "    async function quickchart(key) {\n",
              "      const quickchartButtonEl =\n",
              "        document.querySelector('#' + key + ' button');\n",
              "      quickchartButtonEl.disabled = true;  // To prevent multiple clicks.\n",
              "      quickchartButtonEl.classList.add('colab-df-spinner');\n",
              "      try {\n",
              "        const charts = await google.colab.kernel.invokeFunction(\n",
              "            'suggestCharts', [key], {});\n",
              "      } catch (error) {\n",
              "        console.error('Error during call to suggestCharts:', error);\n",
              "      }\n",
              "      quickchartButtonEl.classList.remove('colab-df-spinner');\n",
              "      quickchartButtonEl.classList.add('colab-df-quickchart-complete');\n",
              "    }\n",
              "    (() => {\n",
              "      let quickchartButtonEl =\n",
              "        document.querySelector('#df-b8241ee0-fa26-41de-8ef1-c7037e33e23d button');\n",
              "      quickchartButtonEl.style.display =\n",
              "        google.colab.kernel.accessAllowed ? 'block' : 'none';\n",
              "    })();\n",
              "  </script>\n",
              "</div>\n",
              "    </div>\n",
              "  </div>\n"
            ]
          },
          "metadata": {},
          "execution_count": 266
        }
      ],
      "source": [
        "# Видим, что значения цены начинается от 254 руб, что кажется нереальной, поэтому проверим все товары со стоимостью ниже 15000 руб\n",
        "df[df['price'] < 15000]"
      ]
    },
    {
      "cell_type": "markdown",
      "metadata": {
        "id": "lo15tTb4NxpZ"
      },
      "source": [
        "Видим большое количество пропущенных значений для товаров, стоимостью ниже 10000 руб.\n",
        "На основе нереалестичной цены и пропущенных значений делаем вывод, что данные не являются ценными для анализа, поэтому удаляем их."
      ]
    },
    {
      "cell_type": "code",
      "execution_count": 267,
      "metadata": {
        "id": "_GmKMNyVNfrK"
      },
      "outputs": [],
      "source": [
        "# df = df[df.title.str.contains('компьютер', 'пк')]\n",
        "df = df[df['price'] > 10000]"
      ]
    },
    {
      "cell_type": "code",
      "execution_count": 268,
      "metadata": {
        "colab": {
          "base_uri": "https://localhost:8080/"
        },
        "id": "Tpr23emUO1eX",
        "outputId": "fbcb74ac-aa05-4c50-93cc-f5580c32ca18"
      },
      "outputs": [
        {
          "output_type": "execute_result",
          "data": {
            "text/plain": [
              "(3319, 13)"
            ]
          },
          "metadata": {},
          "execution_count": 268
        }
      ],
      "source": [
        "# проверка количества оставшихся значений\n",
        "df.shape"
      ]
    },
    {
      "cell_type": "markdown",
      "metadata": {
        "id": "7F3ZiI5WSIi5"
      },
      "source": [
        "## ***saller_rating***"
      ]
    },
    {
      "cell_type": "code",
      "execution_count": 269,
      "metadata": {
        "colab": {
          "base_uri": "https://localhost:8080/"
        },
        "id": "VKjw-a-QSH8x",
        "outputId": "2b00cb0f-b905-48ab-ed6d-201084aca728"
      },
      "outputs": [
        {
          "output_type": "execute_result",
          "data": {
            "text/plain": [
              "4004    0.0\n",
              "3390    0.0\n",
              "3389    0.0\n",
              "3388    0.0\n",
              "3383    0.0\n",
              "       ... \n",
              "1691    NaN\n",
              "1692    NaN\n",
              "2787    NaN\n",
              "2875    NaN\n",
              "2876    NaN\n",
              "Name: seller_rating, Length: 3319, dtype: float64"
            ]
          },
          "metadata": {},
          "execution_count": 269
        }
      ],
      "source": [
        "# просмотр значений\n",
        "df['seller_rating'].sort_values()"
      ]
    },
    {
      "cell_type": "code",
      "execution_count": 270,
      "metadata": {
        "colab": {
          "base_uri": "https://localhost:8080/"
        },
        "id": "-KM3wLoTaEiU",
        "outputId": "be701afe-049f-43ea-c1b6-1353a2a98e3b"
      },
      "outputs": [
        {
          "output_type": "execute_result",
          "data": {
            "text/plain": [
              "85"
            ]
          },
          "metadata": {},
          "execution_count": 270
        }
      ],
      "source": [
        "# проверка пропущенных значений\n",
        "df.seller_rating.isna().sum()"
      ]
    },
    {
      "cell_type": "code",
      "execution_count": 271,
      "metadata": {
        "id": "Hnb4IguFaQyM"
      },
      "outputs": [],
      "source": [
        "# удаление пропущенных значений\n",
        "df.dropna(subset=['seller_rating'], inplace=True)"
      ]
    },
    {
      "cell_type": "code",
      "execution_count": 272,
      "metadata": {
        "colab": {
          "base_uri": "https://localhost:8080/"
        },
        "id": "nqX7iHyYaWzG",
        "outputId": "855fefbc-e674-4f69-9863-a705b80539cc"
      },
      "outputs": [
        {
          "output_type": "execute_result",
          "data": {
            "text/plain": [
              "(3234, 13)"
            ]
          },
          "metadata": {},
          "execution_count": 272
        }
      ],
      "source": [
        "# проверка количества оставшихся значений\n",
        "df.shape"
      ]
    },
    {
      "cell_type": "markdown",
      "metadata": {
        "id": "PkOlLjA9RN_Q"
      },
      "source": [
        "## ***sales***"
      ]
    },
    {
      "cell_type": "code",
      "execution_count": 273,
      "metadata": {
        "colab": {
          "base_uri": "https://localhost:8080/"
        },
        "id": "XQfIvVgASZET",
        "outputId": "ca288575-cd92-4d2d-d187-6da0e6924c6a"
      },
      "outputs": [
        {
          "output_type": "execute_result",
          "data": {
            "text/plain": [
              "array(['Купили более 10 раз', 'Купили более 200 раз',\n",
              "       'Купили более 40 раз', 'Купили более 5 раз', 'Купили более 30 раз',\n",
              "       'Купили более 20 раз', 'Купили более 50 раз', 'Купили менее 5 раз',\n",
              "       'Купили более 400 раз', 'Купили более 500 раз',\n",
              "       'Купили более 100 раз', 'Купили более 80 раз', nan,\n",
              "       'Купили более 90 раз', 'Купили более 300 раз',\n",
              "       'Купили более 70 раз', 'Купили более 60 раз',\n",
              "       'Купили более 800 раз'], dtype=object)"
            ]
          },
          "metadata": {},
          "execution_count": 273
        }
      ],
      "source": [
        "# посмотрим, что представляют из себя данные\n",
        "df.sales.unique()"
      ]
    },
    {
      "cell_type": "markdown",
      "metadata": {
        "id": "n1Ub8TY8mbbj"
      },
      "source": [
        "Видим, что есть пропущенные значения, данные содержат числовые и буквенные символы, также видим, что данные содержат не конкретное число продаж, а интервал, в котором расположено число продаж, то есть они сгруппированны по количеству продаж.В этом случае не имеет смысл очищать данные от нечиловых символов, а лучше расположить группы в порядке увеличения продаж и задать им ранги. Приведем количество продаж к единым рангам, кратным 100.\n",
        "Примем допущение, что ПК, для которых отсутствуют данные о продажах, не были проданы ни разу, заполним пустые значения 0.\n",
        "Сформируем список индексов, значения продаж которых равны 0"
      ]
    },
    {
      "cell_type": "code",
      "execution_count": 274,
      "metadata": {
        "id": "1uECu7R7e7MP"
      },
      "outputs": [],
      "source": [
        "# задаем словарь для ранжирования\n",
        "dct = {'Купили менее 5 раз': 1,\n",
        "       'Купили более 5 раз': 1,\n",
        "       'Купили более 10 раз': 1,\n",
        "       'Купили более 20 раз': 1,\n",
        "       'Купили более 30 раз': 1,\n",
        "       'Купили более 40 раз': 1,\n",
        "       'Купили более 50 раз': 1,\n",
        "       'Купили более 60 раз': 1,\n",
        "       'Купили более 70 раз': 1,\n",
        "       'Купили более 80 раз': 1,\n",
        "       'Купили более 90 раз': 1,\n",
        "       'Купили более 100 раз': 2,\n",
        "       'Купили более 200 раз': 3,\n",
        "       'Купили более 300 раз': 4,\n",
        "       'Купили более 400 раз': 5,\n",
        "       'Купили более 500 раз': 6,\n",
        "       'Купили более 800 раз': 7\n",
        "       }"
      ]
    },
    {
      "cell_type": "code",
      "execution_count": 275,
      "metadata": {
        "id": "wm-sWh3mgATw"
      },
      "outputs": [],
      "source": [
        "# применяем ранжирование\n",
        "df['sales_range'] = df['sales'].map(dct)"
      ]
    },
    {
      "cell_type": "code",
      "execution_count": 276,
      "metadata": {
        "colab": {
          "base_uri": "https://localhost:8080/"
        },
        "id": "zfBA8eKCgO5D",
        "outputId": "2a744d8e-b583-47b9-81e4-c95f7ba56d2f"
      },
      "outputs": [
        {
          "output_type": "execute_result",
          "data": {
            "text/plain": [
              "1.0    712\n",
              "2.0     16\n",
              "3.0      5\n",
              "5.0      2\n",
              "6.0      2\n",
              "4.0      2\n",
              "7.0      1\n",
              "Name: sales_range, dtype: int64"
            ]
          },
          "metadata": {},
          "execution_count": 276
        }
      ],
      "source": [
        "# проверяем результат\n",
        "df['sales_range'].value_counts()"
      ]
    },
    {
      "cell_type": "code",
      "execution_count": 277,
      "metadata": {
        "id": "JyD4I5c-gsh_"
      },
      "outputs": [],
      "source": [
        "# заполняем пустые значения 0\n",
        "df.sales_range = df.sales_range.fillna(0)"
      ]
    },
    {
      "cell_type": "code",
      "execution_count": 278,
      "metadata": {
        "colab": {
          "base_uri": "https://localhost:8080/"
        },
        "id": "GBY-d_sUcM9l",
        "outputId": "eaf5cf5e-2beb-4ee7-afb8-4567e1d78c98"
      },
      "outputs": [
        {
          "output_type": "execute_result",
          "data": {
            "text/plain": [
              "0.0    2494\n",
              "1.0     712\n",
              "2.0      16\n",
              "3.0       5\n",
              "5.0       2\n",
              "6.0       2\n",
              "4.0       2\n",
              "7.0       1\n",
              "Name: sales_range, dtype: int64"
            ]
          },
          "metadata": {},
          "execution_count": 278
        }
      ],
      "source": [
        "# проверка результата\n",
        "df['sales_range'].value_counts()"
      ]
    },
    {
      "cell_type": "code",
      "execution_count": 279,
      "metadata": {
        "colab": {
          "base_uri": "https://localhost:8080/"
        },
        "id": "579CgnpIVK3a",
        "outputId": "22e348f4-58f9-4685-dbae-a5ef42bfe260"
      },
      "outputs": [
        {
          "output_type": "execute_result",
          "data": {
            "text/plain": [
              "Int64Index([  72,   74,   96,  107,  109,  118,  121,  122,  188,  194,\n",
              "            ...\n",
              "            3993, 3995, 3997, 3998, 3999, 4000, 4001, 4002, 4003, 4004],\n",
              "           dtype='int64', length=2494)"
            ]
          },
          "metadata": {},
          "execution_count": 279
        }
      ],
      "source": [
        "# список индексов, значения продаж которых равны 0\n",
        "index_sales = df[df['sales_range']==0].index\n",
        "index_sales"
      ]
    },
    {
      "cell_type": "markdown",
      "metadata": {
        "id": "jvJW7ddbtEoQ"
      },
      "source": [
        "У нас есть пропущенные значения в  sales, но в feedback для этих товаров есть информация о количестве отзывов. Так как отзыв может быть оставлен только на купленный товар, то значение sales_range будет больше или равно значению feedback."
      ]
    },
    {
      "cell_type": "markdown",
      "metadata": {
        "id": "aL8xIsNVV16W"
      },
      "source": [
        "## ***feedbacks***"
      ]
    },
    {
      "cell_type": "code",
      "execution_count": 280,
      "metadata": {
        "colab": {
          "base_uri": "https://localhost:8080/"
        },
        "id": "43j8T3DgVM_u",
        "outputId": "631aca00-c9ca-445b-9bee-23c68c1ab16e"
      },
      "outputs": [
        {
          "output_type": "execute_result",
          "data": {
            "text/plain": [
              "array([' 1 отзыв', ' 94 отзыва', ' 12 отзывов', ' 4 отзыва', ' 9 отзывов',\n",
              "       ' 3 отзыва', ' 2 отзыва', ' 6 отзывов', ' 17 отзывов',\n",
              "       ' 25 отзывов', ' 8 отзывов', ' 5 отзывов', ' 0 отзывов',\n",
              "       ' 101 отзыв', ' 128 отзывов', ' 54 отзыва', ' 42 отзыва',\n",
              "       ' 84 отзыва', ' 7 отзывов', ' 21 отзыв', ' 14 отзывов',\n",
              "       ' 16 отзывов', ' 38 отзывов', ' 13 отзывов', ' 148 отзывов',\n",
              "       ' 30 отзывов', ' 18 отзывов', ' 47 отзывов', ' 34 отзыва',\n",
              "       ' 89 отзывов', ' 19 отзывов', ' 26 отзывов', ' 66 отзывов',\n",
              "       ' 11 отзывов', ' 39 отзывов', ' 15 отзывов', ' 296 отзывов',\n",
              "       ' 22 отзыва', ' 189 отзывов', ' 74 отзыва', ' 10 отзывов',\n",
              "       ' 117 отзывов', ' 78 отзывов', ' 59 отзывов', ' 27 отзывов',\n",
              "       ' 29 отзывов', ' 80 отзывов'], dtype=object)"
            ]
          },
          "metadata": {},
          "execution_count": 280
        }
      ],
      "source": [
        "# посмотрим, что представляют из себя данные\n",
        "df.feedbacks.unique()"
      ]
    },
    {
      "cell_type": "markdown",
      "metadata": {
        "id": "bQvzULZhkIX8"
      },
      "source": [
        "Видим, что данные представляют собой тип object, который содержит число и слово \"отзыв\". Очисим данные от нечисловых символов и приведем к приведем к целочисленному типу (int).\n",
        "Пустые значения отсутсвуют."
      ]
    },
    {
      "cell_type": "code",
      "execution_count": 281,
      "metadata": {
        "id": "YIEBFKnzWYPA"
      },
      "outputs": [],
      "source": [
        "# применение функции\n",
        "df['feedbacks'] = df['feedbacks'].apply(clear_data)"
      ]
    },
    {
      "cell_type": "code",
      "execution_count": 282,
      "metadata": {
        "colab": {
          "base_uri": "https://localhost:8080/"
        },
        "id": "qnZA_xysoLoL",
        "outputId": "59843425-857c-4afd-ee74-b7aab5fb9d94"
      },
      "outputs": [
        {
          "output_type": "execute_result",
          "data": {
            "text/plain": [
              "array([  1,  94,  12,   4,   9,   3,   2,   6,  17,  25,   8,   5,   0,\n",
              "       101, 128,  54,  42,  84,   7,  21,  14,  16,  38,  13, 148,  30,\n",
              "        18,  47,  34,  89,  19,  26,  66,  11,  39,  15, 296,  22, 189,\n",
              "        74,  10, 117,  78,  59,  27,  29,  80])"
            ]
          },
          "metadata": {},
          "execution_count": 282
        }
      ],
      "source": [
        "# оцениваем полученный результат\n",
        "df.feedbacks.unique()"
      ]
    },
    {
      "cell_type": "code",
      "execution_count": 283,
      "metadata": {
        "colab": {
          "base_uri": "https://localhost:8080/"
        },
        "id": "IZP2ELjTWg_Q",
        "outputId": "98129c09-5bb2-4f8c-ba9a-5a6ef41c1f7e"
      },
      "outputs": [
        {
          "output_type": "execute_result",
          "data": {
            "text/plain": [
              "Int64Index([   3,    4,    5,    6,    7,    8,    9,   10,   11,   12,\n",
              "            ...\n",
              "            3074, 3075, 3557, 3715, 3748, 3774, 3775, 3776, 3777, 3985],\n",
              "           dtype='int64', length=571)"
            ]
          },
          "metadata": {},
          "execution_count": 283
        }
      ],
      "source": [
        "# список индексов, значения отзывов которых  не равны 0\n",
        "ind_feedbacks = df[df['feedbacks'] != 0].index\n",
        "ind_feedbacks"
      ]
    },
    {
      "cell_type": "code",
      "execution_count": 284,
      "metadata": {
        "colab": {
          "base_uri": "https://localhost:8080/"
        },
        "id": "K1-AMqUf5soT",
        "outputId": "bb3a4044-bd2a-45fe-b6a8-05285d9e009c"
      },
      "outputs": [
        {
          "output_type": "stream",
          "name": "stdout",
          "text": [
            "[836, 960, 982, 987, 1105, 1107, 1116, 1120, 1205, 1279, 1294, 1363, 1393, 1431, 1443, 1594, 1611, 1612, 1613, 1617, 1626, 1670, 1697, 1709, 1713, 1719, 1739, 1861, 1866, 1874, 1877, 1879, 1880, 1881, 1890, 1907, 2152, 2153, 2163, 2169, 2173, 2174, 2180, 2184, 2185, 2186, 2468, 2469, 2471, 2472, 2473, 2474, 2475, 2477, 2478, 2681, 2682, 2683, 2684, 2685, 2686, 2688, 2689, 2690, 2691, 2786, 2788, 2789, 2790, 2794, 2796, 2797, 2798, 2800, 2803, 2949, 3074, 3075, 3557, 3715, 3748, 3774, 3775, 3776, 3777, 3985]\n",
            "Количество индексов, для которых есть данные о количествах отзывов, но нет данных о продажах: 86\n"
          ]
        }
      ],
      "source": [
        "# проверим, есть ли такие индексы, для которых есть данные о количестве отзывов, но нет данных о продажах и  сколько их\n",
        "count = 0\n",
        "ind_list = []\n",
        "for ind in ind_feedbacks:\n",
        "  for index in index_sales:\n",
        "    if index == ind:\n",
        "      ind_list.append(index)\n",
        "      count += 1\n",
        "print(ind_list)\n",
        "print(f'Количество индексов, для которых есть данные о количествах отзывов, но нет данных о продажах: {count}')"
      ]
    },
    {
      "cell_type": "markdown",
      "metadata": {
        "id": "KdXR_6uUiCHz"
      },
      "source": [
        "Индексов, для которых есть данные об отзывах, но нет данных о продажах - 86.\n",
        "Исходя из того, что только те, кто приобрел товар, может оценить его и оставить отзыв, число продаж должно быть больше или равно отзывам. Для строк с найденными индексами внесем данные о подажах, равные данным о количестве отзывов."
      ]
    },
    {
      "cell_type": "code",
      "execution_count": 285,
      "metadata": {
        "colab": {
          "base_uri": "https://localhost:8080/"
        },
        "id": "yXHcr6uVjBrR",
        "outputId": "b0c247eb-bbfb-433e-dff8-60de7ed23ba8"
      },
      "outputs": [
        {
          "output_type": "stream",
          "name": "stderr",
          "text": [
            "<ipython-input-285-4448f925a904>:4: SettingWithCopyWarning: \n",
            "A value is trying to be set on a copy of a slice from a DataFrame\n",
            "\n",
            "See the caveats in the documentation: https://pandas.pydata.org/pandas-docs/stable/user_guide/indexing.html#returning-a-view-versus-a-copy\n",
            "  df['sales_range'][ind] = 1\n",
            "<ipython-input-285-4448f925a904>:6: SettingWithCopyWarning: \n",
            "A value is trying to be set on a copy of a slice from a DataFrame\n",
            "\n",
            "See the caveats in the documentation: https://pandas.pydata.org/pandas-docs/stable/user_guide/indexing.html#returning-a-view-versus-a-copy\n",
            "  df['sales_range'][ind] = 2\n"
          ]
        }
      ],
      "source": [
        "# заполним данные о подажах для тех значений, для которых есть отзывы, но не указаны продажи, сравнивая количество отзывов с разбивкой по рангам для sales_range\n",
        "for ind in ind_list:\n",
        "  if df['feedbacks'][ind] <= 100:\n",
        "    df['sales_range'][ind] = 1\n",
        "  elif df['feedbacks'][ind] <= 200:\n",
        "    df['sales_range'][ind] = 2\n"
      ]
    },
    {
      "cell_type": "code",
      "execution_count": 286,
      "metadata": {
        "colab": {
          "base_uri": "https://localhost:8080/"
        },
        "id": "fw4_GAwTlMnc",
        "outputId": "c78c8e7e-0740-4563-98ab-402c896d2b66"
      },
      "outputs": [
        {
          "output_type": "execute_result",
          "data": {
            "text/plain": [
              "(2408, 14)"
            ]
          },
          "metadata": {},
          "execution_count": 286
        }
      ],
      "source": [
        "# проверка  количесва значений = 0\n",
        "df[df['sales_range'] == 0].shape"
      ]
    },
    {
      "cell_type": "code",
      "execution_count": 287,
      "metadata": {
        "colab": {
          "base_uri": "https://localhost:8080/"
        },
        "id": "iYtYhWVsr1bl",
        "outputId": "c8f4724b-a5f9-4a79-a4eb-bb8a281a5fc7"
      },
      "outputs": [
        {
          "output_type": "execute_result",
          "data": {
            "text/plain": [
              "array([1., 3., 5., 6., 2., 0., 4., 7.])"
            ]
          },
          "metadata": {},
          "execution_count": 287
        }
      ],
      "source": [
        "# проверка корректности записи значений\n",
        "df.sales_range.unique()"
      ]
    },
    {
      "cell_type": "markdown",
      "metadata": {
        "id": "MtURdB_386on"
      },
      "source": [
        "## ***cpu***"
      ]
    },
    {
      "cell_type": "code",
      "execution_count": 288,
      "metadata": {
        "colab": {
          "base_uri": "https://localhost:8080/"
        },
        "id": "UhuQd6ub-qMo",
        "outputId": "14e1ffc7-0827-447b-a954-feb7852904ab"
      },
      "outputs": [
        {
          "output_type": "execute_result",
          "data": {
            "text/plain": [
              "0"
            ]
          },
          "metadata": {},
          "execution_count": 288
        }
      ],
      "source": [
        "# проверим на наличие пустых значений:\n",
        "df.cpu.isna().sum()"
      ]
    },
    {
      "cell_type": "code",
      "execution_count": 289,
      "metadata": {
        "colab": {
          "base_uri": "https://localhost:8080/"
        },
        "id": "K4LTHHC_88v_",
        "outputId": "a5200b3b-7b89-459e-8c46-48ea88bf98b1"
      },
      "outputs": [
        {
          "output_type": "execute_result",
          "data": {
            "text/plain": [
              "array([\"{'Процессор_тип': 'Intel Core i5', 'Количество ядер процессора': '6'}\",\n",
              "       \"{'Процессор_тип': 'Intel Core i5', 'Количество ядер процессора': '10'}\",\n",
              "       \"{'Процессор_тип': 'Intel Core i3', 'Количество ядер процессора': '4'}\",\n",
              "       \"{'Процессор_тип': 'AMD Ryzen 5', 'Количество ядер процессора': '6'}\",\n",
              "       \"{'Процессор_тип': 'AMD Athlon', 'Количество ядер процессора': '2'}\",\n",
              "       \"{'Процессор_тип': 'Intel Core i7', 'Количество ядер процессора': '12'}\",\n",
              "       \"{'Процессор_тип': 'Intel Core i9', 'Количество ядер процессора': '16'}\",\n",
              "       \"{'Процессор_тип': 'AMD Ryzen 3', 'Количество ядер процессора': '2'}\",\n",
              "       \"{'Процессор_тип': 'Gemini Lake Refresh J4115', 'Количество ядер процессора': '4'}\",\n",
              "       \"{'Процессор_тип': 'Intel Core 12400F', 'Количество ядер процессора': '6'}\",\n",
              "       \"{'Процессор_тип': 'Intel Core i7', 'Количество ядер процессора': '8'}\",\n",
              "       \"{'Процессор_тип': 'не заполнено', 'Количество ядер процессора': 'не заполнено'}\",\n",
              "       \"{'Процессор_тип': '6010', 'Количество ядер процессора': '2'}\",\n",
              "       \"{'Процессор_тип': '12400f', 'Количество ядер процессора': '6'}\",\n",
              "       \"{'Процессор_тип': 'Intel Core i5', 'Количество ядер процессора': '4'}\",\n",
              "       \"{'Процессор_тип': 'не заполнено', 'Количество ядер процессора': '2'}\",\n",
              "       \"{'Процессор_тип': 'AMD Athlon', 'Количество ядер процессора': '4'}\",\n",
              "       \"{'Процессор_тип': 'AMD Ryzen 3', 'Количество ядер процессора': '4'}\",\n",
              "       \"{'Процессор_тип': 'AMD A6', 'Количество ядер процессора': '2'}\",\n",
              "       \"{'Процессор_тип': 'Intel Pentium', 'Количество ядер процессора': '2'}\",\n",
              "       \"{'Процессор_тип': '8 ядер', 'Количество ядер процессора': '8'}\",\n",
              "       \"{'Процессор_тип': 'Intel 4 ядра', 'Количество ядер процессора': '4'}\",\n",
              "       \"{'Процессор_тип': 'не заполнено', 'Количество ядер процессора': '12'}\",\n",
              "       \"{'Процессор_тип': 'не заполнено', 'Количество ядер процессора': '16'}\",\n",
              "       \"{'Процессор_тип': 'не заполнено', 'Количество ядер процессора': '8'}\",\n",
              "       \"{'Процессор_тип': 'AMD Ryzen 3', 'Количество ядер процессора': '6'}\",\n",
              "       \"{'Процессор_тип': 'AMD A12-9800E', 'Количество ядер процессора': '4'}\",\n",
              "       \"{'Процессор_тип': 'Intel Xeon', 'Количество ядер процессора': '8'}\",\n",
              "       \"{'Процессор_тип': 'Intel Core i5', 'Количество ядер процессора': '2'}\",\n",
              "       \"{'Процессор_тип': 'Intel Core i3', 'Количество ядер процессора': '2'}\",\n",
              "       \"{'Процессор_тип': 'AMD Ryzen 7', 'Количество ядер процессора': '8'}\",\n",
              "       \"{'Процессор_тип': 'не заполнено', 'Количество ядер процессора': '6'}\",\n",
              "       \"{'Процессор_тип': 'Intel Core i5', 'Количество ядер процессора': '4 ядра'}\",\n",
              "       \"{'Процессор_тип': 'Intel Core i3', 'Количество ядер процессора': '4 ядра'}\",\n",
              "       \"{'Процессор_тип': 'Intel Core i7', 'Количество ядер процессора': '8 ядер'}\",\n",
              "       \"{'Процессор_тип': 'AMD E1-6010', 'Количество ядер процессора': '2'}\",\n",
              "       \"{'Процессор_тип': 'AMD RYZEN 4600g Vega7 арт. 100343717', 'Количество ядер процессора': '6'}\",\n",
              "       \"{'Процессор_тип': 'Intel Core i5', 'Количество ядер процессора': 'не заполнено'}\",\n",
              "       \"{'Процессор_тип': 'не заполнено', 'Количество ядер процессора': '4'}\",\n",
              "       \"{'Процессор_тип': 'Intel Core i3', 'Количество ядер процессора': '6'}\",\n",
              "       \"{'Процессор_тип': 'Intel Core i7', 'Количество ядер процессора': '6'}\",\n",
              "       \"{'Процессор_тип': 'Intel N5105', 'Количество ядер процессора': '4'}\",\n",
              "       \"{'Процессор_тип': 'не заполнено', 'Количество ядер процессора': '10'}\",\n",
              "       \"{'Процессор_тип': 'AMD Ryzen 6', 'Количество ядер процессора': '6'}\",\n",
              "       \"{'Процессор_тип': 'Intel Core i5', 'Количество ядер процессора': '14'}\",\n",
              "       \"{'Процессор_тип': 'Intel Celeron', 'Количество ядер процессора': '2'}\",\n",
              "       \"{'Процессор_тип': 'Intel Xeon', 'Количество ядер процессора': '6'}\",\n",
              "       \"{'Процессор_тип': 'Intel Core i7', 'Количество ядер процессора': '4'}\",\n",
              "       \"{'Процессор_тип': 'AMD A6', 'Количество ядер процессора': '4'}\",\n",
              "       \"{'Процессор_тип': 'AMD RYZEN 4600g Vega7 арт. 143553804', 'Количество ядер процессора': '6'}\",\n",
              "       \"{'Процессор_тип': 'Intel Xeon', 'Количество ядер процессора': '12'}\",\n",
              "       \"{'Процессор_тип': 'Intel Core i7', 'Количество ядер процессора': '16'}\",\n",
              "       \"{'Процессор_тип': 'Intel Xeon', 'Количество ядер процессора': '4'}\",\n",
              "       \"{'Процессор_тип': 'Intеl Quad Q9400', 'Количество ядер процессора': '4'}\",\n",
              "       \"{'Процессор_тип': 'Intеl Quad 9400', 'Количество ядер процессора': '4'}\",\n",
              "       \"{'Процессор_тип': 'Intel E5', 'Количество ядер процессора': '12'}\",\n",
              "       \"{'Процессор_тип': 'Intel Core Quad 9400', 'Количество ядер процессора': '4'}\",\n",
              "       \"{'Процессор_тип': 'Intel E3', 'Количество ядер процессора': '8'}\",\n",
              "       \"{'Процессор_тип': 'AMD Radeon RX 570', 'Количество ядер процессора': '4'}\",\n",
              "       \"{'Процессор_тип': 'Intel E5', 'Количество ядер процессора': '8'}\",\n",
              "       \"{'Процессор_тип': 'Q9400', 'Количество ядер процессора': '4'}\",\n",
              "       \"{'Процессор_тип': 'Intel E3', 'Количество ядер процессора': '4'}\",\n",
              "       \"{'Процессор_тип': 'Intеl Quad', 'Количество ядер процессора': '4'}\",\n",
              "       \"{'Процессор_тип': 'Intel E5', 'Количество ядер процессора': '20'}\",\n",
              "       \"{'Процессор_тип': 'Intel E5', 'Количество ядер процессора': '16'}\",\n",
              "       \"{'Процессор_тип': 'Ryzen; 3 1300x', 'Количество ядер процессора': '4'}\",\n",
              "       \"{'Процессор_тип': 'Intel Core i5', 'Количество ядер процессора': '12'}\",\n",
              "       \"{'Процессор_тип': 'intel core i 5 10400f', 'Количество ядер процессора': '6'}\",\n",
              "       \"{'Процессор_тип': 'AMD рязань 5 5600x', 'Количество ядер процессора': '6'}\",\n",
              "       \"{'Процессор_тип': 'AMD рязань 5 4650', 'Количество ядер процессора': '6'}\",\n",
              "       \"{'Процессор_тип': 'AMD Ryzen 9', 'Количество ядер процессора': '12'}\",\n",
              "       \"{'Процессор_тип': 'Intel Core i9', 'Количество ядер процессора': '10'}\",\n",
              "       \"{'Процессор_тип': 'Intel Xeon', 'Количество ядер процессора': '24 ядра'}\",\n",
              "       \"{'Процессор_тип': 'AMD Ryzen 9', 'Количество ядер процессора': '16'}\"],\n",
              "      dtype=object)"
            ]
          },
          "metadata": {},
          "execution_count": 289
        }
      ],
      "source": [
        "# посмотрим, что из себя представляют данные в колонке\n",
        "df.cpu.unique()"
      ]
    },
    {
      "cell_type": "code",
      "execution_count": 290,
      "metadata": {
        "id": "JQ4OVXEe-VpN"
      },
      "outputs": [],
      "source": [
        "# это словарь, распакуем его, создадим 2 новых столбца\n",
        "df['cpu_type'] = df['cpu'].apply(lambda x: eval(x)['Процессор_тип'])"
      ]
    },
    {
      "cell_type": "code",
      "execution_count": 291,
      "metadata": {
        "colab": {
          "base_uri": "https://localhost:8080/"
        },
        "id": "8RcUI2IP-mwY",
        "outputId": "5a9974e2-68c3-443d-9885-7c554214f1b1"
      },
      "outputs": [
        {
          "output_type": "execute_result",
          "data": {
            "text/plain": [
              "array(['Intel Core i5', 'Intel Core i3', 'AMD Ryzen 5', 'AMD Athlon',\n",
              "       'Intel Core i7', 'Intel Core i9', 'AMD Ryzen 3',\n",
              "       'Gemini Lake Refresh J4115', 'Intel Core 12400F', 'не заполнено',\n",
              "       '6010', '12400f', 'AMD A6', 'Intel Pentium', '8 ядер',\n",
              "       'Intel 4 ядра', 'AMD A12-9800E', 'Intel Xeon', 'AMD Ryzen 7',\n",
              "       'AMD E1-6010', 'AMD RYZEN 4600g Vega7 арт. 100343717',\n",
              "       'Intel N5105', 'AMD Ryzen 6', 'Intel Celeron',\n",
              "       'AMD RYZEN 4600g Vega7 арт. 143553804', 'Intеl Quad Q9400',\n",
              "       'Intеl Quad 9400', 'Intel E5', 'Intel Core Quad 9400', 'Intel E3',\n",
              "       'AMD Radeon RX 570', 'Q9400', 'Intеl Quad', 'Ryzen; 3 1300x',\n",
              "       'intel core i 5 10400f', 'AMD рязань 5 5600x', 'AMD рязань 5 4650',\n",
              "       'AMD Ryzen 9'], dtype=object)"
            ]
          },
          "metadata": {},
          "execution_count": 291
        }
      ],
      "source": [
        "# оцениваем полученный результат\n",
        "df['cpu_type'].unique()"
      ]
    },
    {
      "cell_type": "markdown",
      "metadata": {
        "id": "G8dRXIfbN5_o"
      },
      "source": [
        "**План по очистке данных:**\n",
        "1. Приведем все значения к нижнему регистру.\n",
        "2. Проверим есть ли грамматичские ошибки или описки или одни и те же названия на разных языках, исправим при необходимости.\n",
        "3. Проверим количество не запалненных значений."
      ]
    },
    {
      "cell_type": "code",
      "execution_count": 292,
      "metadata": {
        "id": "RENdaJJNO9IP"
      },
      "outputs": [],
      "source": [
        "# приведение значений к нижнему регистру\n",
        "df['cpu_type'] = df['cpu_type'].str.lower()"
      ]
    },
    {
      "cell_type": "code",
      "execution_count": 293,
      "metadata": {
        "colab": {
          "base_uri": "https://localhost:8080/"
        },
        "id": "a1NILv2jPKpS",
        "outputId": "27a2709a-dfcd-4b3b-9dab-b2e504bb8731"
      },
      "outputs": [
        {
          "output_type": "execute_result",
          "data": {
            "text/plain": [
              "intel core i5                           1011\n",
              "intel core i7                            652\n",
              "intel core i3                            445\n",
              "amd ryzen 5                              432\n",
              "не заполнено                             229\n",
              "amd athlon                               118\n",
              "intel xeon                                72\n",
              "amd ryzen 7                               62\n",
              "amd ryzen 3                               46\n",
              "amd a6                                    45\n",
              "intel pentium                             30\n",
              "intel e5                                  22\n",
              "intel core i9                             13\n",
              "intеl quad                                11\n",
              "intel e3                                  11\n",
              "amd a12-9800e                              4\n",
              "q9400                                      3\n",
              "amd ryzen 9                                3\n",
              "intel core 12400f                          3\n",
              "amd ryzen 6                                2\n",
              "intel celeron                              2\n",
              "amd radeon rx 570                          2\n",
              "intel 4 ядра                               1\n",
              "6010                                       1\n",
              "amd рязань 5 4650                          1\n",
              "amd рязань 5 5600x                         1\n",
              "intel core i 5 10400f                      1\n",
              "ryzen; 3 1300x                             1\n",
              "gemini lake refresh j4115                  1\n",
              "intel core quad 9400                       1\n",
              "8 ядер                                     1\n",
              "12400f                                     1\n",
              "intеl quad 9400                            1\n",
              "intеl quad q9400                           1\n",
              "amd ryzen 4600g vega7 арт. 143553804       1\n",
              "intel n5105                                1\n",
              "amd ryzen 4600g vega7 арт. 100343717       1\n",
              "amd e1-6010                                1\n",
              "Name: cpu_type, dtype: int64"
            ]
          },
          "metadata": {},
          "execution_count": 293
        }
      ],
      "source": [
        "# проверка\n",
        "df['cpu_type'].value_counts()"
      ]
    },
    {
      "cell_type": "markdown",
      "metadata": {
        "id": "xfJp1Ef1SgQa"
      },
      "source": [
        "- intеl quad 9400 не существует, вместо него intеl quad q9400, заменим, также заменин на него \"intel core quad 9400\"\n",
        "- встречается слово \"рязань\", которое заменим на \"ryzen\"\n",
        "- 6010 - с таким номером существует только один процессор, это amd e1-6010, заменим на него\n",
        "- в двух названиях содержатся артикулы, уберем их\n",
        "- \"intel core 12400f\" относится к процессору intel core i5, заменим на это название,\n",
        "- \"12400f\" также заменим на \"intel core i5\"\n",
        "- удалим те, которые имеют значение \"не заполнено\"\n",
        "- по значению \"8 ядер\" не понятно, к какому типу процессора относится, удалим\n",
        "- \"amd radeon rx 570\" это видеокарта, а не процессор, поэтому удалим\n",
        "- создадим столбец с данными о бренде процессора                    1\n",
        "\n"
      ]
    },
    {
      "cell_type": "code",
      "execution_count": 294,
      "metadata": {
        "id": "1Whvyg4ijFTc"
      },
      "outputs": [],
      "source": [
        "# фильтрация датасета и исключение данных, не подлежащих восстановлению\n",
        "df = df[(df['cpu_type'] != 'не заполнено') & (df['cpu_type'] != 'amd radeon rx 570') & (df['cpu_type'] !='8 ядер')]"
      ]
    },
    {
      "cell_type": "code",
      "execution_count": 295,
      "metadata": {
        "id": "vpZ9b7fpUtiU"
      },
      "outputs": [],
      "source": [
        "# функция для поиска значений и их замены\n",
        "def cpu_clear(data):\n",
        "  if re.findall(r'рязань', data):\n",
        "    return re.sub(r'рязань', 'ryzen', data)\n",
        "  elif re.findall(r'12400f', data):\n",
        "    return 'intel core i5'\n",
        "  elif re.findall(r'арт. ', data):\n",
        "    return 'amd ryzen 5'\n",
        "  elif re.findall(r'6010', data):\n",
        "    return 'amd e1-6010'\n",
        "  elif re.findall(r'10400f', data):\n",
        "    return 'intel core i5'\n",
        "  elif re.findall(r'ryzen 5', data):\n",
        "    return 'amd ryzen 5'\n",
        "  elif re.findall(r'n5105', data):\n",
        "    return 'intel celeron'\n",
        "  elif re.findall(r'gemini lake refresh j4115', data):\n",
        "    return 'intel celeron'\n",
        "  elif re.findall(r'ryzen;', data):\n",
        "    return 'amd ryzen 3'\n",
        "  elif re.findall(r'amd ryzen 5 5600x', data):\n",
        "    return 'amd ryzen 5'\n",
        "  elif re.findall(r'quad', data):\n",
        "    return 'intеl quad'\n",
        "  else:\n",
        "    return data"
      ]
    },
    {
      "cell_type": "code",
      "execution_count": 296,
      "metadata": {
        "id": "gfiJYhzoFG-W",
        "colab": {
          "base_uri": "https://localhost:8080/"
        },
        "outputId": "e6215d0a-bda4-4e8b-c80c-4a41b5a37c89"
      },
      "outputs": [
        {
          "output_type": "stream",
          "name": "stderr",
          "text": [
            "<ipython-input-296-47edc05d399b>:2: SettingWithCopyWarning: \n",
            "A value is trying to be set on a copy of a slice from a DataFrame.\n",
            "Try using .loc[row_indexer,col_indexer] = value instead\n",
            "\n",
            "See the caveats in the documentation: https://pandas.pydata.org/pandas-docs/stable/user_guide/indexing.html#returning-a-view-versus-a-copy\n",
            "  df['cpu_t'] = df['cpu_type'].apply(cpu_clear)\n"
          ]
        }
      ],
      "source": [
        "# применение функции\n",
        "df['cpu_t'] = df['cpu_type'].apply(cpu_clear)"
      ]
    },
    {
      "cell_type": "code",
      "execution_count": 297,
      "metadata": {
        "colab": {
          "base_uri": "https://localhost:8080/"
        },
        "id": "nd0trcEeFZ_3",
        "outputId": "ca5706a5-5a9d-4f63-9c0c-0792e0aa23d3"
      },
      "outputs": [
        {
          "output_type": "execute_result",
          "data": {
            "text/plain": [
              "intel core i5        1016\n",
              "intel core i7         652\n",
              "intel core i3         445\n",
              "amd ryzen 5           434\n",
              "amd athlon            118\n",
              "intel xeon             72\n",
              "amd ryzen 7            62\n",
              "amd ryzen 3            47\n",
              "amd a6                 45\n",
              "intel pentium          30\n",
              "intel e5               22\n",
              "intеl quad             14\n",
              "intel core i9          13\n",
              "intel e3               11\n",
              "amd a12-9800e           4\n",
              "intel celeron           4\n",
              "q9400                   3\n",
              "amd ryzen 9             3\n",
              "amd ryzen 6             2\n",
              "amd e1-6010             2\n",
              "amd ryzen 5 5600x       1\n",
              "amd ryzen 5 4650        1\n",
              "intel 4 ядра            1\n",
              "Name: cpu_t, dtype: int64"
            ]
          },
          "metadata": {},
          "execution_count": 297
        }
      ],
      "source": [
        "# проверка получившихся значений\n",
        "df['cpu_t'].value_counts()"
      ]
    },
    {
      "cell_type": "markdown",
      "metadata": {
        "id": "K7uUALNWneOf"
      },
      "source": [
        "Оставим значения, количество которых больше 11"
      ]
    },
    {
      "cell_type": "code",
      "execution_count": 298,
      "metadata": {
        "id": "_iP18rmvndVB"
      },
      "outputs": [],
      "source": [
        "# создание датасета с именем процессора и их количеством в основном датасете\n",
        "df_cpu = df['cpu_t'].value_counts()"
      ]
    },
    {
      "cell_type": "code",
      "execution_count": 299,
      "metadata": {
        "id": "7V2uNs7wdJLg"
      },
      "outputs": [],
      "source": [
        "# создание списка индексов (имен процессоров)\n",
        "df_cpu_ind = df_cpu.index"
      ]
    },
    {
      "cell_type": "code",
      "execution_count": 300,
      "metadata": {
        "id": "hNRsWnFudqrp"
      },
      "outputs": [],
      "source": [
        "# создание списка имен процессоров, которые представляют ценность для анализа (количество которых больше 11)\n",
        "df_cpu_important = df_cpu[df_cpu > 10]"
      ]
    },
    {
      "cell_type": "code",
      "execution_count": 301,
      "metadata": {
        "colab": {
          "base_uri": "https://localhost:8080/"
        },
        "id": "BNUIrfJbeKRI",
        "outputId": "0fe2b08d-c096-4fc4-8689-2228948640ae"
      },
      "outputs": [
        {
          "output_type": "execute_result",
          "data": {
            "text/plain": [
              "intel core i5    1016\n",
              "intel core i7     652\n",
              "intel core i3     445\n",
              "amd ryzen 5       434\n",
              "amd athlon        118\n",
              "intel xeon         72\n",
              "amd ryzen 7        62\n",
              "amd ryzen 3        47\n",
              "amd a6             45\n",
              "intel pentium      30\n",
              "intel e5           22\n",
              "intеl quad         14\n",
              "intel core i9      13\n",
              "intel e3           11\n",
              "Name: cpu_t, dtype: int64"
            ]
          },
          "metadata": {},
          "execution_count": 301
        }
      ],
      "source": [
        "df_cpu_important"
      ]
    },
    {
      "cell_type": "code",
      "execution_count": 302,
      "metadata": {
        "id": "zTlURtaSo82U"
      },
      "outputs": [],
      "source": [
        "# фильтрация датасета по именам процессоров, представляющим ценность для анализа\n",
        "df = df[df['cpu_t'].isin(df_cpu_important.index)]"
      ]
    },
    {
      "cell_type": "code",
      "execution_count": 303,
      "metadata": {
        "colab": {
          "base_uri": "https://localhost:8080/"
        },
        "id": "jy55FxrIfOlt",
        "outputId": "01fb987a-24f6-412e-e732-eaa331b6a46d"
      },
      "outputs": [
        {
          "output_type": "execute_result",
          "data": {
            "text/plain": [
              "(2981, 16)"
            ]
          },
          "metadata": {},
          "execution_count": 303
        }
      ],
      "source": [
        "# проверка количества оставшихся строк\n",
        "df.shape"
      ]
    },
    {
      "cell_type": "markdown",
      "metadata": {
        "id": "V3_JfH2vnurh"
      },
      "source": [
        "Создадим еще одну колонку, содержащую название бренда процессора и далее проверим, является ли этот признак важным для ценообразования"
      ]
    },
    {
      "cell_type": "code",
      "execution_count": 304,
      "metadata": {
        "id": "lofRw1aihLWy"
      },
      "outputs": [],
      "source": [
        "# функция для создания колонки с именем бренда\n",
        "def cpu_brand(data):\n",
        "  if re.findall(r'amd', data):\n",
        "    return 'amd'\n",
        "  elif re.findall(r'ryzen', data):\n",
        "    return 'amd'\n",
        "  elif re.findall(r'intel', data):\n",
        "    return 'intel'\n",
        "  elif re.findall(r'intеl', data):\n",
        "    return 'intel'\n",
        "  else:\n",
        "    return data"
      ]
    },
    {
      "cell_type": "code",
      "execution_count": 305,
      "metadata": {
        "colab": {
          "base_uri": "https://localhost:8080/"
        },
        "id": "X43faOW6hp3B",
        "outputId": "acec7008-ce26-43fa-9789-862b6351f512"
      },
      "outputs": [
        {
          "output_type": "stream",
          "name": "stderr",
          "text": [
            "<ipython-input-305-c7272dfad710>:2: SettingWithCopyWarning: \n",
            "A value is trying to be set on a copy of a slice from a DataFrame.\n",
            "Try using .loc[row_indexer,col_indexer] = value instead\n",
            "\n",
            "See the caveats in the documentation: https://pandas.pydata.org/pandas-docs/stable/user_guide/indexing.html#returning-a-view-versus-a-copy\n",
            "  df['cpu_brand'] = df['cpu_t'].apply(cpu_brand)\n"
          ]
        }
      ],
      "source": [
        "# применение функции\n",
        "df['cpu_brand'] = df['cpu_t'].apply(cpu_brand)"
      ]
    },
    {
      "cell_type": "code",
      "execution_count": 306,
      "metadata": {
        "colab": {
          "base_uri": "https://localhost:8080/"
        },
        "id": "Gvvc9oqViD7-",
        "outputId": "858e8869-7120-4849-d806-843148d900f2"
      },
      "outputs": [
        {
          "output_type": "execute_result",
          "data": {
            "text/plain": [
              "intel    2275\n",
              "amd       706\n",
              "Name: cpu_brand, dtype: int64"
            ]
          },
          "metadata": {},
          "execution_count": 306
        }
      ],
      "source": [
        "# проверка значений\n",
        "df['cpu_brand'].value_counts()"
      ]
    },
    {
      "cell_type": "markdown",
      "metadata": {
        "id": "gLKfUjU6oVbr"
      },
      "source": [
        "Формируем столбец с количеством ядер процессора"
      ]
    },
    {
      "cell_type": "code",
      "execution_count": 307,
      "metadata": {
        "id": "w5Y6wX8z_Sht"
      },
      "outputs": [],
      "source": [
        "# распаковывая словарь\n",
        "df['cores'] = df['cpu'].apply(lambda x: eval(x)['Количество ядер процессора'])"
      ]
    },
    {
      "cell_type": "code",
      "execution_count": 308,
      "metadata": {
        "colab": {
          "base_uri": "https://localhost:8080/"
        },
        "id": "i_rtUO8F_6kK",
        "outputId": "72424cd4-f845-4f03-f41d-7b17cd94bd7b"
      },
      "outputs": [
        {
          "output_type": "execute_result",
          "data": {
            "text/plain": [
              "array(['6', '10', '4', '2', '12', '16', '8', '4 ядра', '8 ядер',\n",
              "       'не заполнено', '14', '20', '24 ядра'], dtype=object)"
            ]
          },
          "metadata": {},
          "execution_count": 308
        }
      ],
      "source": [
        "# оцениваем полученный результат\n",
        "df['cores'].unique()"
      ]
    },
    {
      "cell_type": "markdown",
      "metadata": {
        "id": "50w7G0-pojqe"
      },
      "source": [
        "Данные о количестве ядер представлены как в виде числовых значений, так и в виде численно-буквенных, очистим их от нечисловых значений."
      ]
    },
    {
      "cell_type": "code",
      "execution_count": 309,
      "metadata": {
        "id": "Q1jlPQ5lCcup"
      },
      "outputs": [],
      "source": [
        "# функция для очистки от нечисловых символов\n",
        "def cores_clear(data):\n",
        "  return re.sub('\\D', '', data)"
      ]
    },
    {
      "cell_type": "code",
      "execution_count": 310,
      "metadata": {
        "id": "UtYp4ZaWC8FM"
      },
      "outputs": [],
      "source": [
        "# применяем функцию\n",
        "df['cores'] = df['cores'].apply(cores_clear)"
      ]
    },
    {
      "cell_type": "code",
      "execution_count": 311,
      "metadata": {
        "id": "0jjAaVksDcTM"
      },
      "outputs": [],
      "source": [
        "df['cores'] = pd.to_numeric(df['cores'])"
      ]
    },
    {
      "cell_type": "code",
      "execution_count": 312,
      "metadata": {
        "colab": {
          "base_uri": "https://localhost:8080/"
        },
        "id": "qXA-z7wYNs_3",
        "outputId": "93f39291-fc13-4da6-d256-34712ffe9633"
      },
      "outputs": [
        {
          "output_type": "execute_result",
          "data": {
            "text/plain": [
              "array([ 6., 10.,  4.,  2., 12., 16.,  8., nan, 14., 20., 24.])"
            ]
          },
          "metadata": {},
          "execution_count": 312
        }
      ],
      "source": [
        "df['cores'].unique()"
      ]
    },
    {
      "cell_type": "code",
      "execution_count": 313,
      "metadata": {
        "colab": {
          "base_uri": "https://localhost:8080/"
        },
        "id": "ARWJ7T3Mfzyu",
        "outputId": "1803ea9b-c2e4-4c17-9434-f28df70adf8b"
      },
      "outputs": [
        {
          "output_type": "execute_result",
          "data": {
            "text/plain": [
              "1"
            ]
          },
          "metadata": {},
          "execution_count": 313
        }
      ],
      "source": [
        "# проверкаа пропущенных значений\n",
        "df.cores.isna().sum()"
      ]
    },
    {
      "cell_type": "code",
      "execution_count": 314,
      "metadata": {
        "id": "etDoUbT7phR_"
      },
      "outputs": [],
      "source": [
        "# удаление пропущенных значений\n",
        "df.dropna(subset='cores', inplace=True)"
      ]
    },
    {
      "cell_type": "markdown",
      "metadata": {
        "id": "dLXdPJIXAJCk"
      },
      "source": [
        "## ***ram***"
      ]
    },
    {
      "cell_type": "code",
      "execution_count": 315,
      "metadata": {
        "colab": {
          "base_uri": "https://localhost:8080/"
        },
        "id": "CwezoJjlAS5j",
        "outputId": "a76c9893-ebec-4b09-97e8-ae69131db550"
      },
      "outputs": [
        {
          "output_type": "execute_result",
          "data": {
            "text/plain": [
              "array([\"{'Тип оперативной памяти': 'DDR 4', 'Объем оперативной памяти (Гб)': '8'}\",\n",
              "       \"{'Тип оперативной памяти': 'DDR 4', 'Объем оперативной памяти (Гб)': '16'}\",\n",
              "       \"{'Тип оперативной памяти': 'DDR 4', 'Объем оперативной памяти (Гб)': '16 ГБ'}\",\n",
              "       \"{'Тип оперативной памяти': 'DDR 4', 'Объем оперативной памяти (Гб)': '32'}\",\n",
              "       \"{'Тип оперативной памяти': 'DDR 4', 'Объем оперативной памяти (Гб)': '32 ГБ'}\",\n",
              "       \"{'Тип оперативной памяти': 'DDR 4', 'Объем оперативной памяти (Гб)': '8 ГБ'}\",\n",
              "       \"{'Тип оперативной памяти': 'DDR 4', 'Объем оперативной памяти (Гб)': '16 гб'}\",\n",
              "       \"{'Тип оперативной памяти': 'DDR 4', 'Объем оперативной памяти (Гб)': '4'}\",\n",
              "       \"{'Тип оперативной памяти': 'DDR 4', 'Объем оперативной памяти (Гб)': '64'}\",\n",
              "       \"{'Тип оперативной памяти': 'DDR 4', 'Объем оперативной памяти (Гб)': '240 гб'}\",\n",
              "       \"{'Тип оперативной памяти': 'DDR 3', 'Объем оперативной памяти (Гб)': '8 ГБ'}\",\n",
              "       \"{'Тип оперативной памяти': 'DDR 3', 'Объем оперативной памяти (Гб)': '16 гб'}\",\n",
              "       \"{'Тип оперативной памяти': 'DDR 3', 'Объем оперативной памяти (Гб)': '4'}\",\n",
              "       \"{'Тип оперативной памяти': 'DDR 3', 'Объем оперативной памяти (Гб)': '16 ГБ'}\",\n",
              "       \"{'Тип оперативной памяти': 'DDR 3', 'Объем оперативной памяти (Гб)': '4 ГБ'}\",\n",
              "       \"{'Тип оперативной памяти': 'DDR 4', 'Объем оперативной памяти (Гб)': '64 ГБ'}\",\n",
              "       \"{'Тип оперативной памяти': 'DDR 4', 'Объем оперативной памяти (Гб)': '32 гб'}\",\n",
              "       \"{'Тип оперативной памяти': 'DDR 5', 'Объем оперативной памяти (Гб)': '16 ГБ'}\",\n",
              "       \"{'Тип оперативной памяти': 'DDR 3', 'Объем оперативной памяти (Гб)': '8 гб'}\",\n",
              "       \"{'Тип оперативной памяти': 'DDR 4', 'Объем оперативной памяти (Гб)': '4 ГБ'}\",\n",
              "       \"{'Тип оперативной памяти': 'DDR 4', 'Объем оперативной памяти (Гб)': '8 гб'}\",\n",
              "       \"{'Тип оперативной памяти': 'не заполнено', 'Объем оперативной памяти (Гб)': '16 ГБ'}\",\n",
              "       \"{'Тип оперативной памяти': 'DDR 4', 'Объем оперативной памяти (Гб)': '16 gb'}\",\n",
              "       \"{'Тип оперативной памяти': 'не заполнено', 'Объем оперативной памяти (Гб)': '4 GB'}\",\n",
              "       \"{'Тип оперативной памяти': 'не заполнено', 'Объем оперативной памяти (Гб)': '8 ГБ'}\",\n",
              "       \"{'Тип оперативной памяти': 'DDR 3', 'Объем оперативной памяти (Гб)': '8'}\",\n",
              "       \"{'Тип оперативной памяти': 'не заполнено', 'Объем оперативной памяти (Гб)': '8'}\",\n",
              "       \"{'Тип оперативной памяти': 'не заполнено', 'Объем оперативной памяти (Гб)': '4'}\",\n",
              "       \"{'Тип оперативной памяти': '16', 'Объем оперативной памяти (Гб)': '16 ГБ'}\",\n",
              "       \"{'Тип оперативной памяти': 'не заполнено', 'Объем оперативной памяти (Гб)': '4 ГБ'}\",\n",
              "       \"{'Тип оперативной памяти': '16 Гб', 'Объем оперативной памяти (Гб)': '16 ГБ'}\",\n",
              "       \"{'Тип оперативной памяти': 'DDR 3', 'Объем оперативной памяти (Гб)': '16'}\",\n",
              "       \"{'Тип оперативной памяти': 'не заполнено', 'Объем оперативной памяти (Гб)': '16'}\",\n",
              "       \"{'Тип оперативной памяти': 'не заполнено', 'Объем оперативной памяти (Гб)': '8 гб'}\",\n",
              "       \"{'Тип оперативной памяти': 'не заполнено', 'Объем оперативной памяти (Гб)': '16 гб'}\",\n",
              "       \"{'Тип оперативной памяти': 'не заполнено', 'Объем оперативной памяти (Гб)': '6 ГБ'}\",\n",
              "       \"{'Тип оперативной памяти': 'DDR 4', 'Объем оперативной памяти (Гб)': '1000 гб'}\",\n",
              "       \"{'Тип оперативной памяти': '16', 'Объем оперативной памяти (Гб)': '16 гб'}\",\n",
              "       \"{'Тип оперативной памяти': 'DDR 5', 'Объем оперативной памяти (Гб)': '64 гб'}\",\n",
              "       \"{'Тип оперативной памяти': 'DDR 4', 'Объем оперативной памяти (Гб)': '16 Gb'}\",\n",
              "       \"{'Тип оперативной памяти': 'не заполнено', 'Объем оперативной памяти (Гб)': '4 гб'}\"],\n",
              "      dtype=object)"
            ]
          },
          "metadata": {},
          "execution_count": 315
        }
      ],
      "source": [
        "# посмотрим, что из себя представляют данные в колонке\n",
        "df.ram.unique()"
      ]
    },
    {
      "cell_type": "code",
      "execution_count": 316,
      "metadata": {
        "id": "0PsOdQHWAkck"
      },
      "outputs": [],
      "source": [
        "# распаковываем словарь, формируем новый столбец\n",
        "df['ram_type'] = df['ram'].apply(lambda x: eval(x)['Тип оперативной памяти'])"
      ]
    },
    {
      "cell_type": "code",
      "execution_count": 317,
      "metadata": {
        "id": "b70jNaPgAsGU"
      },
      "outputs": [],
      "source": [
        "# распаковываем словарь, формируем новый столбец\n",
        "df['ram_size'] = df['ram'].apply(lambda x: eval(x)['Объем оперативной памяти (Гб)'])"
      ]
    },
    {
      "cell_type": "code",
      "execution_count": 318,
      "metadata": {
        "colab": {
          "base_uri": "https://localhost:8080/"
        },
        "id": "zw5r48DhAtpf",
        "outputId": "b0c1822b-9cc2-40a1-b785-c0481a93a5ca"
      },
      "outputs": [
        {
          "output_type": "execute_result",
          "data": {
            "text/plain": [
              "DDR 4           2671\n",
              "DDR 3            246\n",
              "не заполнено      56\n",
              "DDR 5              4\n",
              "16                 2\n",
              "16 Гб              1\n",
              "Name: ram_type, dtype: int64"
            ]
          },
          "metadata": {},
          "execution_count": 318
        }
      ],
      "source": [
        "# посмотрим результат:\n",
        "df['ram_type'].value_counts()"
      ]
    },
    {
      "cell_type": "code",
      "execution_count": 319,
      "metadata": {
        "colab": {
          "base_uri": "https://localhost:8080/",
          "height": 423
        },
        "id": "Y3W4g6BgT_Jv",
        "outputId": "be5735ed-7210-459f-a73d-fdde312db6e6"
      },
      "outputs": [
        {
          "output_type": "execute_result",
          "data": {
            "text/plain": [
              "      product_id                                        title  price sales  \\\n",
              "2950   147211674  игровой компьютер /16gb/ssd-512/монитор-24\"  68800   NaN   \n",
              "2952   147213987  игровой компьютер /16gb/ssd-512/монитор-24\"  69120   NaN   \n",
              "3266   150787428                           игровой компьютер   51300   NaN   \n",
              "\n",
              "      feedbacks  seller_rating  \\\n",
              "2950          0            4.5   \n",
              "2952          0            4.5   \n",
              "3266          0            5.0   \n",
              "\n",
              "                                                    cpu  \\\n",
              "2950  {'Процессор_тип': 'Intel E5', 'Количество ядер...   \n",
              "2952  {'Процессор_тип': 'Intel Xeon', 'Количество яд...   \n",
              "3266  {'Процессор_тип': 'AMD Ryzen 5', 'Количество я...   \n",
              "\n",
              "                                                    ram  \\\n",
              "2950  {'Тип оперативной памяти': '16', 'Объем операт...   \n",
              "2952  {'Тип оперативной памяти': '16 Гб', 'Объем опе...   \n",
              "3266  {'Тип оперативной памяти': '16', 'Объем операт...   \n",
              "\n",
              "                                                storage  \\\n",
              "2950  {'Объем накопителя HDD': None, 'Объем накопите...   \n",
              "2952  {'Объем накопителя HDD': None, 'Объем накопите...   \n",
              "3266  {'Объем накопителя HDD': None, 'Объем накопите...   \n",
              "\n",
              "                     graphics operating_system warranty country  sales_range  \\\n",
              "2950  NVIDIA GeForce RTX 1060   Windows 11 Pro    1 год  Россия          0.0   \n",
              "2952  NVIDIA GeForce RTX 1060   Windows 11 Pro    1 год  Россия          0.0   \n",
              "3266        AMD Radeon Vega 7       Windows 10    1 год  Россия          0.0   \n",
              "\n",
              "         cpu_type        cpu_t cpu_brand  cores ram_type ram_size  \n",
              "2950     intel e5     intel e5     intel   12.0       16    16 ГБ  \n",
              "2952   intel xeon   intel xeon     intel   12.0    16 Гб    16 ГБ  \n",
              "3266  amd ryzen 5  amd ryzen 5       amd    6.0       16    16 гб  "
            ],
            "text/html": [
              "\n",
              "  <div id=\"df-8647237e-48d6-4c0a-b6b1-435e1b64634c\" class=\"colab-df-container\">\n",
              "    <div>\n",
              "<style scoped>\n",
              "    .dataframe tbody tr th:only-of-type {\n",
              "        vertical-align: middle;\n",
              "    }\n",
              "\n",
              "    .dataframe tbody tr th {\n",
              "        vertical-align: top;\n",
              "    }\n",
              "\n",
              "    .dataframe thead th {\n",
              "        text-align: right;\n",
              "    }\n",
              "</style>\n",
              "<table border=\"1\" class=\"dataframe\">\n",
              "  <thead>\n",
              "    <tr style=\"text-align: right;\">\n",
              "      <th></th>\n",
              "      <th>product_id</th>\n",
              "      <th>title</th>\n",
              "      <th>price</th>\n",
              "      <th>sales</th>\n",
              "      <th>feedbacks</th>\n",
              "      <th>seller_rating</th>\n",
              "      <th>cpu</th>\n",
              "      <th>ram</th>\n",
              "      <th>storage</th>\n",
              "      <th>graphics</th>\n",
              "      <th>operating_system</th>\n",
              "      <th>warranty</th>\n",
              "      <th>country</th>\n",
              "      <th>sales_range</th>\n",
              "      <th>cpu_type</th>\n",
              "      <th>cpu_t</th>\n",
              "      <th>cpu_brand</th>\n",
              "      <th>cores</th>\n",
              "      <th>ram_type</th>\n",
              "      <th>ram_size</th>\n",
              "    </tr>\n",
              "  </thead>\n",
              "  <tbody>\n",
              "    <tr>\n",
              "      <th>2950</th>\n",
              "      <td>147211674</td>\n",
              "      <td>игровой компьютер /16gb/ssd-512/монитор-24\"</td>\n",
              "      <td>68800</td>\n",
              "      <td>NaN</td>\n",
              "      <td>0</td>\n",
              "      <td>4.5</td>\n",
              "      <td>{'Процессор_тип': 'Intel E5', 'Количество ядер...</td>\n",
              "      <td>{'Тип оперативной памяти': '16', 'Объем операт...</td>\n",
              "      <td>{'Объем накопителя HDD': None, 'Объем накопите...</td>\n",
              "      <td>NVIDIA GeForce RTX 1060</td>\n",
              "      <td>Windows 11 Pro</td>\n",
              "      <td>1 год</td>\n",
              "      <td>Россия</td>\n",
              "      <td>0.0</td>\n",
              "      <td>intel e5</td>\n",
              "      <td>intel e5</td>\n",
              "      <td>intel</td>\n",
              "      <td>12.0</td>\n",
              "      <td>16</td>\n",
              "      <td>16 ГБ</td>\n",
              "    </tr>\n",
              "    <tr>\n",
              "      <th>2952</th>\n",
              "      <td>147213987</td>\n",
              "      <td>игровой компьютер /16gb/ssd-512/монитор-24\"</td>\n",
              "      <td>69120</td>\n",
              "      <td>NaN</td>\n",
              "      <td>0</td>\n",
              "      <td>4.5</td>\n",
              "      <td>{'Процессор_тип': 'Intel Xeon', 'Количество яд...</td>\n",
              "      <td>{'Тип оперативной памяти': '16 Гб', 'Объем опе...</td>\n",
              "      <td>{'Объем накопителя HDD': None, 'Объем накопите...</td>\n",
              "      <td>NVIDIA GeForce RTX 1060</td>\n",
              "      <td>Windows 11 Pro</td>\n",
              "      <td>1 год</td>\n",
              "      <td>Россия</td>\n",
              "      <td>0.0</td>\n",
              "      <td>intel xeon</td>\n",
              "      <td>intel xeon</td>\n",
              "      <td>intel</td>\n",
              "      <td>12.0</td>\n",
              "      <td>16 Гб</td>\n",
              "      <td>16 ГБ</td>\n",
              "    </tr>\n",
              "    <tr>\n",
              "      <th>3266</th>\n",
              "      <td>150787428</td>\n",
              "      <td>игровой компьютер</td>\n",
              "      <td>51300</td>\n",
              "      <td>NaN</td>\n",
              "      <td>0</td>\n",
              "      <td>5.0</td>\n",
              "      <td>{'Процессор_тип': 'AMD Ryzen 5', 'Количество я...</td>\n",
              "      <td>{'Тип оперативной памяти': '16', 'Объем операт...</td>\n",
              "      <td>{'Объем накопителя HDD': None, 'Объем накопите...</td>\n",
              "      <td>AMD Radeon Vega 7</td>\n",
              "      <td>Windows 10</td>\n",
              "      <td>1 год</td>\n",
              "      <td>Россия</td>\n",
              "      <td>0.0</td>\n",
              "      <td>amd ryzen 5</td>\n",
              "      <td>amd ryzen 5</td>\n",
              "      <td>amd</td>\n",
              "      <td>6.0</td>\n",
              "      <td>16</td>\n",
              "      <td>16 гб</td>\n",
              "    </tr>\n",
              "  </tbody>\n",
              "</table>\n",
              "</div>\n",
              "    <div class=\"colab-df-buttons\">\n",
              "\n",
              "  <div class=\"colab-df-container\">\n",
              "    <button class=\"colab-df-convert\" onclick=\"convertToInteractive('df-8647237e-48d6-4c0a-b6b1-435e1b64634c')\"\n",
              "            title=\"Convert this dataframe to an interactive table.\"\n",
              "            style=\"display:none;\">\n",
              "\n",
              "  <svg xmlns=\"http://www.w3.org/2000/svg\" height=\"24px\" viewBox=\"0 -960 960 960\">\n",
              "    <path d=\"M120-120v-720h720v720H120Zm60-500h600v-160H180v160Zm220 220h160v-160H400v160Zm0 220h160v-160H400v160ZM180-400h160v-160H180v160Zm440 0h160v-160H620v160ZM180-180h160v-160H180v160Zm440 0h160v-160H620v160Z\"/>\n",
              "  </svg>\n",
              "    </button>\n",
              "\n",
              "  <style>\n",
              "    .colab-df-container {\n",
              "      display:flex;\n",
              "      gap: 12px;\n",
              "    }\n",
              "\n",
              "    .colab-df-convert {\n",
              "      background-color: #E8F0FE;\n",
              "      border: none;\n",
              "      border-radius: 50%;\n",
              "      cursor: pointer;\n",
              "      display: none;\n",
              "      fill: #1967D2;\n",
              "      height: 32px;\n",
              "      padding: 0 0 0 0;\n",
              "      width: 32px;\n",
              "    }\n",
              "\n",
              "    .colab-df-convert:hover {\n",
              "      background-color: #E2EBFA;\n",
              "      box-shadow: 0px 1px 2px rgba(60, 64, 67, 0.3), 0px 1px 3px 1px rgba(60, 64, 67, 0.15);\n",
              "      fill: #174EA6;\n",
              "    }\n",
              "\n",
              "    .colab-df-buttons div {\n",
              "      margin-bottom: 4px;\n",
              "    }\n",
              "\n",
              "    [theme=dark] .colab-df-convert {\n",
              "      background-color: #3B4455;\n",
              "      fill: #D2E3FC;\n",
              "    }\n",
              "\n",
              "    [theme=dark] .colab-df-convert:hover {\n",
              "      background-color: #434B5C;\n",
              "      box-shadow: 0px 1px 3px 1px rgba(0, 0, 0, 0.15);\n",
              "      filter: drop-shadow(0px 1px 2px rgba(0, 0, 0, 0.3));\n",
              "      fill: #FFFFFF;\n",
              "    }\n",
              "  </style>\n",
              "\n",
              "    <script>\n",
              "      const buttonEl =\n",
              "        document.querySelector('#df-8647237e-48d6-4c0a-b6b1-435e1b64634c button.colab-df-convert');\n",
              "      buttonEl.style.display =\n",
              "        google.colab.kernel.accessAllowed ? 'block' : 'none';\n",
              "\n",
              "      async function convertToInteractive(key) {\n",
              "        const element = document.querySelector('#df-8647237e-48d6-4c0a-b6b1-435e1b64634c');\n",
              "        const dataTable =\n",
              "          await google.colab.kernel.invokeFunction('convertToInteractive',\n",
              "                                                    [key], {});\n",
              "        if (!dataTable) return;\n",
              "\n",
              "        const docLinkHtml = 'Like what you see? Visit the ' +\n",
              "          '<a target=\"_blank\" href=https://colab.research.google.com/notebooks/data_table.ipynb>data table notebook</a>'\n",
              "          + ' to learn more about interactive tables.';\n",
              "        element.innerHTML = '';\n",
              "        dataTable['output_type'] = 'display_data';\n",
              "        await google.colab.output.renderOutput(dataTable, element);\n",
              "        const docLink = document.createElement('div');\n",
              "        docLink.innerHTML = docLinkHtml;\n",
              "        element.appendChild(docLink);\n",
              "      }\n",
              "    </script>\n",
              "  </div>\n",
              "\n",
              "\n",
              "<div id=\"df-2b4bc53d-c958-45fc-a78e-c2e1d08138cc\">\n",
              "  <button class=\"colab-df-quickchart\" onclick=\"quickchart('df-2b4bc53d-c958-45fc-a78e-c2e1d08138cc')\"\n",
              "            title=\"Suggest charts.\"\n",
              "            style=\"display:none;\">\n",
              "\n",
              "<svg xmlns=\"http://www.w3.org/2000/svg\" height=\"24px\"viewBox=\"0 0 24 24\"\n",
              "     width=\"24px\">\n",
              "    <g>\n",
              "        <path d=\"M19 3H5c-1.1 0-2 .9-2 2v14c0 1.1.9 2 2 2h14c1.1 0 2-.9 2-2V5c0-1.1-.9-2-2-2zM9 17H7v-7h2v7zm4 0h-2V7h2v10zm4 0h-2v-4h2v4z\"/>\n",
              "    </g>\n",
              "</svg>\n",
              "  </button>\n",
              "\n",
              "<style>\n",
              "  .colab-df-quickchart {\n",
              "      --bg-color: #E8F0FE;\n",
              "      --fill-color: #1967D2;\n",
              "      --hover-bg-color: #E2EBFA;\n",
              "      --hover-fill-color: #174EA6;\n",
              "      --disabled-fill-color: #AAA;\n",
              "      --disabled-bg-color: #DDD;\n",
              "  }\n",
              "\n",
              "  [theme=dark] .colab-df-quickchart {\n",
              "      --bg-color: #3B4455;\n",
              "      --fill-color: #D2E3FC;\n",
              "      --hover-bg-color: #434B5C;\n",
              "      --hover-fill-color: #FFFFFF;\n",
              "      --disabled-bg-color: #3B4455;\n",
              "      --disabled-fill-color: #666;\n",
              "  }\n",
              "\n",
              "  .colab-df-quickchart {\n",
              "    background-color: var(--bg-color);\n",
              "    border: none;\n",
              "    border-radius: 50%;\n",
              "    cursor: pointer;\n",
              "    display: none;\n",
              "    fill: var(--fill-color);\n",
              "    height: 32px;\n",
              "    padding: 0;\n",
              "    width: 32px;\n",
              "  }\n",
              "\n",
              "  .colab-df-quickchart:hover {\n",
              "    background-color: var(--hover-bg-color);\n",
              "    box-shadow: 0 1px 2px rgba(60, 64, 67, 0.3), 0 1px 3px 1px rgba(60, 64, 67, 0.15);\n",
              "    fill: var(--button-hover-fill-color);\n",
              "  }\n",
              "\n",
              "  .colab-df-quickchart-complete:disabled,\n",
              "  .colab-df-quickchart-complete:disabled:hover {\n",
              "    background-color: var(--disabled-bg-color);\n",
              "    fill: var(--disabled-fill-color);\n",
              "    box-shadow: none;\n",
              "  }\n",
              "\n",
              "  .colab-df-spinner {\n",
              "    border: 2px solid var(--fill-color);\n",
              "    border-color: transparent;\n",
              "    border-bottom-color: var(--fill-color);\n",
              "    animation:\n",
              "      spin 1s steps(1) infinite;\n",
              "  }\n",
              "\n",
              "  @keyframes spin {\n",
              "    0% {\n",
              "      border-color: transparent;\n",
              "      border-bottom-color: var(--fill-color);\n",
              "      border-left-color: var(--fill-color);\n",
              "    }\n",
              "    20% {\n",
              "      border-color: transparent;\n",
              "      border-left-color: var(--fill-color);\n",
              "      border-top-color: var(--fill-color);\n",
              "    }\n",
              "    30% {\n",
              "      border-color: transparent;\n",
              "      border-left-color: var(--fill-color);\n",
              "      border-top-color: var(--fill-color);\n",
              "      border-right-color: var(--fill-color);\n",
              "    }\n",
              "    40% {\n",
              "      border-color: transparent;\n",
              "      border-right-color: var(--fill-color);\n",
              "      border-top-color: var(--fill-color);\n",
              "    }\n",
              "    60% {\n",
              "      border-color: transparent;\n",
              "      border-right-color: var(--fill-color);\n",
              "    }\n",
              "    80% {\n",
              "      border-color: transparent;\n",
              "      border-right-color: var(--fill-color);\n",
              "      border-bottom-color: var(--fill-color);\n",
              "    }\n",
              "    90% {\n",
              "      border-color: transparent;\n",
              "      border-bottom-color: var(--fill-color);\n",
              "    }\n",
              "  }\n",
              "</style>\n",
              "\n",
              "  <script>\n",
              "    async function quickchart(key) {\n",
              "      const quickchartButtonEl =\n",
              "        document.querySelector('#' + key + ' button');\n",
              "      quickchartButtonEl.disabled = true;  // To prevent multiple clicks.\n",
              "      quickchartButtonEl.classList.add('colab-df-spinner');\n",
              "      try {\n",
              "        const charts = await google.colab.kernel.invokeFunction(\n",
              "            'suggestCharts', [key], {});\n",
              "      } catch (error) {\n",
              "        console.error('Error during call to suggestCharts:', error);\n",
              "      }\n",
              "      quickchartButtonEl.classList.remove('colab-df-spinner');\n",
              "      quickchartButtonEl.classList.add('colab-df-quickchart-complete');\n",
              "    }\n",
              "    (() => {\n",
              "      let quickchartButtonEl =\n",
              "        document.querySelector('#df-2b4bc53d-c958-45fc-a78e-c2e1d08138cc button');\n",
              "      quickchartButtonEl.style.display =\n",
              "        google.colab.kernel.accessAllowed ? 'block' : 'none';\n",
              "    })();\n",
              "  </script>\n",
              "</div>\n",
              "    </div>\n",
              "  </div>\n"
            ]
          },
          "metadata": {},
          "execution_count": 319
        }
      ],
      "source": [
        "#есть несколько значений, в которых вместо типа указан размер, проверим их\n",
        "df[df['ram_type'].str.contains('16')]"
      ]
    },
    {
      "cell_type": "code",
      "execution_count": 320,
      "metadata": {
        "id": "llKiFD06UT4H"
      },
      "outputs": [],
      "source": [
        "# видим, что для этих продуктов информация о размере оперативной памяти есть, но отсутствут ее тип, поэтому заменим данные на \"не заполнено\"\n",
        "df['ram_type'] = df.ram_type.replace('16', 'не заполнено').replace('16 Гб', 'не заполнено')"
      ]
    },
    {
      "cell_type": "code",
      "execution_count": 321,
      "metadata": {
        "colab": {
          "base_uri": "https://localhost:8080/"
        },
        "id": "nLk2meYAVZOT",
        "outputId": "312493be-9175-4d69-c91a-b39eecf1ff9a"
      },
      "outputs": [
        {
          "output_type": "execute_result",
          "data": {
            "text/plain": [
              "DDR 4           2671\n",
              "DDR 3            246\n",
              "не заполнено      59\n",
              "DDR 5              4\n",
              "Name: ram_type, dtype: int64"
            ]
          },
          "metadata": {},
          "execution_count": 321
        }
      ],
      "source": [
        "# проверка успешеносит замены:\n",
        "df.ram_type.value_counts()"
      ]
    },
    {
      "cell_type": "code",
      "execution_count": 322,
      "metadata": {
        "id": "HmSL6tD4fP1v"
      },
      "outputs": [],
      "source": [
        "# фильтрация и исключение из датасета значений, которые не заполнены\n",
        "df = df[df['ram_type']!='не заполнено']"
      ]
    },
    {
      "cell_type": "code",
      "execution_count": 323,
      "metadata": {
        "colab": {
          "base_uri": "https://localhost:8080/"
        },
        "id": "NQPs3HFuffnw",
        "outputId": "b73b54e6-7ce3-45c7-a433-a5728ecc1ff8"
      },
      "outputs": [
        {
          "output_type": "execute_result",
          "data": {
            "text/plain": [
              "(2921, 20)"
            ]
          },
          "metadata": {},
          "execution_count": 323
        }
      ],
      "source": [
        "# проверка количества оставшихся строк\n",
        "df.shape"
      ]
    },
    {
      "cell_type": "code",
      "execution_count": 324,
      "metadata": {
        "colab": {
          "base_uri": "https://localhost:8080/"
        },
        "id": "S2BzZdnDBJOn",
        "outputId": "19be1a4d-902c-4129-8b79-f1d78e4d7963"
      },
      "outputs": [
        {
          "output_type": "stream",
          "name": "stdout",
          "text": [
            "16 ГБ      1273\n",
            "32 ГБ       405\n",
            "16          384\n",
            "8 ГБ        264\n",
            "32          218\n",
            "8           125\n",
            "4 ГБ         69\n",
            "16 Gb        60\n",
            "16 гб        47\n",
            "64           29\n",
            "32 гб        15\n",
            "16 gb        14\n",
            "4             8\n",
            "8 гб          5\n",
            "64 ГБ         2\n",
            "1000 гб       1\n",
            "64 гб         1\n",
            "240 гб        1\n",
            "Name: ram_size, dtype: int64\n"
          ]
        }
      ],
      "source": [
        "# проверим, нужна ли очистка для показателя 'ram_size'\n",
        "print(df['ram_size'].value_counts())"
      ]
    },
    {
      "cell_type": "code",
      "execution_count": 325,
      "metadata": {
        "id": "S0-9cSXWTPB2"
      },
      "outputs": [],
      "source": [
        "# очистим данные в колонке ram_size от букв и переведем в чиловой формат, для этого воспользуемся функцией с регулярными выражениями\n",
        "def ram_clear(data):\n",
        "  if pd.isna(data):\n",
        "    return np.nan\n",
        "  else:\n",
        "    return re.sub('\\D', '', data)"
      ]
    },
    {
      "cell_type": "code",
      "execution_count": 326,
      "metadata": {
        "id": "b0cbUO-7XUx9"
      },
      "outputs": [],
      "source": [
        "# применяем функцию\n",
        "df['ram_size'] = df['ram_size'].apply(ram_clear)"
      ]
    },
    {
      "cell_type": "code",
      "execution_count": 327,
      "metadata": {
        "id": "_-GUmqB0YNpq"
      },
      "outputs": [],
      "source": [
        "# переводим данные в числовой формат\n",
        "df['ram_size'] = df.ram_size.astype('Int64')"
      ]
    },
    {
      "cell_type": "code",
      "execution_count": 328,
      "metadata": {
        "colab": {
          "base_uri": "https://localhost:8080/"
        },
        "id": "aJRUWFPBXiWs",
        "outputId": "2e654430-8f1e-406d-d63f-c54396801b97"
      },
      "outputs": [
        {
          "output_type": "execute_result",
          "data": {
            "text/plain": [
              "<IntegerArray>\n",
              "[8, 16, 32, 4, 64, 240, 1000]\n",
              "Length: 7, dtype: Int64"
            ]
          },
          "metadata": {},
          "execution_count": 328
        }
      ],
      "source": [
        "# проверка значений после очистки\n",
        "df.ram_size.unique()"
      ]
    },
    {
      "cell_type": "code",
      "execution_count": 329,
      "metadata": {
        "colab": {
          "base_uri": "https://localhost:8080/"
        },
        "id": "iT-9crsRYACK",
        "outputId": "190245eb-0a08-4cdd-c296-ea2aea8b8620"
      },
      "outputs": [
        {
          "output_type": "execute_result",
          "data": {
            "text/plain": [
              "0"
            ]
          },
          "metadata": {},
          "execution_count": 329
        }
      ],
      "source": [
        "# проверим на отсутствие значений\n",
        "df.ram_size.isna().sum()"
      ]
    },
    {
      "cell_type": "code",
      "execution_count": 330,
      "metadata": {
        "id": "oKu9xrAwfNCA"
      },
      "outputs": [],
      "source": [
        "# уберем аномальные значения\n",
        "df = df[df['ram_size']<240]"
      ]
    },
    {
      "cell_type": "code",
      "execution_count": 331,
      "metadata": {
        "colab": {
          "base_uri": "https://localhost:8080/"
        },
        "id": "8p5FXNr7jVuu",
        "outputId": "3169101e-e86e-43ea-f5b3-06e4add071ed"
      },
      "outputs": [
        {
          "output_type": "execute_result",
          "data": {
            "text/plain": [
              "(2919, 20)"
            ]
          },
          "metadata": {},
          "execution_count": 331
        }
      ],
      "source": [
        "# проверка количества оставшихся строк\n",
        "df.shape"
      ]
    },
    {
      "cell_type": "markdown",
      "metadata": {
        "id": "KayNdix9ZbPX"
      },
      "source": [
        "## ***storage***"
      ]
    },
    {
      "cell_type": "markdown",
      "metadata": {
        "id": "Bly7YP26g-aA"
      },
      "source": [
        "Распакуем словари, создадим 4 колонки:\n",
        "- объем ssd\n",
        "- объем hhd\n",
        "- диск ssd\n",
        "- диск hhd\n",
        "Затем очистим данные в этих колонках, затем объединим данные из колонок объем ssd и объем hhd в storage_value и диск ssd и диск hhd в storage_type."
      ]
    },
    {
      "cell_type": "code",
      "execution_count": 332,
      "metadata": {
        "colab": {
          "base_uri": "https://localhost:8080/"
        },
        "id": "O-mb8MSlZh1n",
        "outputId": "e8d42626-7754-4732-d38f-3d60bf22e865"
      },
      "outputs": [
        {
          "output_type": "execute_result",
          "data": {
            "text/plain": [
              "3       {'Объем накопителя HDD': None, 'Объем накопите...\n",
              "4       {'Объем накопителя HDD': None, 'Объем накопите...\n",
              "5       {'Объем накопителя HDD': None, 'Объем накопите...\n",
              "6       {'Объем накопителя HDD': None, 'Объем накопите...\n",
              "7       {'Объем накопителя HDD': None, 'Объем накопите...\n",
              "                              ...                        \n",
              "4000    {'Объем накопителя HDD': '1000 Гб', 'Объем нак...\n",
              "4001    {'Объем накопителя HDD': '1000 Гб', 'Объем нак...\n",
              "4002    {'Объем накопителя HDD': '1000 Гб', 'Объем нак...\n",
              "4003    {'Объем накопителя HDD': '1000 Гб', 'Объем нак...\n",
              "4004    {'Объем накопителя HDD': '1000 Гб', 'Объем нак...\n",
              "Name: storage, Length: 2919, dtype: object"
            ]
          },
          "metadata": {},
          "execution_count": 332
        }
      ],
      "source": [
        "# посмотрим что из себя представляют данные колонки\n",
        "df['storage']"
      ]
    },
    {
      "cell_type": "code",
      "execution_count": 333,
      "metadata": {
        "id": "mIUgJinSZwoS"
      },
      "outputs": [],
      "source": [
        "# распаковываем словарь\n",
        "# df['cpu_type'] = df['cpu'].apply(lambda x: eval(x)['Процессор_тип'])\n",
        "df['hhd_value'] = df['storage'].apply(lambda x: eval(x)['Объем накопителя HDD'])"
      ]
    },
    {
      "cell_type": "code",
      "execution_count": 334,
      "metadata": {
        "id": "mHEUuG0trvw5"
      },
      "outputs": [],
      "source": [
        "# Создаем новую колонку, содержащую данные о SSD\n",
        "df['ssd_value'] = df['storage'].apply(lambda x: eval(x)['Объем накопителя SSD'])"
      ]
    },
    {
      "cell_type": "markdown",
      "metadata": {
        "id": "-CcFSkTutfMO"
      },
      "source": [
        "В данных видим несколько проблем:\n",
        "- присутствие номеров арт., которые помешают использованию регулярных выражений\n",
        "- присутствие букв, которые убрем при помощи регулярных выражений\n",
        "- есть данные в Гб и Тб, после преобразования в числовое значение, умножим на 1000 однозначные"
      ]
    },
    {
      "cell_type": "code",
      "execution_count": 335,
      "metadata": {
        "colab": {
          "base_uri": "https://localhost:8080/"
        },
        "id": "3p1-FwqOh7ju",
        "outputId": "c0edb841-01cb-4179-811b-0e5ce6178375"
      },
      "outputs": [
        {
          "output_type": "execute_result",
          "data": {
            "text/plain": [
              "array([None, '1000 Гб', '2000 Гб', '1 Тб', '1 тб', '2000Gb', '1 TB',\n",
              "       'нет', 'нет; без HDD', 'без HDD', '500 Gb', '1000 Gb', '500',\n",
              "       '3000 гб', '500 Гб', '2 ТБ', '500 гб', '512 Гб', 'Отсутствует',\n",
              "       'отсутствует', '1000', '250 гб', '4000 Гб; 4000', '1000 гб',\n",
              "       '1024 ГБ', '2 тб'], dtype=object)"
            ]
          },
          "metadata": {},
          "execution_count": 335
        }
      ],
      "source": [
        "# проверка значений\n",
        "df.hhd_value.unique()"
      ]
    },
    {
      "cell_type": "code",
      "execution_count": 336,
      "metadata": {
        "id": "lVAwYUXsqYrD"
      },
      "outputs": [],
      "source": [
        "# функция для очистки нечисловых значений\n",
        "def clear_hhd(data):\n",
        "  if pd.isna(data):\n",
        "    return np.nan\n",
        "  elif re.findall(r'\\D+\\d+', data):\n",
        "    return re.sub(r'\\D+\\d+', '', data)\n",
        "  else:\n",
        "    return re.sub(r'\\D', '', data)"
      ]
    },
    {
      "cell_type": "code",
      "execution_count": 337,
      "metadata": {
        "id": "KlYtKg7LiW__"
      },
      "outputs": [],
      "source": [
        "# применение функции для очистки от нечисловых значений\n",
        "df.hhd_value = df.hhd_value.apply(clear_hhd)"
      ]
    },
    {
      "cell_type": "code",
      "execution_count": 338,
      "metadata": {
        "id": "w4dRGvndK7gz"
      },
      "outputs": [],
      "source": [
        "# функция для замены близких значений (оставим 120, 250, 500, 1000)\n",
        "def storage_val(data):\n",
        "  if pd.isna(data):\n",
        "    return np.nan\n",
        "  elif re.findall(r'128', data):\n",
        "    return re.sub(r'128', '120', data)\n",
        "  elif re.findall(r'256', data):\n",
        "    return re.sub(r'256', '250', data)\n",
        "  elif re.findall(r'240', data):\n",
        "    return re.sub(r'240', '250', data)\n",
        "  elif re.findall(r'480', data):\n",
        "    return re.sub(r'480', '500', data)\n",
        "  elif re.findall(r'512', data):\n",
        "    return re.sub(r'512', '500', data)\n",
        "  elif re.findall(r'960', data):\n",
        "    return re.sub(r'960', '1000', data)\n",
        "  elif re.findall(r'64', data):\n",
        "    return re.sub(r'64', '60', data )\n",
        "  elif re.findall(r'1024', data):\n",
        "    return re.sub(r'1024', '1000', data)\n",
        "  else:\n",
        "    return data"
      ]
    },
    {
      "cell_type": "code",
      "execution_count": 339,
      "metadata": {
        "id": "5IOyNPmPLIsi"
      },
      "outputs": [],
      "source": [
        "# применение функции замены близких значений\n",
        "df['hhd_value'] = df['hhd_value'].apply(storage_val)"
      ]
    },
    {
      "cell_type": "code",
      "execution_count": 340,
      "metadata": {
        "colab": {
          "base_uri": "https://localhost:8080/"
        },
        "id": "chAZ_Pxli2-8",
        "outputId": "43d51a45-f1a5-4ff9-fdbd-5926dbd3e854"
      },
      "outputs": [
        {
          "output_type": "execute_result",
          "data": {
            "text/plain": [
              "array([nan, '1000', '2000', '1', '', '500', '3000', '2', '250', '4000'],\n",
              "      dtype=object)"
            ]
          },
          "metadata": {},
          "execution_count": 340
        }
      ],
      "source": [
        "# проверка получившегося результата\n",
        "df.hhd_value.unique()"
      ]
    },
    {
      "cell_type": "code",
      "execution_count": 341,
      "metadata": {
        "id": "aGjSYYiOjx7u"
      },
      "outputs": [],
      "source": [
        "# приведение полученных значений к числовому формату\n",
        "df['hhd_value'] = pd.to_numeric(df['hhd_value'])"
      ]
    },
    {
      "cell_type": "code",
      "execution_count": 342,
      "metadata": {
        "id": "mZWKKB8NMHTM"
      },
      "outputs": [],
      "source": [
        "# данные были записаны как в Гб, так и Тб, преобразует Тб в Гб. Значения в ТБ представлены в виде однозначных чисел, умножим их н 1000\n",
        "def to_gb(data):\n",
        "  if pd.isna(data):\n",
        "    return np.nan\n",
        "  elif data < 5.0:\n",
        "    return data * 1000\n",
        "  else:\n",
        "    return data"
      ]
    },
    {
      "cell_type": "code",
      "execution_count": 343,
      "metadata": {
        "id": "86Ck4tMcMJS2"
      },
      "outputs": [],
      "source": [
        "# применение функции преобразования Тб в Гб\n",
        "df['hhd_value'] = df['hhd_value'].apply(to_gb)"
      ]
    },
    {
      "cell_type": "code",
      "execution_count": 344,
      "metadata": {
        "id": "twJHmSQmpRAe"
      },
      "outputs": [],
      "source": [
        "# заполнение пропущенных значений 0\n",
        "df['hhd_value'] = df['hhd_value'].fillna(0)"
      ]
    },
    {
      "cell_type": "code",
      "execution_count": 345,
      "metadata": {
        "colab": {
          "base_uri": "https://localhost:8080/"
        },
        "id": "wLQ5CKdTMjTg",
        "outputId": "addd5f4b-6f4e-4f1a-fd33-9f7da74b8740"
      },
      "outputs": [
        {
          "output_type": "execute_result",
          "data": {
            "text/plain": [
              "array([   0., 1000., 2000.,  500., 3000.,  250., 4000.])"
            ]
          },
          "metadata": {},
          "execution_count": 345
        }
      ],
      "source": [
        "# проверка результата\n",
        "df['hhd_value'].unique()"
      ]
    },
    {
      "cell_type": "markdown",
      "metadata": {
        "id": "cyb_NBl5rrGs"
      },
      "source": [
        "Создадим колонку, в которую внесем информацию, является ли диск hhd"
      ]
    },
    {
      "cell_type": "code",
      "execution_count": 346,
      "metadata": {
        "id": "08f1C6yRj5R0"
      },
      "outputs": [],
      "source": [
        "# функция для определения, является ли диск hhd\n",
        "def storage_type(data):\n",
        "  if data != 0:\n",
        "    return 'hhd'\n",
        "  else:\n",
        "    return ''"
      ]
    },
    {
      "cell_type": "code",
      "execution_count": 347,
      "metadata": {
        "id": "s94zI5YXk2nL"
      },
      "outputs": [],
      "source": [
        "# применение функции\n",
        "df['hhd_type'] = df['hhd_value'].apply(storage_type)"
      ]
    },
    {
      "cell_type": "code",
      "execution_count": 348,
      "metadata": {
        "colab": {
          "base_uri": "https://localhost:8080/"
        },
        "id": "LUezGnSrlAih",
        "outputId": "33a4d7a0-fef4-4be8-f65f-fd963c84313c"
      },
      "outputs": [
        {
          "output_type": "execute_result",
          "data": {
            "text/plain": [
              "array(['', 'hhd'], dtype=object)"
            ]
          },
          "metadata": {},
          "execution_count": 348
        }
      ],
      "source": [
        "# проверка результата\n",
        "df['hhd_type'].unique()"
      ]
    },
    {
      "cell_type": "markdown",
      "metadata": {
        "id": "wkQxAv4bsTaD"
      },
      "source": [
        "Работаем с колонкой ssd_value"
      ]
    },
    {
      "cell_type": "code",
      "execution_count": 349,
      "metadata": {
        "colab": {
          "base_uri": "https://localhost:8080/"
        },
        "id": "mqRS2oZaMbsB",
        "outputId": "b2ca6b7e-6a40-458d-f3cd-b4f855a4168f"
      },
      "outputs": [
        {
          "output_type": "execute_result",
          "data": {
            "text/plain": [
              "480 ГБ                   758\n",
              "1000 Гб                  562\n",
              "512 Гб                   230\n",
              "960 Гб                   152\n",
              "240 Гб                   119\n",
              "256                      119\n",
              "480Gb                    117\n",
              "480                       70\n",
              "256 Гб                    66\n",
              "240 Gb                    47\n",
              "120 Gb                    47\n",
              "1000 гб                   42\n",
              "512                       41\n",
              "240Gb                     40\n",
              "960Gb                     35\n",
              "240                       32\n",
              "128                       32\n",
              "480 GB                    27\n",
              "480 Gb                    27\n",
              "120 GB                    27\n",
              "240 GB                    27\n",
              "512 гб                    21\n",
              "1 Тб                      20\n",
              "512 Gb                    20\n",
              "500 Гб                    20\n",
              "2 Тб                      19\n",
              "120 ГБ                    15\n",
              "500 гб                    15\n",
              "1000 GB                   14\n",
              "500                       13\n",
              "2000 ГБ                   12\n",
              "120GB                     10\n",
              "120                        8\n",
              "256 гб                     7\n",
              "480 гб                     7\n",
              "240 гб                     6\n",
              "1480 гб                    6\n",
              "1240 гб                    6\n",
              "480; 960                   6\n",
              "250 ГБ                     5\n",
              "2000                       4\n",
              "512 GB                     4\n",
              "120 гб                     4\n",
              "250 гб                     4\n",
              "1500 Гб                    2\n",
              "1 тб                       2\n",
              "1000GB PCI-E               2\n",
              "256 гб; 960 гб             1\n",
              "1500                       1\n",
              "1500 гб                    1\n",
              "2 тб                       1\n",
              "2000 гб                    1\n",
              "1000gb                     1\n",
              "250                        1\n",
              "128 Гб                     1\n",
              "512Гб арт. 100343717       1\n",
              "512Гб арт. 143553804       1\n",
              "1000                       1\n",
              "64 ГБ                      1\n",
              "1000Гб арт. 152611584      1\n",
              "Name: ssd_value, dtype: int64"
            ]
          },
          "metadata": {},
          "execution_count": 349
        }
      ],
      "source": [
        "# проверка значений\n",
        "df.ssd_value.value_counts()"
      ]
    },
    {
      "cell_type": "code",
      "execution_count": 350,
      "metadata": {
        "id": "cimNnSAqbKUs"
      },
      "outputs": [],
      "source": [
        "# функция для очистки от нечисловых значений\n",
        "def clear_ssd(data):\n",
        "  if pd.isna(data):\n",
        "    return np.nan\n",
        "  elif re.findall(r'арт', data):\n",
        "    return re.sub(r'\\D+\\s\\d+', '', data)\n",
        "  elif re.findall(r'\\D+\\d+', data):\n",
        "    return re.sub(r'\\D+\\d+', '', data)\n",
        "  else:\n",
        "    return re.sub('\\D', '', data)"
      ]
    },
    {
      "cell_type": "code",
      "execution_count": 351,
      "metadata": {
        "id": "kTN4DQdacLs7"
      },
      "outputs": [],
      "source": [
        "# применение функции\n",
        "df['ssd_value'] = df['ssd_value'].apply(clear_ssd)"
      ]
    },
    {
      "cell_type": "code",
      "execution_count": 352,
      "metadata": {
        "colab": {
          "base_uri": "https://localhost:8080/"
        },
        "id": "tHM-loOvY3YA",
        "outputId": "654db1c8-1dcd-4965-fb47-ce9a13086a40"
      },
      "outputs": [
        {
          "output_type": "execute_result",
          "data": {
            "text/plain": [
              "array(['480', '960', '512', '2', '240', '1000', '120', '256', '128', nan,\n",
              "       '250', '500', '1240', '1480', '1', '2000', '64', '1500', '256 гб'],\n",
              "      dtype=object)"
            ]
          },
          "metadata": {},
          "execution_count": 352
        }
      ],
      "source": [
        "# проверка результата\n",
        "df['ssd_value'].unique()"
      ]
    },
    {
      "cell_type": "markdown",
      "metadata": {
        "id": "YLx8LJhms0Hv"
      },
      "source": [
        "Остались нечисловые символы в данных, создадим функцию"
      ]
    },
    {
      "cell_type": "code",
      "execution_count": 353,
      "metadata": {
        "id": "7l8sgRR_NfWw"
      },
      "outputs": [],
      "source": [
        "# функция для очистки от нечисловых значений\n",
        "def clear_storage(data):\n",
        "  if pd.isna(data):\n",
        "    return np.nan\n",
        "  else:\n",
        "    return re.sub(r'\\D', '', data)"
      ]
    },
    {
      "cell_type": "code",
      "execution_count": 354,
      "metadata": {
        "id": "GqjM4X8sNzwy"
      },
      "outputs": [],
      "source": [
        "# применение функции\n",
        "df['ssd_value'] = df.ssd_value.apply(clear_storage)"
      ]
    },
    {
      "cell_type": "code",
      "execution_count": 355,
      "metadata": {
        "colab": {
          "base_uri": "https://localhost:8080/"
        },
        "id": "i3J2J5g2OFbz",
        "outputId": "090e9186-8f54-43fc-afbc-2ededaff1954"
      },
      "outputs": [
        {
          "output_type": "execute_result",
          "data": {
            "text/plain": [
              "480     1012\n",
              "1000     623\n",
              "512      318\n",
              "240      271\n",
              "256      193\n",
              "960      187\n",
              "120      111\n",
              "500       48\n",
              "128       33\n",
              "1         22\n",
              "2         20\n",
              "2000      17\n",
              "250       10\n",
              "1240       6\n",
              "1480       6\n",
              "1500       4\n",
              "64         1\n",
              "Name: ssd_value, dtype: int64"
            ]
          },
          "metadata": {},
          "execution_count": 355
        }
      ],
      "source": [
        "# проверка полученных значений\n",
        "df['ssd_value'].value_counts()"
      ]
    },
    {
      "cell_type": "code",
      "execution_count": 356,
      "metadata": {
        "id": "_yuhWtXfHTE_"
      },
      "outputs": [],
      "source": [
        "# применение функции замены близких значений, использованной ранее\n",
        "df['ssd_value'] = df['ssd_value'].apply(storage_val)"
      ]
    },
    {
      "cell_type": "code",
      "execution_count": 357,
      "metadata": {
        "colab": {
          "base_uri": "https://localhost:8080/"
        },
        "id": "mIxnv4_eIBJj",
        "outputId": "fb64927c-bb99-41ef-dcc4-40d5def94027"
      },
      "outputs": [
        {
          "output_type": "execute_result",
          "data": {
            "text/plain": [
              "500     1378\n",
              "1000     810\n",
              "250      474\n",
              "120      144\n",
              "1         22\n",
              "2         20\n",
              "2000      17\n",
              "1500      10\n",
              "1250       6\n",
              "60         1\n",
              "Name: ssd_value, dtype: int64"
            ]
          },
          "metadata": {},
          "execution_count": 357
        }
      ],
      "source": [
        "# проверка результата\n",
        "df['ssd_value'].value_counts()"
      ]
    },
    {
      "cell_type": "code",
      "execution_count": 358,
      "metadata": {
        "id": "UHJw9ZP_mGeh"
      },
      "outputs": [],
      "source": [
        "# перевод данных в числовой формат\n",
        "df['ssd_value'] = df['ssd_value'].astype('Int64')"
      ]
    },
    {
      "cell_type": "code",
      "execution_count": 359,
      "metadata": {
        "id": "vw7eyzSFfqs9"
      },
      "outputs": [],
      "source": [
        "# применение функции перевода Тб в Гб\n",
        "df['ssd_value'] = df['ssd_value'].apply(to_gb)"
      ]
    },
    {
      "cell_type": "code",
      "execution_count": 360,
      "metadata": {
        "colab": {
          "base_uri": "https://localhost:8080/"
        },
        "id": "4SWR4A7tt-V2",
        "outputId": "182456ef-3982-41f4-9c24-20f13a811752"
      },
      "outputs": [
        {
          "output_type": "execute_result",
          "data": {
            "text/plain": [
              "37"
            ]
          },
          "metadata": {},
          "execution_count": 360
        }
      ],
      "source": [
        "# проверка наличия пропущенных значений\n",
        "df['ssd_value'].isna().sum()"
      ]
    },
    {
      "cell_type": "code",
      "execution_count": 361,
      "metadata": {
        "id": "X_ZTyLdlqKZs"
      },
      "outputs": [],
      "source": [
        "# замена пропущенных значений на 0\n",
        "df['ssd_value'] = df['ssd_value'].fillna(0)"
      ]
    },
    {
      "cell_type": "code",
      "execution_count": 362,
      "metadata": {
        "colab": {
          "base_uri": "https://localhost:8080/"
        },
        "id": "2c6VmSuvgERy",
        "outputId": "391140b5-9a22-4651-be2b-52ebfbaac5ff"
      },
      "outputs": [
        {
          "output_type": "execute_result",
          "data": {
            "text/plain": [
              "array([ 500., 1000., 2000.,  250.,  120.,    0., 1250., 1500.,   60.])"
            ]
          },
          "metadata": {},
          "execution_count": 362
        }
      ],
      "source": [
        "# проверяем данные, однозначных данных не осталось, но есть пропущенные значения, оставим их, так как не все ПК имеют HDD, часть содержит SSD\n",
        "df['ssd_value'].unique()"
      ]
    },
    {
      "cell_type": "code",
      "execution_count": 363,
      "metadata": {
        "id": "wzJhiES6n2L6"
      },
      "outputs": [],
      "source": [
        "# создание столбца, в котором складываем значение объемов дисков ssd и hhd\n",
        "df['stor_value'] = df['ssd_value'] + df['hhd_value']"
      ]
    },
    {
      "cell_type": "code",
      "execution_count": 364,
      "metadata": {
        "colab": {
          "base_uri": "https://localhost:8080/"
        },
        "id": "uXnw5AkyoBzx",
        "outputId": "6115b59a-1d12-4e72-c559-81444b5117e4"
      },
      "outputs": [
        {
          "output_type": "execute_result",
          "data": {
            "text/plain": [
              "array([ 500., 1000., 1500., 2000.,  250., 2500., 1250., 1120.,  120.,\n",
              "        620.,  750., 3500., 3000.,   60., 4000., 6000., 2120.,    0.])"
            ]
          },
          "metadata": {},
          "execution_count": 364
        }
      ],
      "source": [
        "# проверка результата\n",
        "df['stor_value'].unique()"
      ]
    },
    {
      "cell_type": "markdown",
      "metadata": {
        "id": "zd9lCvTCupdS"
      },
      "source": [
        "Создадим колонку, в которую внесем информацию, является ли диск ssd"
      ]
    },
    {
      "cell_type": "code",
      "execution_count": 365,
      "metadata": {
        "id": "wVvrA1MhMvRb"
      },
      "outputs": [],
      "source": [
        "# создание функции для определения, является ли диск ssd\n",
        "def storage_type_2(data):\n",
        "  if data != 0:\n",
        "    return 'ssd'\n",
        "  else:\n",
        "    return ''"
      ]
    },
    {
      "cell_type": "code",
      "execution_count": 366,
      "metadata": {
        "id": "QSHbYeQ_M0ry"
      },
      "outputs": [],
      "source": [
        "# применение функции\n",
        "df['ssd_type'] = df['ssd_value'].apply(storage_type_2)"
      ]
    },
    {
      "cell_type": "code",
      "execution_count": 367,
      "metadata": {
        "colab": {
          "base_uri": "https://localhost:8080/"
        },
        "id": "uRfkJPtfM-Or",
        "outputId": "32fd8e07-9924-49fa-ab42-ef39ddfd291b"
      },
      "outputs": [
        {
          "output_type": "execute_result",
          "data": {
            "text/plain": [
              "array(['ssd', ''], dtype=object)"
            ]
          },
          "metadata": {},
          "execution_count": 367
        }
      ],
      "source": [
        "# проверка результата\n",
        "df['ssd_type'].unique()"
      ]
    },
    {
      "cell_type": "code",
      "execution_count": 368,
      "metadata": {
        "colab": {
          "base_uri": "https://localhost:8080/"
        },
        "id": "NbDRIRQMT_0f",
        "outputId": "92da9718-3404-4f30-da61-1b98ff16190f"
      },
      "outputs": [
        {
          "output_type": "execute_result",
          "data": {
            "text/plain": [
              "array(['ssd', 'hhdssd', 'hhd', ''], dtype=object)"
            ]
          },
          "metadata": {},
          "execution_count": 368
        }
      ],
      "source": [
        "# создание колонки, показывающей, имеет ли компьютер диск ssd, hhd или оба\n",
        "df['stor_type'] =df['hhd_type'] + df['ssd_type']\n",
        "df['stor_type'].unique()"
      ]
    },
    {
      "cell_type": "code",
      "execution_count": 369,
      "metadata": {
        "id": "WprZS8B6s3P7"
      },
      "outputs": [],
      "source": [
        "# фильтрация датасета по наличию даннных о типе диска\n",
        "df = df[df['stor_type'] != '']"
      ]
    },
    {
      "cell_type": "code",
      "execution_count": 370,
      "metadata": {
        "colab": {
          "base_uri": "https://localhost:8080/"
        },
        "id": "6nYTBz5xs__C",
        "outputId": "2dae240a-7501-4dde-ad8f-5c36361a4007"
      },
      "outputs": [
        {
          "output_type": "execute_result",
          "data": {
            "text/plain": [
              "(2918, 26)"
            ]
          },
          "metadata": {},
          "execution_count": 370
        }
      ],
      "source": [
        "# проверка результата\n",
        "df.shape"
      ]
    },
    {
      "cell_type": "markdown",
      "metadata": {
        "id": "Wze5IxN1fOPU"
      },
      "source": [
        "## ***graphics***"
      ]
    },
    {
      "cell_type": "code",
      "execution_count": 371,
      "metadata": {
        "colab": {
          "base_uri": "https://localhost:8080/"
        },
        "id": "2h4GvdKOfP7l",
        "outputId": "38fce952-7717-4581-b1dc-d19147904699"
      },
      "outputs": [
        {
          "output_type": "execute_result",
          "data": {
            "text/plain": [
              "array(['Intel UHD Graphics 630', 'NVIDIA GeForce GTX 1660',\n",
              "       'NVIDIA GeForce GTX 1650', 'NVIDIA GeForce RTX 3070',\n",
              "       'NVIDIA GeForce RTX 3050', 'AMD Radeon Vega 7',\n",
              "       'NVIDIA GeForce RTX 3080', 'AMD Radeon Vega 3',\n",
              "       'NVIDIA GeForce RTX 3060', 'NVIDIA GeForce GT 1030',\n",
              "       'intel UHD Graphics 750', 'Intel HD Graphics',\n",
              "       'NVIDIA GeForce GTX 1050', 'NVIDIA GeForce RTX 2060',\n",
              "       'AMD Radeon R5', 'Intel UHD Graphics 610',\n",
              "       'NVIDIA GeForce GTX 1630', 'NVIDIA GeForce GT 730',\n",
              "       'AMD Radeon RX 6500', 'Intel HD Graphics 2000',\n",
              "       'Intel HD Graphics 4000', 'не заполнено', 'AMD Radeon Vega 8',\n",
              "       'AMD Radeon RX 6600', 'Intel HD Graphics 2500',\n",
              "       'NVIDIA GeForce RTX 4080', 'AMD Radeon RX 550',\n",
              "       'AMD Radeon RX 470', 'RX 460', 'AMD Radeon RX 580',\n",
              "       'AMD Radeon Vega 6', 'Radeon R7 350', 'NVIDIA GeForce RTX 1660',\n",
              "       'NVIDIA GeForce GTX 650', 'NVIDIA GeForce RTX 4070', 'NVIDIA',\n",
              "       'nvidia', 'Nvidia', 'invidia', 'UHD-графика Intel 630',\n",
              "       'Intel UHD Graphics 730', 'NVIDIA GeForce GTX 1060',\n",
              "       'AMD Radeon RX 570', 'RTX', 'AMD Radeon RX 6700',\n",
              "       'NVIDIA GeForce GTX 970'], dtype=object)"
            ]
          },
          "metadata": {},
          "execution_count": 371
        }
      ],
      "source": [
        "# смотрим на, что из себя представляют данные\n",
        "df['graphics'].unique()"
      ]
    },
    {
      "cell_type": "markdown",
      "metadata": {
        "id": "nHPhezP3qI35"
      },
      "source": [
        "План действий по очистке:\n",
        "1. Привести все значения к нижнему регистру.\n",
        "2. Проверить наличие похожих названий, орфографических ошибок, исправление при необходимости.\n"
      ]
    },
    {
      "cell_type": "code",
      "execution_count": 372,
      "metadata": {
        "colab": {
          "base_uri": "https://localhost:8080/"
        },
        "id": "BDo9et9kkya8",
        "outputId": "60f041c9-38f4-47fe-e8e6-ebf4be8116e1"
      },
      "outputs": [
        {
          "output_type": "stream",
          "name": "stderr",
          "text": [
            "<ipython-input-372-cb6020d90999>:2: SettingWithCopyWarning: \n",
            "A value is trying to be set on a copy of a slice from a DataFrame.\n",
            "Try using .loc[row_indexer,col_indexer] = value instead\n",
            "\n",
            "See the caveats in the documentation: https://pandas.pydata.org/pandas-docs/stable/user_guide/indexing.html#returning-a-view-versus-a-copy\n",
            "  df['graphics'] = df['graphics'].str.lower()\n"
          ]
        },
        {
          "output_type": "execute_result",
          "data": {
            "text/plain": [
              "array(['intel uhd graphics 630', 'nvidia geforce gtx 1660',\n",
              "       'nvidia geforce gtx 1650', 'nvidia geforce rtx 3070',\n",
              "       'nvidia geforce rtx 3050', 'amd radeon vega 7',\n",
              "       'nvidia geforce rtx 3080', 'amd radeon vega 3',\n",
              "       'nvidia geforce rtx 3060', 'nvidia geforce gt 1030',\n",
              "       'intel uhd graphics 750', 'intel hd graphics',\n",
              "       'nvidia geforce gtx 1050', 'nvidia geforce rtx 2060',\n",
              "       'amd radeon r5', 'intel uhd graphics 610',\n",
              "       'nvidia geforce gtx 1630', 'nvidia geforce gt 730',\n",
              "       'amd radeon rx 6500', 'intel hd graphics 2000',\n",
              "       'intel hd graphics 4000', 'не заполнено', 'amd radeon vega 8',\n",
              "       'amd radeon rx 6600', 'intel hd graphics 2500',\n",
              "       'nvidia geforce rtx 4080', 'amd radeon rx 550',\n",
              "       'amd radeon rx 470', 'rx 460', 'amd radeon rx 580',\n",
              "       'amd radeon vega 6', 'radeon r7 350', 'nvidia geforce rtx 1660',\n",
              "       'nvidia geforce gtx 650', 'nvidia geforce rtx 4070', 'nvidia',\n",
              "       'invidia', 'uhd-графика intel 630', 'intel uhd graphics 730',\n",
              "       'nvidia geforce gtx 1060', 'amd radeon rx 570', 'rtx',\n",
              "       'amd radeon rx 6700', 'nvidia geforce gtx 970'], dtype=object)"
            ]
          },
          "metadata": {},
          "execution_count": 372
        }
      ],
      "source": [
        "# приведение к нижнему регистру и проверка результата\n",
        "df['graphics'] = df['graphics'].str.lower()\n",
        "df['graphics'].unique()"
      ]
    },
    {
      "cell_type": "markdown",
      "metadata": {
        "id": "iz1SI9r3vx7X"
      },
      "source": [
        "Создадим колонку с именем графической карты, проверим, относится ли видеокарта к одному из списка: nvidia, amd, intel"
      ]
    },
    {
      "cell_type": "code",
      "execution_count": 373,
      "metadata": {
        "id": "CiWLVZG1IOXV"
      },
      "outputs": [],
      "source": [
        "# функция для определения к какому бренду относится видеокарта\n",
        "def graph_range(data):\n",
        "  if re.findall(r'nvidia', data):\n",
        "    return 'nvidia'\n",
        "  elif re.findall(r'intel', data):\n",
        "    return 'intel'\n",
        "  elif re.findall(r'amd', data):\n",
        "    return 'amd'\n",
        "  elif re.findall(r'rtx', data):\n",
        "    return 'nvidia'\n",
        "  elif re.findall(r'rx', data):\n",
        "    return 'amd'\n",
        "  elif re.findall(r'geforce', data):\n",
        "    return 'nvidia'\n",
        "  elif re.findall(r'radeon', data):\n",
        "    return 'amd'\n",
        "  elif re.findall(r'vega', data):\n",
        "    return 'amd'\n",
        "  else:\n",
        "    return data"
      ]
    },
    {
      "cell_type": "code",
      "execution_count": 374,
      "metadata": {
        "colab": {
          "base_uri": "https://localhost:8080/"
        },
        "id": "VSU36QvsI3RW",
        "outputId": "60021781-2d35-4510-fd72-c26d4957f20f"
      },
      "outputs": [
        {
          "output_type": "stream",
          "name": "stderr",
          "text": [
            "<ipython-input-374-bc97413d0684>:2: SettingWithCopyWarning: \n",
            "A value is trying to be set on a copy of a slice from a DataFrame.\n",
            "Try using .loc[row_indexer,col_indexer] = value instead\n",
            "\n",
            "See the caveats in the documentation: https://pandas.pydata.org/pandas-docs/stable/user_guide/indexing.html#returning-a-view-versus-a-copy\n",
            "  df['graphics_range'] = df['graphics'].apply(graph_range)\n"
          ]
        }
      ],
      "source": [
        "# применение функции\n",
        "df['graphics_range'] = df['graphics'].apply(graph_range)"
      ]
    },
    {
      "cell_type": "code",
      "execution_count": 375,
      "metadata": {
        "colab": {
          "base_uri": "https://localhost:8080/"
        },
        "id": "bCzn0W0kJYAN",
        "outputId": "6b2cba63-cadc-419c-9882-f4033375f09e"
      },
      "outputs": [
        {
          "output_type": "execute_result",
          "data": {
            "text/plain": [
              "nvidia          2188\n",
              "amd              419\n",
              "intel            297\n",
              "не заполнено      14\n",
              "Name: graphics_range, dtype: int64"
            ]
          },
          "metadata": {},
          "execution_count": 375
        }
      ],
      "source": [
        "# проверка результата\n",
        "df['graphics_range'].value_counts()"
      ]
    },
    {
      "cell_type": "code",
      "execution_count": 376,
      "metadata": {
        "id": "S5rvR-T2gbUr"
      },
      "outputs": [],
      "source": [
        "# фильтрация по значениям, которые заполнены и удаление незаполненных\n",
        "df = df[df['graphics_range'] != 'не заполнено']"
      ]
    },
    {
      "cell_type": "code",
      "execution_count": 377,
      "metadata": {
        "colab": {
          "base_uri": "https://localhost:8080/"
        },
        "id": "aInHjdKTgkds",
        "outputId": "f16b7b4f-5660-476b-fedf-4890da4bc850"
      },
      "outputs": [
        {
          "output_type": "execute_result",
          "data": {
            "text/plain": [
              "(2904, 27)"
            ]
          },
          "metadata": {},
          "execution_count": 377
        }
      ],
      "source": [
        "# проверка количества оставшихся строк\n",
        "df.shape"
      ]
    },
    {
      "cell_type": "markdown",
      "metadata": {
        "id": "qJbcs1YUgIHy"
      },
      "source": [
        "## ***operating_system***"
      ]
    },
    {
      "cell_type": "code",
      "execution_count": 378,
      "metadata": {
        "colab": {
          "base_uri": "https://localhost:8080/"
        },
        "id": "dzboKN7CgCTY",
        "outputId": "69caf905-6447-40a2-edde-0731d6185787"
      },
      "outputs": [
        {
          "output_type": "execute_result",
          "data": {
            "text/plain": [
              "array(['windows пробная', 'Windows 10 Pro', 'отсутствует',\n",
              "       'Windows 11 Pro (Trial)', 'Windows 10', 'Windows 7/8/10, LINUX',\n",
              "       'Windows 10 Home пробная', 'Windows пробная версия',\n",
              "       'windows 10 trial', 'Windows 10 пробная', 'Windows 11', 'Free DOS',\n",
              "       'Microsoft Windows 11', 'Window 10 Pro trial', 'Windows', 'DOS',\n",
              "       'Windows 11 Pro', 'windows 10', 'WINDOWS 10',\n",
              "       'Windows 10 Pro Trial', 'Windows 10 Home', 'Без OC',\n",
              "       'Windows 11 Home'], dtype=object)"
            ]
          },
          "metadata": {},
          "execution_count": 378
        }
      ],
      "source": [
        "# посмотрим в каком виде представлены данные\n",
        "df['operating_system'].unique()"
      ]
    },
    {
      "cell_type": "markdown",
      "metadata": {
        "id": "XaajjwntkB3p"
      },
      "source": [
        "Видим несколько проблем, которые необходимо исправить:\n",
        "- приведем все данные к нижнему регистру для удобства\n",
        "- есть названия одних и тех же операционных систем на русском и английском - приведем к единому виду\n",
        "- исправим грамматические ошибки или описки"
      ]
    },
    {
      "cell_type": "code",
      "execution_count": 379,
      "metadata": {
        "colab": {
          "base_uri": "https://localhost:8080/"
        },
        "id": "fzqpX4Y4ALWt",
        "outputId": "8ae7b877-8fb5-45f9-a202-90d7e41e1462"
      },
      "outputs": [
        {
          "output_type": "stream",
          "name": "stderr",
          "text": [
            "<ipython-input-379-39b2cee7f0f4>:2: SettingWithCopyWarning: \n",
            "A value is trying to be set on a copy of a slice from a DataFrame.\n",
            "Try using .loc[row_indexer,col_indexer] = value instead\n",
            "\n",
            "See the caveats in the documentation: https://pandas.pydata.org/pandas-docs/stable/user_guide/indexing.html#returning-a-view-versus-a-copy\n",
            "  df['operating_system'] = df['operating_system'].str.lower()\n"
          ]
        },
        {
          "output_type": "execute_result",
          "data": {
            "text/plain": [
              "windows 10 pro             1579\n",
              "windows 11 pro              621\n",
              "windows 10                  352\n",
              "windows пробная             207\n",
              "отсутствует                  31\n",
              "windows 10 pro trial         25\n",
              "windows 10 пробная           23\n",
              "windows 11                   19\n",
              "windows 10 trial             16\n",
              "windows                      11\n",
              "windows 10 home               7\n",
              "windows 10 home пробная       3\n",
              "windows 11 pro (trial)        2\n",
              "windows пробная версия        1\n",
              "free dos                      1\n",
              "microsoft windows 11          1\n",
              "window 10 pro trial           1\n",
              "dos                           1\n",
              "windows 7/8/10, linux         1\n",
              "без oc                        1\n",
              "windows 11 home               1\n",
              "Name: operating_system, dtype: int64"
            ]
          },
          "metadata": {},
          "execution_count": 379
        }
      ],
      "source": [
        "# приводим к нижнему регистру\n",
        "df['operating_system'] = df['operating_system'].str.lower()\n",
        "df['operating_system'].value_counts()"
      ]
    },
    {
      "cell_type": "code",
      "execution_count": 380,
      "metadata": {
        "id": "DLdpQMSQtKm5"
      },
      "outputs": [],
      "source": [
        "# функция для очистки данных\n",
        "def oper_clear(data):\n",
        "  if re.findall(r'пробная', data) or re.findall(r'trial', data):\n",
        "    return 'windows пробная'\n",
        "  elif re.findall(r'10 pro', data):\n",
        "    return 'windows 10 pro'\n",
        "  elif re.findall(r'10', data):\n",
        "    return 'windows 10'\n",
        "  elif re.findall(r'11 pro', data):\n",
        "    return 'windows 11 pro'\n",
        "  elif re.findall(r'11', data):\n",
        "    return 'windows 11'\n",
        "  elif re.findall(r'dos', data):\n",
        "    return 'dos'\n",
        "  elif re.findall(r'без oc', data):\n",
        "    return 'отсутствует'\n",
        "  else:\n",
        "    return data\n"
      ]
    },
    {
      "cell_type": "code",
      "execution_count": 381,
      "metadata": {
        "colab": {
          "base_uri": "https://localhost:8080/"
        },
        "id": "INRfW2iwutkw",
        "outputId": "d032fd24-fd70-457e-f337-3f7a3120f2d7"
      },
      "outputs": [
        {
          "output_type": "stream",
          "name": "stderr",
          "text": [
            "<ipython-input-381-e32a7094866a>:2: SettingWithCopyWarning: \n",
            "A value is trying to be set on a copy of a slice from a DataFrame.\n",
            "Try using .loc[row_indexer,col_indexer] = value instead\n",
            "\n",
            "See the caveats in the documentation: https://pandas.pydata.org/pandas-docs/stable/user_guide/indexing.html#returning-a-view-versus-a-copy\n",
            "  df['operating_system'] = df['operating_system'].apply(oper_clear)\n"
          ]
        }
      ],
      "source": [
        "# применение функции\n",
        "df['operating_system'] = df['operating_system'].apply(oper_clear)"
      ]
    },
    {
      "cell_type": "code",
      "execution_count": 382,
      "metadata": {
        "colab": {
          "base_uri": "https://localhost:8080/"
        },
        "id": "veIbFNgFEpwX",
        "outputId": "07245d98-290d-4a5d-d3e7-62ff69401e65"
      },
      "outputs": [
        {
          "output_type": "execute_result",
          "data": {
            "text/plain": [
              "windows 10 pro     1579\n",
              "windows 11 pro      621\n",
              "windows 10          360\n",
              "windows пробная     278\n",
              "отсутствует          32\n",
              "windows 11           21\n",
              "windows              11\n",
              "dos                   2\n",
              "Name: operating_system, dtype: int64"
            ]
          },
          "metadata": {},
          "execution_count": 382
        }
      ],
      "source": [
        "# проверка результата\n",
        "df['operating_system'].value_counts()"
      ]
    },
    {
      "cell_type": "markdown",
      "metadata": {
        "id": "w1wU8wvigXIm"
      },
      "source": [
        "## ***warranty***"
      ]
    },
    {
      "cell_type": "code",
      "execution_count": 383,
      "metadata": {
        "colab": {
          "base_uri": "https://localhost:8080/"
        },
        "id": "luNl2jqPgZTN",
        "outputId": "d829c79d-34e7-4a51-994c-fce297b2a606"
      },
      "outputs": [
        {
          "output_type": "execute_result",
          "data": {
            "text/plain": [
              "3 Года (36 месяцев)        717\n",
              "3 года                     457\n",
              "1 год                      366\n",
              "12 месяцев                 119\n",
              "12 месяцев от KING KOMP     23\n",
              "24 месяца                   21\n",
              "1 год; 12 мес               12\n",
              "2 года                       7\n",
              "1 год; 12 месяцев            7\n",
              "1 год (12 месяцев)           4\n",
              "3 месяца                     2\n",
              "12 месяцев от King Komp      2\n",
              "6 месяцев                    1\n",
              "1                            1\n",
              "14 дней                      1\n",
              "24 мес                       1\n",
              "Name: warranty, dtype: int64"
            ]
          },
          "metadata": {},
          "execution_count": 383
        }
      ],
      "source": [
        "# смотрим в каком виде представлены данные\n",
        "df['warranty'].value_counts()"
      ]
    },
    {
      "cell_type": "markdown",
      "metadata": {
        "id": "siO61ViVk9mN"
      },
      "source": [
        "План действий:\n",
        "- приведем данные к нижнему регистру\n",
        "- очистим данные от нечисловых значений\n",
        "- приведем все данные к месяцам (есть данные в годах, днях и месяцах)\n",
        "- переведем данные в числовой тип"
      ]
    },
    {
      "cell_type": "code",
      "execution_count": 384,
      "metadata": {
        "colab": {
          "base_uri": "https://localhost:8080/"
        },
        "id": "Eo4_TuGgdZ8h",
        "outputId": "93239ea6-069d-447a-a4ae-12a6c4f2c6c6"
      },
      "outputs": [
        {
          "output_type": "stream",
          "name": "stderr",
          "text": [
            "<ipython-input-384-403f0b268b6c>:2: SettingWithCopyWarning: \n",
            "A value is trying to be set on a copy of a slice from a DataFrame.\n",
            "Try using .loc[row_indexer,col_indexer] = value instead\n",
            "\n",
            "See the caveats in the documentation: https://pandas.pydata.org/pandas-docs/stable/user_guide/indexing.html#returning-a-view-versus-a-copy\n",
            "  df['warranty'] = df['warranty'].str.lower()\n"
          ]
        }
      ],
      "source": [
        "# переводим в нижний регистр\n",
        "df['warranty'] = df['warranty'].str.lower()"
      ]
    },
    {
      "cell_type": "code",
      "execution_count": 385,
      "metadata": {
        "id": "A9AX00Expqot"
      },
      "outputs": [],
      "source": [
        "# функция для очистки, перевода в числовой тип данных и приведения к единой системе измерений (месяц)\n",
        "def warr_clear(data):\n",
        "  if pd.isna(data):\n",
        "    return np.nan\n",
        "  elif re.findall(r'год', data):                               #найдем данные, которые содержат \"год\"\n",
        "    if re.findall(r'\\D+\\d+\\D+', data):                         # для данных, которые содержат в себе количество лет и месяцев (число, текст, число, текст)\n",
        "      return int(re.sub(r'\\D+\\d+\\D+', '', data)) * 12\n",
        "    elif re.findall('r\\D', data):                              # для данных, которые содержат в себе только год\n",
        "      return int(re.sub(r'\\D', '', data)) *12\n",
        "  elif re.findall(r'дней', data):                             # для данных, которые содержат дни\n",
        "    return round(int(re.sub('\\D', '', data)) / 30, 1)\n",
        "  else:\n",
        "    return int(re.sub('\\D', '', data))"
      ]
    },
    {
      "cell_type": "code",
      "execution_count": 386,
      "metadata": {
        "id": "a_ZBqdcWaW7q"
      },
      "outputs": [],
      "source": [
        "# применяем функцию к данным\n",
        "df['warranty_clean'] = df['warranty'].apply(warr_clear)"
      ]
    },
    {
      "cell_type": "code",
      "execution_count": 387,
      "metadata": {
        "colab": {
          "base_uri": "https://localhost:8080/"
        },
        "id": "PwgfnS7Wg_V4",
        "outputId": "819c3d83-5c79-4b99-f1d2-6f86838ef889"
      },
      "outputs": [
        {
          "output_type": "execute_result",
          "data": {
            "text/plain": [
              "36.0    717\n",
              "12.0    167\n",
              "24.0     22\n",
              "3.0       2\n",
              "6.0       1\n",
              "1.0       1\n",
              "0.5       1\n",
              "Name: warranty_clean, dtype: int64"
            ]
          },
          "metadata": {},
          "execution_count": 387
        }
      ],
      "source": [
        "# проверка корректности\n",
        "df['warranty_clean'].value_counts()"
      ]
    },
    {
      "cell_type": "markdown",
      "metadata": {
        "id": "vF3vWXC_jmaU"
      },
      "source": [
        "## ***country***"
      ]
    },
    {
      "cell_type": "code",
      "execution_count": 388,
      "metadata": {
        "colab": {
          "base_uri": "https://localhost:8080/"
        },
        "id": "h4a_QffJhDOf",
        "outputId": "982bfe96-193d-413e-b57e-ff76939151b2"
      },
      "outputs": [
        {
          "output_type": "execute_result",
          "data": {
            "text/plain": [
              "array(['Россия', nan, 'Китай'], dtype=object)"
            ]
          },
          "metadata": {},
          "execution_count": 388
        }
      ],
      "source": [
        "# смотрим, в каком виде представлены данные\n",
        "df['country'].unique()"
      ]
    },
    {
      "cell_type": "markdown",
      "metadata": {
        "id": "HdaTUPg4nCT2"
      },
      "source": [
        "Данные не требуют очистки."
      ]
    },
    {
      "cell_type": "markdown",
      "metadata": {
        "id": "shWvwtmwoAxF"
      },
      "source": [
        "## **Проверка датасета**"
      ]
    },
    {
      "cell_type": "code",
      "execution_count": 389,
      "metadata": {
        "colab": {
          "base_uri": "https://localhost:8080/",
          "height": 217
        },
        "id": "sme5m1zFoHpw",
        "outputId": "e8399cba-f8b2-4b96-835a-4522baca2650"
      },
      "outputs": [
        {
          "output_type": "execute_result",
          "data": {
            "text/plain": [
              "   product_id                                    title  price  \\\n",
              "3    19347937  офисный компьютер robotcomp казначей v1  39237   \n",
              "\n",
              "                 sales  feedbacks  seller_rating  \\\n",
              "3  Купили более 10 раз          1            4.7   \n",
              "\n",
              "                                                 cpu  \\\n",
              "3  {'Процессор_тип': 'Intel Core i5', 'Количество...   \n",
              "\n",
              "                                                 ram  \\\n",
              "3  {'Тип оперативной памяти': 'DDR 4', 'Объем опе...   \n",
              "\n",
              "                                             storage                graphics  \\\n",
              "3  {'Объем накопителя HDD': None, 'Объем накопите...  intel uhd graphics 630   \n",
              "\n",
              "   ... ram_type ram_size hhd_value  ssd_value hhd_type stor_value ssd_type  \\\n",
              "3  ...    DDR 4        8       0.0      500.0               500.0      ssd   \n",
              "\n",
              "   stor_type graphics_range  warranty_clean  \n",
              "3        ssd          intel            36.0  \n",
              "\n",
              "[1 rows x 28 columns]"
            ],
            "text/html": [
              "\n",
              "  <div id=\"df-22fa1cb7-c64e-4d80-9aff-fd15e44f489b\" class=\"colab-df-container\">\n",
              "    <div>\n",
              "<style scoped>\n",
              "    .dataframe tbody tr th:only-of-type {\n",
              "        vertical-align: middle;\n",
              "    }\n",
              "\n",
              "    .dataframe tbody tr th {\n",
              "        vertical-align: top;\n",
              "    }\n",
              "\n",
              "    .dataframe thead th {\n",
              "        text-align: right;\n",
              "    }\n",
              "</style>\n",
              "<table border=\"1\" class=\"dataframe\">\n",
              "  <thead>\n",
              "    <tr style=\"text-align: right;\">\n",
              "      <th></th>\n",
              "      <th>product_id</th>\n",
              "      <th>title</th>\n",
              "      <th>price</th>\n",
              "      <th>sales</th>\n",
              "      <th>feedbacks</th>\n",
              "      <th>seller_rating</th>\n",
              "      <th>cpu</th>\n",
              "      <th>ram</th>\n",
              "      <th>storage</th>\n",
              "      <th>graphics</th>\n",
              "      <th>...</th>\n",
              "      <th>ram_type</th>\n",
              "      <th>ram_size</th>\n",
              "      <th>hhd_value</th>\n",
              "      <th>ssd_value</th>\n",
              "      <th>hhd_type</th>\n",
              "      <th>stor_value</th>\n",
              "      <th>ssd_type</th>\n",
              "      <th>stor_type</th>\n",
              "      <th>graphics_range</th>\n",
              "      <th>warranty_clean</th>\n",
              "    </tr>\n",
              "  </thead>\n",
              "  <tbody>\n",
              "    <tr>\n",
              "      <th>3</th>\n",
              "      <td>19347937</td>\n",
              "      <td>офисный компьютер robotcomp казначей v1</td>\n",
              "      <td>39237</td>\n",
              "      <td>Купили более 10 раз</td>\n",
              "      <td>1</td>\n",
              "      <td>4.7</td>\n",
              "      <td>{'Процессор_тип': 'Intel Core i5', 'Количество...</td>\n",
              "      <td>{'Тип оперативной памяти': 'DDR 4', 'Объем опе...</td>\n",
              "      <td>{'Объем накопителя HDD': None, 'Объем накопите...</td>\n",
              "      <td>intel uhd graphics 630</td>\n",
              "      <td>...</td>\n",
              "      <td>DDR 4</td>\n",
              "      <td>8</td>\n",
              "      <td>0.0</td>\n",
              "      <td>500.0</td>\n",
              "      <td></td>\n",
              "      <td>500.0</td>\n",
              "      <td>ssd</td>\n",
              "      <td>ssd</td>\n",
              "      <td>intel</td>\n",
              "      <td>36.0</td>\n",
              "    </tr>\n",
              "  </tbody>\n",
              "</table>\n",
              "<p>1 rows × 28 columns</p>\n",
              "</div>\n",
              "    <div class=\"colab-df-buttons\">\n",
              "\n",
              "  <div class=\"colab-df-container\">\n",
              "    <button class=\"colab-df-convert\" onclick=\"convertToInteractive('df-22fa1cb7-c64e-4d80-9aff-fd15e44f489b')\"\n",
              "            title=\"Convert this dataframe to an interactive table.\"\n",
              "            style=\"display:none;\">\n",
              "\n",
              "  <svg xmlns=\"http://www.w3.org/2000/svg\" height=\"24px\" viewBox=\"0 -960 960 960\">\n",
              "    <path d=\"M120-120v-720h720v720H120Zm60-500h600v-160H180v160Zm220 220h160v-160H400v160Zm0 220h160v-160H400v160ZM180-400h160v-160H180v160Zm440 0h160v-160H620v160ZM180-180h160v-160H180v160Zm440 0h160v-160H620v160Z\"/>\n",
              "  </svg>\n",
              "    </button>\n",
              "\n",
              "  <style>\n",
              "    .colab-df-container {\n",
              "      display:flex;\n",
              "      gap: 12px;\n",
              "    }\n",
              "\n",
              "    .colab-df-convert {\n",
              "      background-color: #E8F0FE;\n",
              "      border: none;\n",
              "      border-radius: 50%;\n",
              "      cursor: pointer;\n",
              "      display: none;\n",
              "      fill: #1967D2;\n",
              "      height: 32px;\n",
              "      padding: 0 0 0 0;\n",
              "      width: 32px;\n",
              "    }\n",
              "\n",
              "    .colab-df-convert:hover {\n",
              "      background-color: #E2EBFA;\n",
              "      box-shadow: 0px 1px 2px rgba(60, 64, 67, 0.3), 0px 1px 3px 1px rgba(60, 64, 67, 0.15);\n",
              "      fill: #174EA6;\n",
              "    }\n",
              "\n",
              "    .colab-df-buttons div {\n",
              "      margin-bottom: 4px;\n",
              "    }\n",
              "\n",
              "    [theme=dark] .colab-df-convert {\n",
              "      background-color: #3B4455;\n",
              "      fill: #D2E3FC;\n",
              "    }\n",
              "\n",
              "    [theme=dark] .colab-df-convert:hover {\n",
              "      background-color: #434B5C;\n",
              "      box-shadow: 0px 1px 3px 1px rgba(0, 0, 0, 0.15);\n",
              "      filter: drop-shadow(0px 1px 2px rgba(0, 0, 0, 0.3));\n",
              "      fill: #FFFFFF;\n",
              "    }\n",
              "  </style>\n",
              "\n",
              "    <script>\n",
              "      const buttonEl =\n",
              "        document.querySelector('#df-22fa1cb7-c64e-4d80-9aff-fd15e44f489b button.colab-df-convert');\n",
              "      buttonEl.style.display =\n",
              "        google.colab.kernel.accessAllowed ? 'block' : 'none';\n",
              "\n",
              "      async function convertToInteractive(key) {\n",
              "        const element = document.querySelector('#df-22fa1cb7-c64e-4d80-9aff-fd15e44f489b');\n",
              "        const dataTable =\n",
              "          await google.colab.kernel.invokeFunction('convertToInteractive',\n",
              "                                                    [key], {});\n",
              "        if (!dataTable) return;\n",
              "\n",
              "        const docLinkHtml = 'Like what you see? Visit the ' +\n",
              "          '<a target=\"_blank\" href=https://colab.research.google.com/notebooks/data_table.ipynb>data table notebook</a>'\n",
              "          + ' to learn more about interactive tables.';\n",
              "        element.innerHTML = '';\n",
              "        dataTable['output_type'] = 'display_data';\n",
              "        await google.colab.output.renderOutput(dataTable, element);\n",
              "        const docLink = document.createElement('div');\n",
              "        docLink.innerHTML = docLinkHtml;\n",
              "        element.appendChild(docLink);\n",
              "      }\n",
              "    </script>\n",
              "  </div>\n",
              "\n",
              "    </div>\n",
              "  </div>\n"
            ]
          },
          "metadata": {},
          "execution_count": 389
        }
      ],
      "source": [
        "# проверка того, как выглядит датасет\n",
        "df.head(1)"
      ]
    },
    {
      "cell_type": "code",
      "execution_count": 390,
      "metadata": {
        "colab": {
          "base_uri": "https://localhost:8080/"
        },
        "id": "O1A8AHxapXCI",
        "outputId": "ca4d91d1-76b8-4883-f483-57b2c7e3880b"
      },
      "outputs": [
        {
          "output_type": "stream",
          "name": "stdout",
          "text": [
            "<class 'pandas.core.frame.DataFrame'>\n",
            "Int64Index: 2904 entries, 3 to 4004\n",
            "Data columns (total 28 columns):\n",
            " #   Column            Non-Null Count  Dtype  \n",
            "---  ------            --------------  -----  \n",
            " 0   product_id        2904 non-null   int64  \n",
            " 1   title             2904 non-null   object \n",
            " 2   price             2904 non-null   int64  \n",
            " 3   sales             664 non-null    object \n",
            " 4   feedbacks         2904 non-null   int64  \n",
            " 5   seller_rating     2904 non-null   float64\n",
            " 6   cpu               2904 non-null   object \n",
            " 7   ram               2904 non-null   object \n",
            " 8   storage           2904 non-null   object \n",
            " 9   graphics          2904 non-null   object \n",
            " 10  operating_system  2904 non-null   object \n",
            " 11  warranty          1741 non-null   object \n",
            " 12  country           1389 non-null   object \n",
            " 13  sales_range       2904 non-null   float64\n",
            " 14  cpu_type          2904 non-null   object \n",
            " 15  cpu_t             2904 non-null   object \n",
            " 16  cpu_brand         2904 non-null   object \n",
            " 17  cores             2904 non-null   float64\n",
            " 18  ram_type          2904 non-null   object \n",
            " 19  ram_size          2904 non-null   Int64  \n",
            " 20  hhd_value         2904 non-null   float64\n",
            " 21  ssd_value         2904 non-null   float64\n",
            " 22  hhd_type          2904 non-null   object \n",
            " 23  stor_value        2904 non-null   float64\n",
            " 24  ssd_type          2904 non-null   object \n",
            " 25  stor_type         2904 non-null   object \n",
            " 26  graphics_range    2904 non-null   object \n",
            " 27  warranty_clean    911 non-null    float64\n",
            "dtypes: Int64(1), float64(7), int64(3), object(17)\n",
            "memory usage: 660.8+ KB\n"
          ]
        }
      ],
      "source": [
        "# проверка информации о датасете\n",
        "df.info()"
      ]
    },
    {
      "cell_type": "markdown",
      "metadata": {
        "id": "YBWV0A-hocCw"
      },
      "source": [
        "Удаляем колонки: cpu,\tram,\tstorage, warranty, sales, ssd_type, hhd_type, ssd_value, hhd_value, graphics, cpu_type, перезапишем индексы"
      ]
    },
    {
      "cell_type": "code",
      "execution_count": 391,
      "metadata": {
        "id": "0xqTmmO5os7Q"
      },
      "outputs": [],
      "source": [
        "columns = ['cpu', 'ram', 'storage', 'warranty', 'sales', 'ssd_type', 'hhd_type', 'ssd_value', 'hhd_value', 'graphics', 'cpu_type', 'country']"
      ]
    },
    {
      "cell_type": "code",
      "execution_count": 392,
      "metadata": {
        "id": "S7qc2P4Ro2q8"
      },
      "outputs": [],
      "source": [
        "df.drop(axis=1, columns=columns, inplace=True)"
      ]
    },
    {
      "cell_type": "code",
      "execution_count": 393,
      "metadata": {
        "id": "WirXA_HfpZRp"
      },
      "outputs": [],
      "source": [
        "df = df.reset_index()"
      ]
    },
    {
      "cell_type": "code",
      "execution_count": 394,
      "metadata": {
        "colab": {
          "base_uri": "https://localhost:8080/",
          "height": 170
        },
        "id": "z4qsSTtvp0H-",
        "outputId": "ff8057f6-081d-476f-bce6-9ea372a7cd90"
      },
      "outputs": [
        {
          "output_type": "execute_result",
          "data": {
            "text/plain": [
              "   index  product_id                                    title  price  \\\n",
              "0      3    19347937  офисный компьютер robotcomp казначей v1  39237   \n",
              "\n",
              "   feedbacks  seller_rating operating_system  sales_range          cpu_t  \\\n",
              "0          1            4.7  windows пробная          1.0  intel core i5   \n",
              "\n",
              "  cpu_brand  cores ram_type  ram_size  stor_value stor_type graphics_range  \\\n",
              "0     intel    6.0    DDR 4         8       500.0       ssd          intel   \n",
              "\n",
              "   warranty_clean  \n",
              "0            36.0  "
            ],
            "text/html": [
              "\n",
              "  <div id=\"df-61aa790c-1654-47b2-9e50-ca0f07844230\" class=\"colab-df-container\">\n",
              "    <div>\n",
              "<style scoped>\n",
              "    .dataframe tbody tr th:only-of-type {\n",
              "        vertical-align: middle;\n",
              "    }\n",
              "\n",
              "    .dataframe tbody tr th {\n",
              "        vertical-align: top;\n",
              "    }\n",
              "\n",
              "    .dataframe thead th {\n",
              "        text-align: right;\n",
              "    }\n",
              "</style>\n",
              "<table border=\"1\" class=\"dataframe\">\n",
              "  <thead>\n",
              "    <tr style=\"text-align: right;\">\n",
              "      <th></th>\n",
              "      <th>index</th>\n",
              "      <th>product_id</th>\n",
              "      <th>title</th>\n",
              "      <th>price</th>\n",
              "      <th>feedbacks</th>\n",
              "      <th>seller_rating</th>\n",
              "      <th>operating_system</th>\n",
              "      <th>sales_range</th>\n",
              "      <th>cpu_t</th>\n",
              "      <th>cpu_brand</th>\n",
              "      <th>cores</th>\n",
              "      <th>ram_type</th>\n",
              "      <th>ram_size</th>\n",
              "      <th>stor_value</th>\n",
              "      <th>stor_type</th>\n",
              "      <th>graphics_range</th>\n",
              "      <th>warranty_clean</th>\n",
              "    </tr>\n",
              "  </thead>\n",
              "  <tbody>\n",
              "    <tr>\n",
              "      <th>0</th>\n",
              "      <td>3</td>\n",
              "      <td>19347937</td>\n",
              "      <td>офисный компьютер robotcomp казначей v1</td>\n",
              "      <td>39237</td>\n",
              "      <td>1</td>\n",
              "      <td>4.7</td>\n",
              "      <td>windows пробная</td>\n",
              "      <td>1.0</td>\n",
              "      <td>intel core i5</td>\n",
              "      <td>intel</td>\n",
              "      <td>6.0</td>\n",
              "      <td>DDR 4</td>\n",
              "      <td>8</td>\n",
              "      <td>500.0</td>\n",
              "      <td>ssd</td>\n",
              "      <td>intel</td>\n",
              "      <td>36.0</td>\n",
              "    </tr>\n",
              "  </tbody>\n",
              "</table>\n",
              "</div>\n",
              "    <div class=\"colab-df-buttons\">\n",
              "\n",
              "  <div class=\"colab-df-container\">\n",
              "    <button class=\"colab-df-convert\" onclick=\"convertToInteractive('df-61aa790c-1654-47b2-9e50-ca0f07844230')\"\n",
              "            title=\"Convert this dataframe to an interactive table.\"\n",
              "            style=\"display:none;\">\n",
              "\n",
              "  <svg xmlns=\"http://www.w3.org/2000/svg\" height=\"24px\" viewBox=\"0 -960 960 960\">\n",
              "    <path d=\"M120-120v-720h720v720H120Zm60-500h600v-160H180v160Zm220 220h160v-160H400v160Zm0 220h160v-160H400v160ZM180-400h160v-160H180v160Zm440 0h160v-160H620v160ZM180-180h160v-160H180v160Zm440 0h160v-160H620v160Z\"/>\n",
              "  </svg>\n",
              "    </button>\n",
              "\n",
              "  <style>\n",
              "    .colab-df-container {\n",
              "      display:flex;\n",
              "      gap: 12px;\n",
              "    }\n",
              "\n",
              "    .colab-df-convert {\n",
              "      background-color: #E8F0FE;\n",
              "      border: none;\n",
              "      border-radius: 50%;\n",
              "      cursor: pointer;\n",
              "      display: none;\n",
              "      fill: #1967D2;\n",
              "      height: 32px;\n",
              "      padding: 0 0 0 0;\n",
              "      width: 32px;\n",
              "    }\n",
              "\n",
              "    .colab-df-convert:hover {\n",
              "      background-color: #E2EBFA;\n",
              "      box-shadow: 0px 1px 2px rgba(60, 64, 67, 0.3), 0px 1px 3px 1px rgba(60, 64, 67, 0.15);\n",
              "      fill: #174EA6;\n",
              "    }\n",
              "\n",
              "    .colab-df-buttons div {\n",
              "      margin-bottom: 4px;\n",
              "    }\n",
              "\n",
              "    [theme=dark] .colab-df-convert {\n",
              "      background-color: #3B4455;\n",
              "      fill: #D2E3FC;\n",
              "    }\n",
              "\n",
              "    [theme=dark] .colab-df-convert:hover {\n",
              "      background-color: #434B5C;\n",
              "      box-shadow: 0px 1px 3px 1px rgba(0, 0, 0, 0.15);\n",
              "      filter: drop-shadow(0px 1px 2px rgba(0, 0, 0, 0.3));\n",
              "      fill: #FFFFFF;\n",
              "    }\n",
              "  </style>\n",
              "\n",
              "    <script>\n",
              "      const buttonEl =\n",
              "        document.querySelector('#df-61aa790c-1654-47b2-9e50-ca0f07844230 button.colab-df-convert');\n",
              "      buttonEl.style.display =\n",
              "        google.colab.kernel.accessAllowed ? 'block' : 'none';\n",
              "\n",
              "      async function convertToInteractive(key) {\n",
              "        const element = document.querySelector('#df-61aa790c-1654-47b2-9e50-ca0f07844230');\n",
              "        const dataTable =\n",
              "          await google.colab.kernel.invokeFunction('convertToInteractive',\n",
              "                                                    [key], {});\n",
              "        if (!dataTable) return;\n",
              "\n",
              "        const docLinkHtml = 'Like what you see? Visit the ' +\n",
              "          '<a target=\"_blank\" href=https://colab.research.google.com/notebooks/data_table.ipynb>data table notebook</a>'\n",
              "          + ' to learn more about interactive tables.';\n",
              "        element.innerHTML = '';\n",
              "        dataTable['output_type'] = 'display_data';\n",
              "        await google.colab.output.renderOutput(dataTable, element);\n",
              "        const docLink = document.createElement('div');\n",
              "        docLink.innerHTML = docLinkHtml;\n",
              "        element.appendChild(docLink);\n",
              "      }\n",
              "    </script>\n",
              "  </div>\n",
              "\n",
              "    </div>\n",
              "  </div>\n"
            ]
          },
          "metadata": {},
          "execution_count": 394
        }
      ],
      "source": [
        "df.head(1)"
      ]
    },
    {
      "cell_type": "code",
      "execution_count": 395,
      "metadata": {
        "id": "bEH7DDrvluTS"
      },
      "outputs": [],
      "source": [
        "# удаление колонки index\n",
        "df.drop(axis=1, columns=['index'], inplace=True)"
      ]
    },
    {
      "cell_type": "code",
      "execution_count": 396,
      "metadata": {
        "id": "fLTyKLa2qkWM"
      },
      "outputs": [],
      "source": [
        "# сохранение датасета в формате csv\n",
        "df.to_csv('df_clear.csv', index=False)"
      ]
    },
    {
      "cell_type": "code",
      "execution_count": 397,
      "metadata": {
        "id": "z5kDB6updU6U"
      },
      "outputs": [],
      "source": [
        "# создание датасета, в котором есть данные о продажах\n",
        "df_sold = df[df['sales_range'] != 0]"
      ]
    },
    {
      "cell_type": "code",
      "execution_count": 398,
      "metadata": {
        "colab": {
          "base_uri": "https://localhost:8080/"
        },
        "id": "c-55LFZ_ehAo",
        "outputId": "6fe5b099-cf1c-41fa-9d39-989823aeda9f"
      },
      "outputs": [
        {
          "output_type": "execute_result",
          "data": {
            "text/plain": [
              "(748, 16)"
            ]
          },
          "metadata": {},
          "execution_count": 398
        }
      ],
      "source": [
        "# проверка размера датасета\n",
        "df_sold.shape"
      ]
    },
    {
      "cell_type": "code",
      "execution_count": 399,
      "metadata": {
        "id": "GvQPWq8xhVDr"
      },
      "outputs": [],
      "source": [
        "# сохранение датасета в формате csv\n",
        "df_sold.to_csv('df_sold_clear.csv', index=False)"
      ]
    },
    {
      "cell_type": "markdown",
      "metadata": {
        "id": "-ey79Xk53GT0"
      },
      "source": [
        "# **Вывод**"
      ]
    },
    {
      "cell_type": "markdown",
      "metadata": {
        "id": "zuVBfTa_3MIi"
      },
      "source": [
        "Провела очистку датасета для последующего его анализа."
      ]
    }
  ],
  "metadata": {
    "colab": {
      "provenance": []
    },
    "kernelspec": {
      "display_name": "Python 3",
      "name": "python3"
    },
    "language_info": {
      "name": "python"
    }
  },
  "nbformat": 4,
  "nbformat_minor": 0
}